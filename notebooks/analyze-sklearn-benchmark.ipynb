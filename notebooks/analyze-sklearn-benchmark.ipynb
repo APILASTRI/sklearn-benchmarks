{
 "cells": [
  {
   "cell_type": "markdown",
   "metadata": {
    "collapsed": true
   },
   "source": [
    "# Rank the parameters for each model"
   ]
  },
  {
   "cell_type": "code",
   "execution_count": 1,
   "metadata": {
    "collapsed": false
   },
   "outputs": [
    {
     "name": "stdout",
     "output_type": "stream",
     "text": [
      "['poker']\n"
     ]
    }
   ],
   "source": [
    "import pandas as pd\n",
    "\n",
    "data = pd.read_csv('sklearn-benchmark5-data-edited.tsv.gz', sep='\\t', names=['dataset',\n",
    "                                                                     'classifier',\n",
    "                                                                     'parameters',\n",
    "                                                                     'accuracy', \n",
    "                                                                     'macrof1',\n",
    "                                                                     'bal_accuracy']).fillna('')\n",
    "\n",
    "data = data.groupby(['classifier', 'dataset', 'parameters'])['accuracy'].mean().reset_index()\n",
    "data['accuracy'] = data['accuracy'].apply(lambda x: round(x, 3))\n",
    "\n"
   ]
  },
  {
   "cell_type": "code",
   "execution_count": 4,
   "metadata": {
    "collapsed": false
   },
   "outputs": [
    {
     "name": "stdout",
     "output_type": "stream",
     "text": [
      "['poker']\n",
      "number of data sets in svm_data: 165\n",
      "number of data sets: 166\n",
      "svm missing  ['poker']\n"
     ]
    }
   ],
   "source": [
    "# find data set SVM did not finish on\n",
    "svm_data = data[data['classifier']=='SVC']\n",
    "print([problem for problem,d in data.groupby('dataset') if problem not in svm_data['dataset'].unique()])\n",
    "\n",
    "print('number of data sets in svm_data:',len(svm_data['dataset'].unique()))\n",
    "print('number of data sets:',len(data['dataset'].unique()))\n",
    "print('svm missing ',[p for p in data['dataset'].unique() if p not in svm_data['dataset'].unique()])"
   ]
  },
  {
   "cell_type": "code",
   "execution_count": null,
   "metadata": {
    "collapsed": false
   },
   "outputs": [],
   "source": [
    "from collections import defaultdict\n",
    "from tqdm import tqdm\n",
    "import numpy as np\n",
    "\n",
    "model_param_ranks = defaultdict(list)\n",
    "\n",
    "for dataset, group_dataset in tqdm(data.groupby('dataset')):\n",
    "    num_scores = float(len(group_dataset['accuracy'].unique()))\n",
    "    accuracy_ranks = {}\n",
    "    \n",
    "    for rank, accuracy in enumerate(sorted(group_dataset['accuracy'].unique(), reverse=True)):\n",
    "        accuracy_ranks[accuracy] = (rank + 1) / num_scores\n",
    "    \n",
    "    for index, row in group_dataset.iterrows():\n",
    "        model_param_ranks['{}-{}'.format(row['classifier'],\n",
    "                                         row['parameters'])].append(accuracy_ranks[row['accuracy']])"
   ]
  },
  {
   "cell_type": "code",
   "execution_count": null,
   "metadata": {
    "collapsed": true
   },
   "outputs": [],
   "source": [
    "model_average_param_ranks = defaultdict(float)\n",
    "for model_param in model_param_ranks:\n",
    "    model_average_param_ranks[model_param] = np.mean(model_param_ranks[model_param])"
   ]
  },
  {
   "cell_type": "markdown",
   "metadata": {},
   "source": [
    "## Best params for each model from rankings"
   ]
  },
  {
   "cell_type": "code",
   "execution_count": null,
   "metadata": {
    "collapsed": false
   },
   "outputs": [],
   "source": [
    "models_seen = set()\n",
    "\n",
    "for model_param in sorted(model_average_param_ranks, key=model_average_param_ranks.get, reverse=False):\n",
    "    model = model_param.split('-')[0]\n",
    "    if model not in models_seen:\n",
    "        models_seen.add(model)\n",
    "    else:\n",
    "        continue\n",
    "\n",
    "    print('{}\\t{}'.format(round(model_average_param_ranks[model_param], 3), model_param))\n",
    "    \n",
    "    if len(models_seen) >= 15:\n",
    "        break"
   ]
  },
  {
   "cell_type": "markdown",
   "metadata": {},
   "source": [
    "## Average each model parameter's rankings"
   ]
  },
  {
   "cell_type": "code",
   "execution_count": null,
   "metadata": {
    "collapsed": false
   },
   "outputs": [],
   "source": [
    "from collections import defaultdict\n",
    "import numpy as np\n",
    "\n",
    "model_param_breakdown_rankings = defaultdict(lambda: defaultdict(lambda: defaultdict(list)))\n",
    "\n",
    "for model_param in model_average_param_ranks:\n",
    "    model = model_param.split('-')[0]\n",
    "    if model == 'GaussianNB':\n",
    "        continue\n",
    "    params = '-'.join(model_param.split('-')[1:])\n",
    "    params = params.split(',')\n",
    "    rank = model_average_param_ranks[model_param]\n",
    "    for param in params:\n",
    "        model_param_breakdown_rankings[model][param.split('=')[0]][param.split('=')[-1]].append(rank)\n",
    "\n",
    "model_param_breakdown_average_rankings = defaultdict(lambda: defaultdict(lambda: defaultdict(float)))\n",
    "\n",
    "for model in sorted(model_param_breakdown_rankings):\n",
    "    for param in model_param_breakdown_rankings[model]:\n",
    "        for param_val in model_param_breakdown_rankings[model][param]:\n",
    "            model_param_breakdown_average_rankings[model][param][param_val] = round(np.mean(\n",
    "                model_param_breakdown_rankings[model][param][param_val]), 3)"
   ]
  },
  {
   "cell_type": "code",
   "execution_count": null,
   "metadata": {
    "collapsed": false,
    "scrolled": true
   },
   "outputs": [],
   "source": [
    "for model in sorted(model_param_breakdown_average_rankings):\n",
    "    print(model)\n",
    "    print('--------------------')\n",
    "    for param in model_param_breakdown_average_rankings[model]:\n",
    "        print(param)\n",
    "        for param_val in sorted(model_param_breakdown_average_rankings[model][param],\n",
    "                                key=model_param_breakdown_average_rankings[model][param].get):\n",
    "            print('\\t={}{}{}'.format(param_val,\n",
    "                                   (' ' * 25)[:25 - len(param_val)],\n",
    "                                   model_param_breakdown_average_rankings[model][param][param_val]))\n",
    "            \n",
    "    print('')"
   ]
  },
  {
   "cell_type": "markdown",
   "metadata": {},
   "source": [
    "# Rank each model on a per-data set basis"
   ]
  },
  {
   "cell_type": "code",
   "execution_count": null,
   "metadata": {
    "collapsed": false
   },
   "outputs": [],
   "source": [
    "import pandas as pd\n",
    "\n",
    "data = pd.read_csv('sklearn-benchmark5-data-edited.tsv.gz', sep='\\t', names=['dataset',\n",
    "                                                                     'classifier',\n",
    "                                                                     'parameters',\n",
    "                                                                     'accuracy', \n",
    "                                                                     'macrof1',\n",
    "                                                                     'bal_accuracy']).fillna('')\n",
    "\n",
    "data = data.groupby(['classifier', 'dataset', 'parameters'])['accuracy'].mean().reset_index()\n",
    "data['accuracy'] = data['accuracy'].apply(lambda x: round(x, 3))"
   ]
  },
  {
   "cell_type": "code",
   "execution_count": null,
   "metadata": {
    "collapsed": false
   },
   "outputs": [],
   "source": [
    "from collections import defaultdict\n",
    "from tqdm import tqdm\n",
    "import numpy as np\n",
    "\n",
    "model_ranks = defaultdict(list)\n",
    "\n",
    "for dataset, group_dataset in tqdm(data.groupby('dataset')):\n",
    "    if len(group_dataset['classifier'].unique()) != 14:\n",
    "        continue\n",
    "    \n",
    "    num_scores = float(len(group_dataset['accuracy'].unique()))\n",
    "    accuracy_ranks = {}\n",
    "    \n",
    "    for rank, accuracy in enumerate(sorted(group_dataset['accuracy'].unique(), reverse=True)):\n",
    "        accuracy_ranks[accuracy] = (rank + 1) / num_scores\n",
    "    \n",
    "    for index, row in group_dataset.iterrows():\n",
    "        model_ranks[row['classifier']].append(accuracy_ranks[row['accuracy']])"
   ]
  },
  {
   "cell_type": "code",
   "execution_count": null,
   "metadata": {
    "collapsed": false
   },
   "outputs": [],
   "source": [
    "model_average_ranks = defaultdict(float)\n",
    "for model in model_ranks:\n",
    "    model_average_ranks[model] = np.mean(model_ranks[model])"
   ]
  },
  {
   "cell_type": "code",
   "execution_count": null,
   "metadata": {
    "collapsed": false
   },
   "outputs": [],
   "source": [
    "for model in sorted(model_average_ranks, key=model_average_ranks.get, reverse=False):\n",
    "    print('{}\\t{}'.format(round(model_average_ranks[model], 3), model))"
   ]
  },
  {
   "cell_type": "markdown",
   "metadata": {},
   "source": [
    "# How often is model X better than model Y?"
   ]
  },
  {
   "cell_type": "code",
   "execution_count": 12,
   "metadata": {
    "collapsed": false
   },
   "outputs": [
    {
     "name": "stdout",
     "output_type": "stream",
     "text": [
      "                                             dataset  \\\n",
      "0  GAMETES_Epistasis_2-Way_1000atts_0.4H_EDM-1_ED...   \n",
      "1  GAMETES_Epistasis_2-Way_1000atts_0.4H_EDM-1_ED...   \n",
      "2  GAMETES_Epistasis_2-Way_1000atts_0.4H_EDM-1_ED...   \n",
      "3  GAMETES_Epistasis_2-Way_1000atts_0.4H_EDM-1_ED...   \n",
      "4  GAMETES_Epistasis_2-Way_1000atts_0.4H_EDM-1_ED...   \n",
      "5  GAMETES_Epistasis_2-Way_1000atts_0.4H_EDM-1_ED...   \n",
      "6  GAMETES_Epistasis_2-Way_1000atts_0.4H_EDM-1_ED...   \n",
      "7  GAMETES_Epistasis_2-Way_1000atts_0.4H_EDM-1_ED...   \n",
      "8  GAMETES_Epistasis_2-Way_1000atts_0.4H_EDM-1_ED...   \n",
      "9  GAMETES_Epistasis_2-Way_1000atts_0.4H_EDM-1_ED...   \n",
      "\n",
      "                   classifier  bal_accuracy  \n",
      "0          AdaBoostClassifier         0.502  \n",
      "1                 BernoulliNB         0.504  \n",
      "2      DecisionTreeClassifier         0.532  \n",
      "3        ExtraTreesClassifier         0.552  \n",
      "4                  GaussianNB         0.499  \n",
      "5  GradientBoostingClassifier         0.542  \n",
      "6        KNeighborsClassifier         0.532  \n",
      "7                   LinearSVC         0.499  \n",
      "8          LogisticRegression         0.493  \n",
      "9               MultinomialNB         0.490  \n"
     ]
    }
   ],
   "source": [
    "import pandas as pd\n",
    "import pdb\n",
    "\n",
    "data = pd.read_csv('sklearn-benchmark5-data-edited.tsv.gz', sep='\\t', names=['dataset',\n",
    "                                                                     'classifier',\n",
    "                                                                     'parameters',\n",
    "                                                                     'accuracy', \n",
    "                                                                     'macrof1',\n",
    "                                                                     'bal_accuracy']).fillna('')\n",
    "\n",
    "data = data.groupby(['dataset','classifier'])['bal_accuracy'].max().reset_index()\n",
    "data['bal_accuracy'] = data['bal_accuracy'].apply(lambda x: round(x, 3))\n",
    "print(data[:10])\n",
    "# pdb.set_trace()"
   ]
  },
  {
   "cell_type": "code",
   "execution_count": 13,
   "metadata": {
    "collapsed": false
   },
   "outputs": [
    {
     "name": "stderr",
     "output_type": "stream",
     "text": [
      "  0%|          | 0/166 [00:00<?, ?it/s]/home/bill/anaconda3/lib/python3.5/site-packages/pandas/core/indexing.py:476: SettingWithCopyWarning: \n",
      "A value is trying to be set on a copy of a slice from a DataFrame.\n",
      "Try using .loc[row_indexer,col_indexer] = value instead\n",
      "\n",
      "See the caveats in the documentation: http://pandas.pydata.org/pandas-docs/stable/indexing.html#indexing-view-versus-copy\n",
      "  self.obj[item] = s\n",
      "100%|██████████| 166/166 [00:04<00:00, 33.84it/s]\n"
     ]
    }
   ],
   "source": [
    "from collections import defaultdict\n",
    "from tqdm import tqdm\n",
    "import numpy as np\n",
    "from itertools import combinations\n",
    "import pdb\n",
    "\n",
    "model_tourneys = defaultdict(int)\n",
    "all_models = sorted(data['classifier'].unique())\n",
    "\n",
    "for dataset, group_dataset in tqdm(data.groupby('dataset')):\n",
    "    \n",
    "#     pdb.set_trace()\n",
    "    group_dataset.loc[:,'bal_accuracy']= group_dataset['bal_accuracy'].values / group_dataset['bal_accuracy'].max()\n",
    "    group_dataset = group_dataset.set_index('classifier')['bal_accuracy'].to_dict()\n",
    "\n",
    "    for (model1, model2) in combinations(group_dataset.keys(), 2):\n",
    "        if group_dataset[model1] >= group_dataset[model2] + 0.01:\n",
    "            model_tourneys[(model1, model2)] += 1\n",
    "        elif group_dataset[model2] >= group_dataset[model1] + 0.01:\n",
    "            model_tourneys[(model2, model1)] += 1"
   ]
  },
  {
   "cell_type": "code",
   "execution_count": 14,
   "metadata": {
    "collapsed": false,
    "scrolled": true
   },
   "outputs": [
    {
     "name": "stdout",
     "output_type": "stream",
     "text": [
      "AdaBoostClassifier                    W / L\n",
      "--------------------\n",
      "\tBernoulliNB                   84 / 50\n",
      "\tDecisionTreeClassifier        43 / 76\n",
      "\tExtraTreesClassifier          26 / 108\n",
      "\tGaussianNB                    115 / 26\n",
      "\tGradientBoostingClassifier    1 / 138\n",
      "\tKNeighborsClassifier          66 / 75\n",
      "\tLinearSVC                     52 / 74\n",
      "\tLogisticRegression            54 / 70\n",
      "\tMultinomialNB                 117 / 37\n",
      "\tPassiveAggressiveClassifier   66 / 65\n",
      "\tRandomForestClassifier        15 / 116\n",
      "\tSGDClassifier                 44 / 88\n",
      "\tSVC                           24 / 105\n",
      "\n",
      "BernoulliNB                           W / L\n",
      "--------------------\n",
      "\tAdaBoostClassifier            50 / 84\n",
      "\tDecisionTreeClassifier        44 / 102\n",
      "\tExtraTreesClassifier          26 / 117\n",
      "\tGaussianNB                    100 / 39\n",
      "\tGradientBoostingClassifier    10 / 134\n",
      "\tKNeighborsClassifier          51 / 98\n",
      "\tLinearSVC                     43 / 87\n",
      "\tLogisticRegression            46 / 82\n",
      "\tMultinomialNB                 112 / 30\n",
      "\tPassiveAggressiveClassifier   50 / 77\n",
      "\tRandomForestClassifier        19 / 123\n",
      "\tSGDClassifier                 26 / 107\n",
      "\tSVC                           21 / 116\n",
      "\n",
      "DecisionTreeClassifier                W / L\n",
      "--------------------\n",
      "\tAdaBoostClassifier            76 / 43\n",
      "\tBernoulliNB                   102 / 44\n",
      "\tExtraTreesClassifier          25 / 94\n",
      "\tGaussianNB                    128 / 23\n",
      "\tGradientBoostingClassifier    8 / 130\n",
      "\tKNeighborsClassifier          79 / 60\n",
      "\tLinearSVC                     76 / 58\n",
      "\tLogisticRegression            83 / 61\n",
      "\tMultinomialNB                 129 / 25\n",
      "\tPassiveAggressiveClassifier   92 / 54\n",
      "\tRandomForestClassifier        10 / 107\n",
      "\tSGDClassifier                 71 / 72\n",
      "\tSVC                           36 / 85\n",
      "\n",
      "ExtraTreesClassifier                  W / L\n",
      "--------------------\n",
      "\tAdaBoostClassifier            108 / 26\n",
      "\tBernoulliNB                   117 / 26\n",
      "\tDecisionTreeClassifier        94 / 25\n",
      "\tGaussianNB                    145 / 7\n",
      "\tGradientBoostingClassifier    15 / 72\n",
      "\tKNeighborsClassifier          102 / 15\n",
      "\tLinearSVC                     91 / 36\n",
      "\tLogisticRegression            96 / 33\n",
      "\tMultinomialNB                 143 / 12\n",
      "\tPassiveAggressiveClassifier   104 / 32\n",
      "\tRandomForestClassifier        28 / 37\n",
      "\tSGDClassifier                 90 / 43\n",
      "\tSVC                           58 / 44\n",
      "\n",
      "GaussianNB                            W / L\n",
      "--------------------\n",
      "\tAdaBoostClassifier            26 / 115\n",
      "\tBernoulliNB                   39 / 100\n",
      "\tDecisionTreeClassifier        23 / 128\n",
      "\tExtraTreesClassifier          7 / 145\n",
      "\tGradientBoostingClassifier    0 / 153\n",
      "\tKNeighborsClassifier          20 / 128\n",
      "\tLinearSVC                     18 / 121\n",
      "\tLogisticRegression            22 / 119\n",
      "\tMultinomialNB                 76 / 62\n",
      "\tPassiveAggressiveClassifier   23 / 124\n",
      "\tRandomForestClassifier        6 / 148\n",
      "\tSGDClassifier                 16 / 139\n",
      "\tSVC                           9 / 142\n",
      "\n",
      "GradientBoostingClassifier            W / L\n",
      "--------------------\n",
      "\tAdaBoostClassifier            138 / 1\n",
      "\tBernoulliNB                   134 / 10\n",
      "\tDecisionTreeClassifier        130 / 8\n",
      "\tExtraTreesClassifier          72 / 15\n",
      "\tGaussianNB                    153 / 0\n",
      "\tKNeighborsClassifier          117 / 11\n",
      "\tLinearSVC                     116 / 12\n",
      "\tLogisticRegression            119 / 10\n",
      "\tMultinomialNB                 153 / 5\n",
      "\tPassiveAggressiveClassifier   127 / 9\n",
      "\tRandomForestClassifier        68 / 10\n",
      "\tSGDClassifier                 104 / 19\n",
      "\tSVC                           83 / 21\n",
      "\n",
      "KNeighborsClassifier                  W / L\n",
      "--------------------\n",
      "\tAdaBoostClassifier            75 / 66\n",
      "\tBernoulliNB                   98 / 51\n",
      "\tDecisionTreeClassifier        60 / 79\n",
      "\tExtraTreesClassifier          15 / 102\n",
      "\tGaussianNB                    128 / 20\n",
      "\tGradientBoostingClassifier    11 / 117\n",
      "\tLinearSVC                     67 / 70\n",
      "\tLogisticRegression            74 / 68\n",
      "\tMultinomialNB                 125 / 25\n",
      "\tPassiveAggressiveClassifier   77 / 54\n",
      "\tRandomForestClassifier        16 / 107\n",
      "\tSGDClassifier                 55 / 78\n",
      "\tSVC                           15 / 112\n",
      "\n",
      "LinearSVC                             W / L\n",
      "--------------------\n",
      "\tAdaBoostClassifier            74 / 52\n",
      "\tBernoulliNB                   87 / 43\n",
      "\tDecisionTreeClassifier        58 / 76\n",
      "\tExtraTreesClassifier          36 / 91\n",
      "\tGaussianNB                    121 / 18\n",
      "\tGradientBoostingClassifier    12 / 116\n",
      "\tKNeighborsClassifier          70 / 67\n",
      "\tLogisticRegression            35 / 15\n",
      "\tMultinomialNB                 134 / 15\n",
      "\tPassiveAggressiveClassifier   64 / 20\n",
      "\tRandomForestClassifier        26 / 99\n",
      "\tSGDClassifier                 18 / 63\n",
      "\tSVC                           25 / 96\n",
      "\n",
      "LogisticRegression                    W / L\n",
      "--------------------\n",
      "\tAdaBoostClassifier            70 / 54\n",
      "\tBernoulliNB                   82 / 46\n",
      "\tDecisionTreeClassifier        61 / 83\n",
      "\tExtraTreesClassifier          33 / 96\n",
      "\tGaussianNB                    119 / 22\n",
      "\tGradientBoostingClassifier    10 / 119\n",
      "\tKNeighborsClassifier          68 / 74\n",
      "\tLinearSVC                     15 / 35\n",
      "\tMultinomialNB                 127 / 18\n",
      "\tPassiveAggressiveClassifier   56 / 29\n",
      "\tRandomForestClassifier        25 / 105\n",
      "\tSGDClassifier                 16 / 80\n",
      "\tSVC                           19 / 106\n",
      "\n",
      "MultinomialNB                         W / L\n",
      "--------------------\n",
      "\tAdaBoostClassifier            37 / 117\n",
      "\tBernoulliNB                   30 / 112\n",
      "\tDecisionTreeClassifier        25 / 129\n",
      "\tExtraTreesClassifier          12 / 143\n",
      "\tGaussianNB                    62 / 76\n",
      "\tGradientBoostingClassifier    5 / 153\n",
      "\tKNeighborsClassifier          25 / 125\n",
      "\tLinearSVC                     15 / 134\n",
      "\tLogisticRegression            18 / 127\n",
      "\tPassiveAggressiveClassifier   19 / 135\n",
      "\tRandomForestClassifier        11 / 145\n",
      "\tSGDClassifier                 10 / 144\n",
      "\tSVC                           11 / 144\n",
      "\n",
      "PassiveAggressiveClassifier           W / L\n",
      "--------------------\n",
      "\tAdaBoostClassifier            65 / 66\n",
      "\tBernoulliNB                   77 / 50\n",
      "\tDecisionTreeClassifier        54 / 92\n",
      "\tExtraTreesClassifier          32 / 104\n",
      "\tGaussianNB                    124 / 23\n",
      "\tGradientBoostingClassifier    9 / 127\n",
      "\tKNeighborsClassifier          54 / 77\n",
      "\tLinearSVC                     20 / 64\n",
      "\tLogisticRegression            29 / 56\n",
      "\tMultinomialNB                 135 / 19\n",
      "\tRandomForestClassifier        23 / 114\n",
      "\tSGDClassifier                 0 / 103\n",
      "\tSVC                           16 / 108\n",
      "\n",
      "RandomForestClassifier                W / L\n",
      "--------------------\n",
      "\tAdaBoostClassifier            116 / 15\n",
      "\tBernoulliNB                   123 / 19\n",
      "\tDecisionTreeClassifier        107 / 10\n",
      "\tExtraTreesClassifier          37 / 28\n",
      "\tGaussianNB                    148 / 6\n",
      "\tGradientBoostingClassifier    10 / 68\n",
      "\tKNeighborsClassifier          107 / 16\n",
      "\tLinearSVC                     99 / 26\n",
      "\tLogisticRegression            105 / 25\n",
      "\tMultinomialNB                 145 / 11\n",
      "\tPassiveAggressiveClassifier   114 / 23\n",
      "\tSGDClassifier                 93 / 33\n",
      "\tSVC                           56 / 41\n",
      "\n",
      "SGDClassifier                         W / L\n",
      "--------------------\n",
      "\tAdaBoostClassifier            88 / 44\n",
      "\tBernoulliNB                   107 / 26\n",
      "\tDecisionTreeClassifier        72 / 71\n",
      "\tExtraTreesClassifier          43 / 90\n",
      "\tGaussianNB                    139 / 16\n",
      "\tGradientBoostingClassifier    19 / 104\n",
      "\tKNeighborsClassifier          78 / 55\n",
      "\tLinearSVC                     63 / 18\n",
      "\tLogisticRegression            80 / 16\n",
      "\tMultinomialNB                 144 / 10\n",
      "\tPassiveAggressiveClassifier   103 / 0\n",
      "\tRandomForestClassifier        33 / 93\n",
      "\tSVC                           29 / 84\n",
      "\n",
      "SVC                                   W / L\n",
      "--------------------\n",
      "\tAdaBoostClassifier            105 / 24\n",
      "\tBernoulliNB                   116 / 21\n",
      "\tDecisionTreeClassifier        85 / 36\n",
      "\tExtraTreesClassifier          44 / 58\n",
      "\tGaussianNB                    142 / 9\n",
      "\tGradientBoostingClassifier    21 / 83\n",
      "\tKNeighborsClassifier          112 / 15\n",
      "\tLinearSVC                     96 / 25\n",
      "\tLogisticRegression            106 / 19\n",
      "\tMultinomialNB                 144 / 11\n",
      "\tPassiveAggressiveClassifier   108 / 16\n",
      "\tRandomForestClassifier        41 / 56\n",
      "\tSGDClassifier                 84 / 29\n",
      "\n"
     ]
    }
   ],
   "source": [
    "from itertools import product\n",
    "\n",
    "for model1 in all_models:\n",
    "    print('{}{}W / L'.format(model1,\n",
    "                               ' ' * (38 - len(model1))))\n",
    "    print('--------------------')\n",
    "    for model2 in all_models:\n",
    "        if model1 == model2:\n",
    "            continue\n",
    "        print('\\t{}{}{} / {}'.format(model2,\n",
    "                                     ' ' * (30 - len(model2)),\n",
    "                                     model_tourneys[(model1, model2)],\n",
    "                                     model_tourneys[(model2, model1)]))\n",
    "    print('')"
   ]
  },
  {
   "cell_type": "code",
   "execution_count": 17,
   "metadata": {
    "collapsed": false
   },
   "outputs": [],
   "source": [
    "from itertools import product\n",
    "import numpy as np\n",
    "\n",
    "model_tourney_matrix = []\n",
    "\n",
    "for pair in list(product(all_models, all_models)):\n",
    "    model_tourney_matrix.append(model_tourneys[pair])\n",
    "    \n",
    "model_tourney_matrix = np.array(model_tourney_matrix).reshape((14, 14))\n",
    "all_models = list(np.array(all_models)[np.argsort(model_tourney_matrix.sum(axis=1))[::-1]])\n",
    "model_tourney_matrix = model_tourney_matrix[:, np.argsort(model_tourney_matrix.sum(axis=1))[::-1]]"
   ]
  },
  {
   "cell_type": "code",
   "execution_count": 18,
   "metadata": {
    "collapsed": false
   },
   "outputs": [
    {
     "data": {
      "text/plain": [
       "''"
      ]
     },
     "execution_count": 18,
     "metadata": {},
     "output_type": "execute_result"
    },
    {
     "data": {
      "image/png": "[encoded data removed]",
      "text/plain": [
       "<matplotlib.figure.Figure at 0x7f90c7957668>"
      ]
     },
     "metadata": {},
     "output_type": "display_data"
    }
   ],
   "source": [
    "%matplotlib inline\n",
    "import matplotlib.pyplot as plt\n",
    "import seaborn as sb\n",
    "model_nice_dict = {\n",
    "    'AdaBoostClassifier': 'AB',\n",
    "    'BernoulliNB': 'BNB',\n",
    "    'LinearSVC': 'LSVC',\n",
    "    'LogisticRegression': 'LR',\n",
    "    'MultinomialNB': 'MNB',\n",
    "    'PassiveAggressiveClassifier': 'PAC',\n",
    "    'SGDClassifier': 'SGD',\n",
    "    'GaussianNB': 'GNB',\n",
    "    'DecisionTreeClassifier': 'DT',\n",
    "    'ExtraTreesClassifier': 'ET',\n",
    "    'RandomForestClassifier': 'RF',\n",
    "    'GradientBoostingClassifier':'GB',\n",
    "    'KNeighborsClassifier': 'KNN',\n",
    "    'SVC': 'SVC'\n",
    "}\n",
    "model_nice_dict_y = {\n",
    "    'AdaBoostClassifier': 'AdaBoost',\n",
    "    'BernoulliNB': 'Bernoulli NB',\n",
    "    'LinearSVC': 'Linear SVC',\n",
    "    'LogisticRegression': 'Logistic Regression',\n",
    "    'MultinomialNB': 'Multinomial NB',\n",
    "    'PassiveAggressiveClassifier': 'Passive Aggressive',\n",
    "    'SGDClassifier': 'SGD',\n",
    "    'GaussianNB': 'Gaussian NB',\n",
    "    'DecisionTreeClassifier': 'Decision Tree',\n",
    "    'ExtraTreesClassifier': 'Extra Trees',\n",
    "    'RandomForestClassifier': 'Random Forest',\n",
    "    'GradientBoostingClassifier':'Gradient Boosting',\n",
    "    'KNeighborsClassifier': 'K-Nearest Neighbor',\n",
    "    'SVC': 'SVC'\n",
    "}\n",
    "\n",
    "model_nice = []\n",
    "model_nice_y = []\n",
    "for m in all_models:\n",
    "    model_nice.append(model_nice_dict[m])\n",
    "    model_nice_y.append(model_nice_dict_y[m])\n",
    "    \n",
    "plt.figure(figsize=(10, 10))\n",
    "sb.heatmap(model_tourney_matrix, square=True, annot=True, fmt='0.0f',\n",
    "           xticklabels=model_nice, yticklabels=model_nice_y,cbar_kws = {'shrink': 0.6})\n",
    "plt.xticks(fontsize=12)\n",
    "plt.yticks(fontsize=12)\n",
    "plt.xlabel('Losses', fontsize=14)\n",
    "plt.ylabel('Wins', fontsize=14)\n",
    "plt.title('How many times model X outperformed model Y (out of 166)', fontsize=18)\n",
    "h = plt.gcf()\n",
    "plt.tight_layout()\n",
    "h.savefig('figs/model_outperformance.pdf')\n",
    "#plt.savefig('figures/sklearn-model-x-outperform-model-y.pdf', bbox_inches='tight')\n",
    ";"
   ]
  },
  {
   "cell_type": "markdown",
   "metadata": {},
   "source": [
    "# How many models do we need to cover all data sets?"
   ]
  },
  {
   "cell_type": "code",
   "execution_count": null,
   "metadata": {
    "collapsed": false
   },
   "outputs": [],
   "source": [
    "import pandas as pd\n",
    "import pdb\n",
    "\n",
    "data = pd.read_csv('sklearn-benchmark5-data-edited.tsv.gz', sep='\\t', names=['dataset',\n",
    "                                                                     'classifier',\n",
    "                                                                     'parameters',\n",
    "                                                                     'accuracy', \n",
    "                                                                     'macrof1',\n",
    "                                                                     'bal_accuracy']).fillna('')\n",
    "\n",
    "data = data.groupby(['dataset','classifier'])['bal_accuracy'].max().reset_index()\n",
    "data['bal_accuracy'] = data['bal_accuracy'].apply(lambda x: round(x, 3))\n",
    "print(data[:10])"
   ]
  },
  {
   "cell_type": "code",
   "execution_count": null,
   "metadata": {
    "collapsed": false
   },
   "outputs": [],
   "source": [
    "from collections import defaultdict\n",
    "from tqdm import tqdm\n",
    "import numpy as np\n",
    "\n",
    "dataset_best_models = defaultdict(list)\n",
    "model_counts = defaultdict(int)\n",
    "\n",
    "for dataset, group_dataset in data.groupby('dataset'):\n",
    "    group_dataset['accuracy'] /= group_dataset['accuracy'].max()\n",
    "    dataset_best_models[dataset] = group_dataset.loc[\n",
    "        group_dataset['accuracy'] >= 0.99, 'classifier'].values\n",
    "\n",
    "for dataset in dataset_best_models:\n",
    "    for model in dataset_best_models[dataset]:\n",
    "        model_counts[model] += 1\n",
    "print('Model','&','Data Set Coverage','\\\\\\\\ \\\\hline')\n",
    "for model in sorted(model_counts, key=model_counts.get, reverse=True):\n",
    "    print(model,'&',model_counts[model],'\\\\\\\\')"
   ]
  },
  {
   "cell_type": "code",
   "execution_count": null,
   "metadata": {
    "collapsed": false
   },
   "outputs": [],
   "source": [
    "dataset_best_models = defaultdict(list)\n",
    "model_counts = defaultdict(int)\n",
    "\n",
    "for dataset, group_dataset in data.groupby('dataset'):\n",
    "    group_dataset['accuracy'] /= group_dataset['accuracy'].max()\n",
    "    dataset_best_models[dataset] = group_dataset.loc[\n",
    "        group_dataset['accuracy'] >= 0.99, 'classifier'].values\n",
    "\n",
    "for dataset in dataset_best_models:\n",
    "    for model in dataset_best_models[dataset]:\n",
    "        model_counts[model] += 1\n",
    "\n",
    "dataset_exclude_set = set()\n",
    "top_models = []\n",
    "\n",
    "while len(dataset_exclude_set) != len(data['dataset'].unique()):\n",
    "    next_top_model = sorted(model_counts, key=model_counts.get, reverse=True)[0]\n",
    "    top_models.append((model_counts[next_top_model], next_top_model))\n",
    "    \n",
    "    for dataset in dataset_best_models:\n",
    "        if next_top_model in dataset_best_models[dataset]:\n",
    "            dataset_exclude_set.add(dataset)\n",
    "\n",
    "    dataset_best_models = defaultdict(list)\n",
    "    model_counts = defaultdict(int)\n",
    "    \n",
    "    for dataset, group_dataset in data.groupby('dataset'):\n",
    "        if dataset in dataset_exclude_set:\n",
    "            continue\n",
    "        group_dataset['accuracy'] /= group_dataset['accuracy'].max()\n",
    "        dataset_best_models[dataset] = group_dataset.loc[\n",
    "            group_dataset['accuracy'] >= 0.99, 'classifier'].values\n",
    "        \n",
    "    for dataset in dataset_best_models:\n",
    "        for model in dataset_best_models[dataset]:\n",
    "            model_counts[model] += 1"
   ]
  },
  {
   "cell_type": "code",
   "execution_count": null,
   "metadata": {
    "collapsed": false
   },
   "outputs": [],
   "source": [
    "top_models"
   ]
  },
  {
   "cell_type": "markdown",
   "metadata": {},
   "source": [
    "### Same analysis but excluding SGDClassifier"
   ]
  },
  {
   "cell_type": "code",
   "execution_count": null,
   "metadata": {
    "collapsed": false
   },
   "outputs": [],
   "source": [
    "dataset_best_models = defaultdict(list)\n",
    "model_counts = defaultdict(int)\n",
    "\n",
    "for dataset, group_dataset in data.loc[data['classifier'] != 'SGDClassifier'].groupby('dataset'):\n",
    "    group_dataset['accuracy'] /= group_dataset['accuracy'].max()\n",
    "    dataset_best_models[dataset] = group_dataset.loc[\n",
    "        group_dataset['accuracy'] >= 0.99, 'classifier'].values\n",
    "\n",
    "for dataset in dataset_best_models:\n",
    "    for model in dataset_best_models[dataset]:\n",
    "        model_counts[model] += 1\n",
    "\n",
    "dataset_exclude_set = set()\n",
    "top_models = []\n",
    "\n",
    "while len(dataset_exclude_set) != len(data['dataset'].unique()):\n",
    "    next_top_model = sorted(model_counts, key=model_counts.get, reverse=True)[0]\n",
    "    top_models.append((model_counts[next_top_model], next_top_model))\n",
    "    \n",
    "    for dataset in dataset_best_models:\n",
    "        if next_top_model in dataset_best_models[dataset]:\n",
    "            dataset_exclude_set.add(dataset)\n",
    "\n",
    "    dataset_best_models = defaultdict(list)\n",
    "    model_counts = defaultdict(int)\n",
    "    \n",
    "    for dataset, group_dataset in data.loc[data['classifier'] != 'SGDClassifier'].groupby('dataset'):\n",
    "        if dataset in dataset_exclude_set:\n",
    "            continue\n",
    "        group_dataset['accuracy'] /= group_dataset['accuracy'].max()\n",
    "        dataset_best_models[dataset] = group_dataset.loc[\n",
    "            group_dataset['accuracy'] >= 0.99, 'classifier'].values\n",
    "        \n",
    "    for dataset in dataset_best_models:\n",
    "        for model in dataset_best_models[dataset]:\n",
    "            model_counts[model] += 1"
   ]
  },
  {
   "cell_type": "code",
   "execution_count": null,
   "metadata": {
    "collapsed": false
   },
   "outputs": [],
   "source": [
    "top_models"
   ]
  },
  {
   "cell_type": "markdown",
   "metadata": {},
   "source": [
    "# How many model-parameter combinations do we need to cover all data sets?"
   ]
  },
  {
   "cell_type": "code",
   "execution_count": 47,
   "metadata": {
    "collapsed": false
   },
   "outputs": [
    {
     "name": "stdout",
     "output_type": "stream",
     "text": [
      "                                             dataset          classifier  \\\n",
      "0  GAMETES_Epistasis_2-Way_1000atts_0.4H_EDM-1_ED...  AdaBoostClassifier   \n",
      "1  GAMETES_Epistasis_2-Way_1000atts_0.4H_EDM-1_ED...  AdaBoostClassifier   \n",
      "2  GAMETES_Epistasis_2-Way_1000atts_0.4H_EDM-1_ED...  AdaBoostClassifier   \n",
      "3  GAMETES_Epistasis_2-Way_1000atts_0.4H_EDM-1_ED...  AdaBoostClassifier   \n",
      "4  GAMETES_Epistasis_2-Way_1000atts_0.4H_EDM-1_ED...  AdaBoostClassifier   \n",
      "5  GAMETES_Epistasis_2-Way_1000atts_0.4H_EDM-1_ED...  AdaBoostClassifier   \n",
      "6  GAMETES_Epistasis_2-Way_1000atts_0.4H_EDM-1_ED...  AdaBoostClassifier   \n",
      "7  GAMETES_Epistasis_2-Way_1000atts_0.4H_EDM-1_ED...  AdaBoostClassifier   \n",
      "8  GAMETES_Epistasis_2-Way_1000atts_0.4H_EDM-1_ED...  AdaBoostClassifier   \n",
      "9  GAMETES_Epistasis_2-Way_1000atts_0.4H_EDM-1_ED...  AdaBoostClassifier   \n",
      "\n",
      "                             parameters  bal_accuracy  \\\n",
      "0    learning_rate=0.01,n_estimators=10         0.479   \n",
      "1   learning_rate=0.01,n_estimators=100         0.477   \n",
      "2  learning_rate=0.01,n_estimators=1000         0.488   \n",
      "3    learning_rate=0.01,n_estimators=50         0.484   \n",
      "4   learning_rate=0.01,n_estimators=500         0.496   \n",
      "5     learning_rate=0.1,n_estimators=10         0.483   \n",
      "6    learning_rate=0.1,n_estimators=100         0.492   \n",
      "7   learning_rate=0.1,n_estimators=1000         0.479   \n",
      "8     learning_rate=0.1,n_estimators=50         0.493   \n",
      "9    learning_rate=0.1,n_estimators=500         0.466   \n",
      "\n",
      "                                   classifier-params  \n",
      "0  AdaBoostClassifier-learning_rate=0.01,n_estima...  \n",
      "1  AdaBoostClassifier-learning_rate=0.01,n_estima...  \n",
      "2  AdaBoostClassifier-learning_rate=0.01,n_estima...  \n",
      "3  AdaBoostClassifier-learning_rate=0.01,n_estima...  \n",
      "4  AdaBoostClassifier-learning_rate=0.01,n_estima...  \n",
      "5  AdaBoostClassifier-learning_rate=0.1,n_estimat...  \n",
      "6  AdaBoostClassifier-learning_rate=0.1,n_estimat...  \n",
      "7  AdaBoostClassifier-learning_rate=0.1,n_estimat...  \n",
      "8  AdaBoostClassifier-learning_rate=0.1,n_estimat...  \n",
      "9  AdaBoostClassifier-learning_rate=0.1,n_estimat...  \n"
     ]
    }
   ],
   "source": [
    "import pandas as pd\n",
    "import pdb\n",
    "\n",
    "data = pd.read_csv('sklearn-benchmark5-data-edited.tsv.gz', sep='\\t', names=['dataset',\n",
    "                                                                     'classifier',\n",
    "                                                                     'parameters',\n",
    "                                                                     'accuracy', \n",
    "                                                                     'macrof1',\n",
    "                                                                     'bal_accuracy']).fillna('')\n",
    "\n",
    "data = data.groupby(['dataset','classifier','parameters'])['bal_accuracy'].max().reset_index()\n",
    "data = data[data['classifier']!='LinearSVC']\n",
    "data['classifier-params'] = data['classifier'].values + '-' + data['parameters'].values\n",
    "data['bal_accuracy'] = data['bal_accuracy'].apply(lambda x: round(x, 3))\n",
    "print(data[:10])"
   ]
  },
  {
   "cell_type": "code",
   "execution_count": 48,
   "metadata": {
    "collapsed": false
   },
   "outputs": [
    {
     "name": "stderr",
     "output_type": "stream",
     "text": [
      "/home/bill/anaconda3/lib/python3.5/site-packages/pandas/core/indexing.py:476: SettingWithCopyWarning: \n",
      "A value is trying to be set on a copy of a slice from a DataFrame.\n",
      "Try using .loc[row_indexer,col_indexer] = value instead\n",
      "\n",
      "See the caveats in the documentation: http://pandas.pydata.org/pandas-docs/stable/indexing.html#indexing-view-versus-copy\n",
      "  self.obj[item] = s\n"
     ]
    }
   ],
   "source": [
    "from collections import defaultdict \n",
    "\n",
    "dataset_best_models = defaultdict(list)\n",
    "model_counts = defaultdict(int)\n",
    "\n",
    "for dataset, group_dataset in data.groupby('dataset'):\n",
    "    group_dataset.loc[:,'bal_accuracy'] = group_dataset['bal_accuracy'].values / group_dataset['bal_accuracy'].max()\n",
    "    dataset_best_models[dataset] = group_dataset.loc[\n",
    "        group_dataset['bal_accuracy'] >= 0.95, 'classifier-params'].values\n",
    "\n",
    "for dataset in dataset_best_models:\n",
    "    for model in dataset_best_models[dataset]:\n",
    "        model_counts[model] += 1\n",
    "\n",
    "dataset_exclude_set = set()\n",
    "top_models = []\n",
    "\n",
    "while len(dataset_exclude_set) != len(data['dataset'].unique()):\n",
    "    next_top_model = sorted(model_counts, key=model_counts.get, reverse=True)[0]\n",
    "    top_models.append((model_counts[next_top_model], next_top_model))\n",
    "    \n",
    "    for dataset in dataset_best_models:\n",
    "        if next_top_model in dataset_best_models[dataset]:\n",
    "            dataset_exclude_set.add(dataset)\n",
    "\n",
    "    dataset_best_models = defaultdict(list)\n",
    "    model_counts = defaultdict(int)\n",
    "    \n",
    "    for dataset, group_dataset in data.groupby('dataset'):\n",
    "        if dataset in dataset_exclude_set:\n",
    "            continue\n",
    "        group_dataset.loc[:,'bal_accuracy'] = group_dataset.loc[:,'bal_accuracy'].values / group_dataset['bal_accuracy'].max()\n",
    "        dataset_best_models[dataset] = group_dataset.loc[\n",
    "            group_dataset['bal_accuracy'] >= 0.95, 'classifier-params'].values\n",
    "        \n",
    "    for dataset in dataset_best_models:\n",
    "        for model in dataset_best_models[dataset]:\n",
    "            model_counts[model] += 1 "
   ]
  },
  {
   "cell_type": "code",
   "execution_count": 49,
   "metadata": {
    "collapsed": false,
    "scrolled": false
   },
   "outputs": [
    {
     "data": {
      "text/plain": [
       "[(110,\n",
       "  'RandomForestClassifier-n_estimators=500,min_weight_fraction_leaf=0.0,max_features=0.5,criterion=entropy'),\n",
       " (14,\n",
       "  'GradientBoostingClassifier-loss=deviance,learning_rate=0.5,n_estimators=100,max_depth=2,max_features=0.9'),\n",
       " (9, 'LogisticRegression-C=19.0,penalty=l1,fit_intercept=False,dual=False,'),\n",
       " (7,\n",
       "  'GradientBoostingClassifier-loss=deviance,learning_rate=0.5,n_estimators=100,max_depth=5,max_features=0.8'),\n",
       " (5, 'SVC-C=0.01,gamma=auto,kernel=poly,degree=3,coef0=100.0,'),\n",
       " (4, 'BernoulliNB-alpha=0.25,fit_prior=False,binarize=0.25'),\n",
       " (4,\n",
       "  'ExtraTreesClassifier-n_estimators=100,min_weight_fraction_leaf=0.0,max_features=0.5,criterion=gini'),\n",
       " (3, 'SVC-C=50.0,gamma=0.1,kernel=sigmoid,degree=2,coef0=0.1,'),\n",
       " (2,\n",
       "  'GradientBoostingClassifier-loss=deviance,learning_rate=0.1,n_estimators=1000,max_depth=1,max_features=0.9'),\n",
       " (2,\n",
       "  'SGDClassifier-loss=hinge,penalty=elasticnet,alpha=0.01,learning_rate=invscaling,fit_intercept=False,l1_ratio=0.9,eta0=0.01,power_t=0.1'),\n",
       " (1,\n",
       "  'SGDClassifier-loss=modified_huber,penalty=elasticnet,alpha=0.0001,learning_rate=constant,fit_intercept=False,l1_ratio=0.15,eta0=0.1,power_t=0.5'),\n",
       " (1,\n",
       "  'SGDClassifier-loss=modified_huber,penalty=elasticnet,alpha=1e-06,learning_rate=invscaling,fit_intercept=True,l1_ratio=0.5,eta0=0.01,power_t=0.5'),\n",
       " (1,\n",
       "  'ExtraTreesClassifier-n_estimators=500,min_weight_fraction_leaf=0.25,max_features=None,criterion=gini'),\n",
       " (1,\n",
       "  'GradientBoostingClassifier-loss=exponential,learning_rate=1.0,n_estimators=10,max_depth=1,max_features=0.9'),\n",
       " (1,\n",
       "  'ExtraTreesClassifier-n_estimators=100,min_weight_fraction_leaf=0.0,max_features=0.75,criterion=entropy'),\n",
       " (1, 'SVC-C=1.0,gamma=10.0,kernel=sigmoid,degree=2,coef0=10.0,')]"
      ]
     },
     "execution_count": 49,
     "metadata": {},
     "output_type": "execute_result"
    }
   ],
   "source": [
    "\n",
    "top_models"
   ]
  },
  {
   "cell_type": "markdown",
   "metadata": {},
   "source": [
    "# Model/data biclustering analysis\n",
    "\n",
    "Create matrix of data sets vs. best model accuracy on those data sets.\n",
    "\n",
    "Cluster the matrix.\n",
    "\n",
    "\n",
    "\n"
   ]
  },
  {
   "cell_type": "code",
   "execution_count": 1,
   "metadata": {
    "collapsed": false
   },
   "outputs": [
    {
     "name": "stdout",
     "output_type": "stream",
     "text": [
      "loaded  165 datasets and  13 classifiers\n"
     ]
    }
   ],
   "source": [
    "import pandas as pd\n",
    "\n",
    "\n",
    "data = pd.read_csv('sklearn-benchmark5-data-edited.tsv.gz', sep='\\t', names=['dataset',\n",
    "                                                                     'classifier',\n",
    "                                                                     'parameters',\n",
    "                                                                     'accuracy', \n",
    "                                                                     'macrof1',\n",
    "                                                                     'bal_accuracy']).fillna('')\n",
    "\n",
    "data = data.groupby(['classifier', 'dataset'])['bal_accuracy'].max().reset_index()\n",
    "# print(\"classifiers before drop:\",data['classifier'].unique())\n",
    "# data = data[data['classifier']!='LinearSVC']\n",
    "# data = data[data['classifier']!='SVC']\n",
    "print('loaded ',data['dataset'].unique().shape[0],'datasets and ', data['classifier'].unique().shape[0],'classifiers')\n",
    "# data['classifier-params'] = data['classifier'].values + '-' + data['parameters'].values\n",
    "data['bal_accuracy'] = data['bal_accuracy'].apply(lambda x: round(x, 3))"
   ]
  },
  {
   "cell_type": "code",
   "execution_count": 2,
   "metadata": {
    "collapsed": false
   },
   "outputs": [
    {
     "name": "stderr",
     "output_type": "stream",
     "text": [
      "100%|██████████| 165/165 [00:00<00:00, 3299.85it/s]\n"
     ]
    },
    {
     "name": "stdout",
     "output_type": "stream",
     "text": [
      "clf: GAMETES_Epistasis_2-Way_1000atts_0.4H_EDM-1_EDM-1_1\n",
      "clf: GAMETES_Epistasis_2-Way_20atts_0.1H_EDM-1_1\n",
      "clf: GAMETES_Epistasis_2-Way_20atts_0.4H_EDM-1_1\n",
      "clf: GAMETES_Epistasis_3-Way_20atts_0.2H_EDM-1_1\n",
      "clf: GAMETES_Heterogeneity_20atts_1600_Het_0.4_0.2_50_EDM-2_001\n",
      "clf: GAMETES_Heterogeneity_20atts_1600_Het_0.4_0.2_75_EDM-2_001\n",
      "clf: Hill_Valley_with_noise\n",
      "clf: Hill_Valley_without_noise\n",
      "clf: adult\n",
      "clf: agaricus-lepiota\n",
      "clf: allbp\n",
      "clf: allhyper\n",
      "clf: allhypo\n",
      "clf: allrep\n",
      "clf: analcatdata_aids\n",
      "clf: analcatdata_asbestos\n",
      "clf: analcatdata_authorship\n",
      "clf: analcatdata_bankruptcy\n",
      "clf: analcatdata_boxing1\n",
      "clf: analcatdata_boxing2\n",
      "clf: analcatdata_creditscore\n",
      "clf: analcatdata_cyyoung8092\n",
      "clf: analcatdata_cyyoung9302\n",
      "clf: analcatdata_dmft\n",
      "clf: analcatdata_fraud\n",
      "clf: analcatdata_germangss\n",
      "clf: analcatdata_happiness\n",
      "clf: analcatdata_japansolvent\n",
      "clf: analcatdata_lawsuit\n",
      "clf: ann-thyroid\n",
      "clf: appendicitis\n",
      "clf: australian\n",
      "clf: auto\n",
      "clf: backache\n",
      "clf: balance-scale\n",
      "clf: banana\n",
      "clf: biomed\n",
      "clf: breast\n",
      "clf: breast-cancer\n",
      "clf: breast-cancer-wisconsin\n",
      "clf: breast-w\n",
      "clf: buggyCrx\n",
      "clf: bupa\n",
      "clf: calendarDOW\n",
      "clf: car\n",
      "clf: car-evaluation\n",
      "clf: cars\n",
      "clf: cars1\n",
      "clf: chess\n",
      "clf: churn\n",
      "clf: clean1\n",
      "clf: clean2\n",
      "clf: cleve\n",
      "clf: cleveland\n",
      "clf: cleveland-nominal\n",
      "clf: cloud\n",
      "clf: cmc\n",
      "clf: coil2000\n",
      "clf: colic\n",
      "clf: collins\n",
      "clf: confidence\n",
      "clf: connect-4\n",
      "clf: contraceptive\n",
      "clf: corral\n",
      "clf: credit-a\n",
      "clf: credit-g\n",
      "clf: crx\n",
      "clf: dermatology\n",
      "clf: diabetes\n",
      "clf: dis\n",
      "clf: dna\n",
      "clf: ecoli\n",
      "clf: fars\n",
      "clf: flags\n",
      "clf: flare\n",
      "clf: german\n",
      "clf: glass\n",
      "clf: glass2\n",
      "clf: haberman\n",
      "clf: hayes-roth\n",
      "clf: heart-c\n",
      "clf: heart-h\n",
      "clf: heart-statlog\n",
      "clf: hepatitis\n",
      "clf: horse-colic\n",
      "clf: house-votes-84\n",
      "clf: hungarian\n",
      "clf: hypothyroid\n",
      "clf: ionosphere\n",
      "clf: iris\n",
      "clf: irish\n",
      "clf: kddcup\n",
      "clf: kr-vs-kp\n",
      "clf: krkopt\n",
      "clf: labor\n",
      "clf: led24\n",
      "clf: led7\n",
      "clf: letter\n",
      "clf: liver-disorder\n",
      "clf: lupus\n",
      "clf: lymphography\n",
      "clf: magic\n",
      "clf: mfeat-factors\n",
      "clf: mfeat-fourier\n",
      "clf: mfeat-karhunen\n",
      "clf: mfeat-morphological\n",
      "clf: mfeat-pixel\n",
      "clf: mfeat-zernike\n",
      "clf: mnist\n",
      "clf: mofn-3-7-10\n",
      "clf: molecular-biology_promoters\n",
      "clf: monk1\n",
      "clf: monk2\n",
      "clf: monk3\n",
      "clf: movement_libras\n",
      "clf: mushroom\n",
      "clf: mux6\n",
      "clf: new-thyroid\n",
      "clf: nursery\n",
      "clf: optdigits\n",
      "clf: page-blocks\n",
      "clf: parity5\n",
      "clf: parity5+5\n",
      "clf: pendigits\n",
      "clf: phoneme\n",
      "clf: pima\n",
      "clf: postoperative-patient-data\n",
      "clf: prnn_crabs\n",
      "clf: prnn_fglass\n",
      "clf: prnn_synth\n",
      "clf: profb\n",
      "clf: promoters\n",
      "clf: ring\n",
      "clf: saheart\n",
      "clf: satimage\n",
      "clf: schizo\n",
      "clf: segmentation\n",
      "clf: shuttle\n",
      "clf: sleep\n",
      "clf: solar-flare_1\n",
      "clf: solar-flare_2\n",
      "clf: sonar\n",
      "clf: soybean\n",
      "clf: spambase\n",
      "clf: spect\n",
      "clf: spectf\n",
      "clf: splice\n",
      "clf: tae\n",
      "clf: texture\n",
      "clf: threeOf9\n",
      "clf: tic-tac-toe\n",
      "clf: titanic\n",
      "clf: tokyo1\n",
      "clf: twonorm\n",
      "clf: vehicle\n",
      "clf: vote\n",
      "clf: vowel\n",
      "clf: waveform-21\n",
      "clf: waveform-40\n",
      "clf: wdbc\n",
      "clf: wine-quality-red\n",
      "clf: wine-quality-white\n",
      "clf: wine-recognition\n",
      "clf: xd6\n",
      "clf: yeast\n",
      "clustering...\n",
      "done\n"
     ]
    }
   ],
   "source": [
    "import numpy as np\n",
    "from tqdm import tqdm\n",
    "from sklearn.cluster.bicluster import SpectralBiclustering\n",
    "from sklearn.metrics import consensus_score\n",
    "import matplotlib.pyplot as plt\n",
    "%matplotlib inline\n",
    "import pdb\n",
    "# get model results with best parameters \n",
    "\n",
    "all_models = np.asarray((data['classifier'].unique()))\n",
    "all_datasets = np.asarray((data['dataset'].unique()))\n",
    "model_data_acc = np.zeros([len(all_models),len(all_datasets)])\n",
    "model_data_acc_norm = np.zeros([len(all_models),len(all_datasets)])\n",
    "\n",
    "ranks = np.zeros([len(all_models),len(all_datasets)])\n",
    "#print(\"model_data_acc.shape:\",model_data_acc.shape)\n",
    "# all_models = []\n",
    "for i,(clf, group_clf) in enumerate(tqdm(data.groupby('dataset'))):\n",
    "    print('clf:',clf)\n",
    "    data_acc  = group_clf['bal_accuracy'].transpose()\n",
    "    model_data_acc[:,i] = data_acc\n",
    "#     model_data_acc_norm[:,i] = (data_acc-data_acc.min())/(data_acc.max() - data_acc.min())\n",
    "    model_data_acc_norm[:,i] = (data_acc-data_acc.mean())\n",
    "\n",
    "#     all_models.append(clf)\n",
    "    \n",
    "all_models = np.asarray(all_models)\n",
    "# get ranks\n",
    "for i,mda in enumerate(model_data_acc.transpose()):\n",
    "    #print(\"mda shape:\",mda.shape)\n",
    "    temp = mda.argsort()\n",
    "    ranks[temp,i] = np.arange(len(mda))\n",
    "np.savetxt('ranks',ranks)\n",
    "np.savetxt('model_data_accuracy',model_data_acc)\n",
    "\n",
    "\n",
    "print(\"clustering...\")\n",
    "np.random.seed(42)\n",
    "model = SpectralBiclustering(n_clusters=(4,10), random_state=0)\n",
    "model.fit(model_data_acc)\n",
    "#score = consensus_score(model.biclusters_, (rows[:, row_idx], columns[:, col_idx]))\n",
    "\n",
    "#print(\"consensus score: {:.3f}\".format(score))\n",
    "r = model.row_labels_[:]\n",
    "c = model.column_labels_[:]\n",
    "#rearrange data into biclusters\n",
    "fit_data_norm = model_data_acc_norm[np.argsort(r)]\n",
    "fit_data_norm = fit_data_norm[:, np.argsort(c)]\n",
    "\n",
    "fit_data = model_data_acc[np.argsort(r)]\n",
    "fit_data = fit_data[:, np.argsort(c)]\n",
    "\n",
    "all_models = all_models[np.argsort(r)]\n",
    "all_datasets = all_datasets[np.argsort(c)]\n",
    "print('done')"
   ]
  },
  {
   "cell_type": "code",
   "execution_count": 3,
   "metadata": {
    "collapsed": false,
    "scrolled": true
   },
   "outputs": [
    {
     "name": "stdout",
     "output_type": "stream",
     "text": [
      "biclusters_: 2\n"
     ]
    },
    {
     "data": {
      "image/png": "[encoded data removed]",
      "text/plain": [
       "<matplotlib.figure.Figure at 0x7efe9c841d30>"
      ]
     },
     "metadata": {},
     "output_type": "display_data"
    },
    {
     "name": "stdout",
     "output_type": "stream",
     "text": [
      "cluster 1 :\n",
      "\"phoneme\",\"analcatdata_boxing2\",\"GAMETES_Epistasis_2-Way_20atts_0.4H_EDM-1_1\",\"analcatdata_boxing1\",\"GAMETES_Heterogeneity_20atts_1600_Het_0.4_0.2_50_EDM-2_001\",\"GAMETES_Heterogeneity_20atts_1600_Het_0.4_0.2_75_EDM-2_001\",\"collins\",\"spectf\",\"connect-4\",\"cars\",\"monk3\",\"corral\",\"glass\",\"prnn_fglass\",\"movement_libras\",\"auto\", \n",
      "cluster 2 :\n",
      "\"haberman\",\"german\",\"heart-c\",\"heart-h\",\"flags\",\"dna\",\"GAMETES_Epistasis_2-Way_1000atts_0.4H_EDM-1_EDM-1_1\",\"crx\",\"credit-g\",\"credit-a\",\"contraceptive\",\"colic\",\"cmc\",\"dermatology\",\"hepatitis\",\"mfeat-factors\",\"led24\",\"wine-recognition\",\"tokyo1\",\"titanic\",\"spect\",\"solar-flare_2\",\"saheart\",\"promoters\",\"profb\",\"hungarian\",\"postoperative-patient-data\",\"molecular-biology_promoters\",\"mfeat-zernike\",\"mfeat-pixel\",\"mfeat-karhunen\",\"mfeat-fourier\",\"cleveland-nominal\",\"lymphography\",\"led7\",\"optdigits\",\"cleveland\",\"heart-statlog\",\"analcatdata_asbestos\",\"analcatdata_dmft\",\"breast-w\",\"buggyCrx\",\"analcatdata_cyyoung9302\",\"breast\",\"breast-cancer\",\"cleve\",\"backache\",\"australian\",\"adult\",\"analcatdata_authorship\", \n",
      "cluster 3 :\n",
      "\"parity5\", \n",
      "cluster 4 :\n",
      "\"xd6\",\"krkopt\",\"parity5+5\",\"banana\",\"mux6\",\"monk2\",\"car\",\"tic-tac-toe\",\"monk1\", \n",
      "cluster 5 :\n",
      "\"ann-thyroid\",\"irish\",\"letter\",\"cloud\",\"allhypo\",\"shuttle\",\"ring\",\"threeOf9\",\"hayes-roth\",\"schizo\",\"glass2\",\"nursery\",\"vowel\", \n",
      "cluster 6 :\n",
      "\"mfeat-morphological\",\"texture\",\"analcatdata_happiness\",\"sleep\",\"analcatdata_cyyoung8092\",\"analcatdata_germangss\",\"yeast\",\"analcatdata_aids\",\"wdbc\",\"waveform-40\",\"confidence\",\"waveform-21\",\"diabetes\",\"pima\",\"ecoli\",\"breast-cancer-wisconsin\",\"spambase\",\"balance-scale\",\"analcatdata_bankruptcy\",\"house-votes-84\",\"iris\",\"vote\",\"horse-colic\", \n",
      "cluster 7 :\n",
      "\"sonar\",\"agaricus-lepiota\",\"prnn_synth\",\"segmentation\",\"analcatdata_lawsuit\",\"ionosphere\",\"GAMETES_Epistasis_2-Way_20atts_0.1H_EDM-1_1\",\"cars1\",\"calendarDOW\",\"bupa\",\"biomed\",\"appendicitis\",\"hypothyroid\",\"mushroom\",\"solar-flare_1\",\"labor\",\"liver-disorder\",\"lupus\",\"analcatdata_japansolvent\",\"magic\",\"analcatdata_fraud\",\"mnist\", \n",
      "cluster 8 :\n",
      "\"Hill_Valley_without_noise\",\"flare\",\"coil2000\",\"Hill_Valley_with_noise\", \n",
      "cluster 9 :\n",
      "\"twonorm\",\"vehicle\",\"clean2\",\"mofn-3-7-10\",\"clean1\",\"prnn_crabs\",\"chess\",\"kr-vs-kp\", \n",
      "cluster 10 :\n",
      "\"wine-quality-white\",\"wine-quality-red\",\"churn\",\"car-evaluation\",\"dis\",\"fars\",\"kddcup\",\"allbp\",\"analcatdata_creditscore\",\"new-thyroid\",\"page-blocks\",\"pendigits\",\"tae\",\"splice\",\"allrep\",\"allhyper\",\"soybean\",\"satimage\",\"GAMETES_Epistasis_3-Way_20atts_0.2H_EDM-1_1\", \n"
     ]
    }
   ],
   "source": [
    "model_nice_dict = {\n",
    "    'AdaBoostClassifier': 'AdaBoost',\n",
    "    'BernoulliNB': 'Bernoulli NB',\n",
    "    'LinearSVC': 'Linear SVC',\n",
    "    'LogisticRegression': 'Logistic Regression',\n",
    "    'MultinomialNB': 'Multinomial NB',\n",
    "    'PassiveAggressiveClassifier': 'Passive Aggressive',\n",
    "    'SGDClassifier': 'SGD',\n",
    "    'GaussianNB': 'Gaussian NB',\n",
    "    'DecisionTreeClassifier': 'Decision Tree',\n",
    "    'ExtraTreesClassifier': 'Extra Trees',\n",
    "    'RandomForestClassifier': 'Random Forest',\n",
    "    'GradientBoostingClassifier':'Gradient Boosting',\n",
    "    'KNeighborsClassifier': 'K-Nearest Neighbor',\n",
    "    'SVC': 'SVC'\n",
    "}\n",
    "model_nice = []\n",
    "for m in all_models:\n",
    "    model_nice.append(model_nice_dict[m])\n",
    "    \n",
    "    \n",
    "print(\"biclusters_:\",len(model.biclusters_))\n",
    "#plot\n",
    "# h = plt.figure(figsize=(4,3),sharey=True)\n",
    "# ax = plt.subplot(111)\n",
    "h,ax = plt.subplots(3,figsize=(10,9))\n",
    "# ax = h.add_subplot(311)\n",
    "tmp = ax[0].imshow(fit_data[:,:],cmap=plt.cm.RdBu) \n",
    "# ax[0].set_title('A')\n",
    "# ax[0].set_xlabel('A')\n",
    "cbar=plt.colorbar(tmp,ax=ax[0],orientation='vertical',shrink=0.8)\n",
    "cbar.set_label('Balanced Accuracy')\n",
    "ax[0].set_yticks(range(len(all_models))) #,rotation=90\n",
    "ax[0].set_yticklabels(model_nice) #,rotation=90\n",
    "# ax[1].set_xlabel('Data Set',size=16)\n",
    "ax[0].set_xticks(np.arange(len(all_datasets),step=10))\n",
    "ax[0].xaxis.tick_top()\n",
    "\n",
    "# h = plt.gcf()\n",
    "# ax = plt.gca( )\n",
    "ax[0].set_aspect(4)\n",
    "\n",
    "# h.tight_layout()\n",
    "# h = plt.gcf()\n",
    "\n",
    "# h.savefig(\"figs/bicluster.pdf\",dpi=100)\n",
    "\n",
    "# k = plt.figure(figsize=(10,3))\n",
    "# ax = h.add_subplot(312)\n",
    "tmp = ax[1].matshow(fit_data_norm[:,:],cmap=plt.cm.RdBu) \n",
    "\n",
    "cbar=plt.colorbar(tmp,ax=ax[1],orientation='vertical',shrink=0.8)\n",
    "cbar.set_label('Deviation from Mean')\n",
    "ax[1].set_yticks(range(len(all_models))) #,rotation=90\n",
    "ax[1].set_yticklabels(model_nice) #,rotation=90\n",
    "# ax[1].set_xlabel('Data Set',size=16)\n",
    "ax[1].set_xticks(np.arange(len(all_datasets),step=10))\n",
    "# ax[1].set_xlabel('B')\n",
    "# h = plt.gcf()\n",
    "# ax = plt.gca( )\n",
    "ax[1].set_aspect(4)\n",
    "# h.tight_layout()\n",
    "# h = plt.gcf()\n",
    "\n",
    "# k.savefig(\"figs/bicluster_zeromean.pdf\",dpi=100)\n",
    "\n",
    "\n",
    "# h2 = plt.figure(figsize=(10,3))\n",
    "# ax = h.add_subplot(313)\n",
    "cluster_labels  = np.outer(np.sort(model.row_labels_) + 1,np.sort(model.column_labels_) + 1)\n",
    "boundary = np.zeros((cluster_labels.shape[0],cluster_labels.shape[1]))\n",
    "for i,cr in enumerate(cluster_labels[1:]):\n",
    "    for j,cc in enumerate(cr[1:]):\n",
    "        if cluster_labels[i-1,j] != cluster_labels[i,j]:\n",
    "            boundary[i,j] = 1\n",
    "        if cluster_labels[i,j-1] != cluster_labels[i,j]:\n",
    "            boundary[i,j] = 1\n",
    "            \n",
    "tmp=ax[2].matshow(cluster_labels,cmap=plt.cm.Purples,alpha=1)\n",
    "# tmp = \n",
    "# ydata = [0,165,0,165,0,165]\n",
    "# tmp=ax[2].plot((0,165),(2.5,2.5))\n",
    "# plt.gca().invert_yaxis()\n",
    "cbar=plt.colorbar(tmp,ax=ax[2],orientation='vertical',shrink=0.8)\n",
    "cbar.set_label('Bicluster ID')\n",
    "plt.yticks(range(len(all_models)), model_nice) #,rotation=90\n",
    "ax[2].set_xlabel('Dataset',size=16)\n",
    "plt.xticks(np.arange(len(all_datasets),step=10))\n",
    "# ax[2].set_xlabel('C')\n",
    "# h = plt.gcf()\n",
    "# ax = plt.gca( )\n",
    "ax[2].set_aspect(4)\n",
    "h.tight_layout()\n",
    "# plt.subplots_adjust(top=0.95)\n",
    "h.savefig(\"figs/cluster_all.pdf\",dpi=100)\n",
    "h.savefig(\"figs/cluster_all.eps\",dpi=100)\n",
    "h.savefig(\"figs/cluster_all.png\",dpi=100)\n",
    "\n",
    "\n",
    "plt.show()\n",
    "j=0\n",
    "for c in np.unique(cluster_labels[0,:]):\n",
    "    print('cluster',c,':')\n",
    "    for d in all_datasets[cluster_labels[0,:]==c]:\n",
    "#         print('',j,\":\",d)\n",
    "        print('\"'+d+'\"',end=',')\n",
    "        j+=1\n",
    "    print(' ')"
   ]
  },
  {
   "cell_type": "markdown",
   "metadata": {
    "collapsed": false
   },
   "source": [
    "# How do the algorithms cluster?\n",
    "\n",
    "Create matrix of data sets vs. median model accuracy on those data sets.\n",
    "\n",
    "Cluster the matrix using Agglomerative Clustering. Look at the resulting dendrogram."
   ]
  },
  {
   "cell_type": "code",
   "execution_count": 1,
   "metadata": {
    "collapsed": false
   },
   "outputs": [],
   "source": [
    "import pandas as pd\n",
    "\n",
    "data = pd.read_csv('sklearn-benchmark5-data-edited.tsv.gz', sep='\\t', names=['dataset',\n",
    "                                                                     'classifier',\n",
    "                                                                     'parameters',\n",
    "                                                                     'accuracy', \n",
    "                                                                     'macrof1',\n",
    "                                                                     'bal_accuracy']).fillna('')\n",
    "\n",
    "# data = data.groupby(['classifier', 'dataset', 'parameters'])['accuracy'].mean().reset_index()"
   ]
  },
  {
   "cell_type": "code",
   "execution_count": 2,
   "metadata": {
    "collapsed": false
   },
   "outputs": [
    {
     "name": "stderr",
     "output_type": "stream",
     "text": [
      "100%|██████████| 13/13 [00:25<00:00,  4.37s/it]\n"
     ]
    }
   ],
   "source": [
    "import numpy as np\n",
    "from tqdm import tqdm\n",
    "from scipy.cluster import hierarchy\n",
    "import matplotlib.pyplot as plt\n",
    "%matplotlib inline\n",
    "\n",
    "all_models = np.asarray(sorted(data['classifier'].unique()))\n",
    "# remove SVC from all_models\n",
    "\n",
    "all_datasets = np.asarray(sorted(data['dataset'].unique()))\n",
    "\n",
    "model_data_acc = np.zeros([len(all_models),len(all_datasets)])\n",
    "ranks = np.zeros([len(all_models),len(all_datasets)])\n",
    "#print(\"model_data_acc.shape:\",model_data_acc.shape)\n",
    "all_models = []\n",
    "\n",
    "for i,(clf, group_clf) in enumerate(tqdm(data.groupby('classifier'))):\n",
    "#     if clf != 'SVC':\n",
    "    model_best_params_acc = np.zeros(len(all_datasets))\n",
    "    # find best parameter setings for model, based on median cv score for each parameter setting\n",
    "    for params,group_clf_params in group_clf.groupby('parameters'):\n",
    "        # across data sets\n",
    "        for j,a in enumerate(group_clf_params.groupby('dataset')['accuracy'].median()):\n",
    "            if a > model_best_params_acc[j]:\n",
    "                model_best_params_acc[j] = a\n",
    "    # model i's accuracy is the median cv accuracy of the best parameter settings for that model, across data sets\n",
    "    model_data_acc[i,:] = model_best_params_acc\n",
    "\n",
    "    all_models.append(clf)\n",
    "\n",
    "all_models = np.asarray(all_models)\n",
    "\n",
    "# get ranks\n",
    "for i,mda in enumerate(model_data_acc.transpose()):\n",
    "    #print(\"mda shape:\",mda.shape)\n",
    "    temp = mda.argsort()\n",
    "    ranks[temp,i] = np.arange(len(mda))\n",
    "    \n"
   ]
  },
  {
   "cell_type": "code",
   "execution_count": 6,
   "metadata": {
    "collapsed": false
   },
   "outputs": [
    {
     "name": "stdout",
     "output_type": "stream",
     "text": [
      "clustering...\n"
     ]
    },
    {
     "data": {
      "image/png": "[encoded data removed]",
      "text/plain": [
       "<matplotlib.figure.Figure at 0x7ff0705823c8>"
      ]
     },
     "metadata": {},
     "output_type": "display_data"
    },
    {
     "data": {
      "image/png": "[encoded data removed]",
      "text/plain": [
       "<matplotlib.figure.Figure at 0x7ff0705149b0>"
      ]
     },
     "metadata": {},
     "output_type": "display_data"
    }
   ],
   "source": [
    "model_nice_dict = {\n",
    "    'AdaBoostClassifier': 'AdaBoost',\n",
    "    'BernoulliNB': 'Bernoulli NB',\n",
    "    'LinearSVC': 'Linear SVC',\n",
    "    'LogisticRegression': 'Logistic Regression',\n",
    "    'MultinomialNB': 'Multinomial NB',\n",
    "    'PassiveAggressiveClassifier': 'Passive Aggressive',\n",
    "    'SGDClassifier': 'SGD',\n",
    "    'GaussianNB': 'Gaussian NB',\n",
    "    'DecisionTreeClassifier': 'Decision Tree',\n",
    "    'ExtraTreesClassifier': 'Extra Trees',\n",
    "    'RandomForestClassifier': 'Random Forest',\n",
    "    'GradientBoostingClassifier':'Gradient Boosting',\n",
    "    'KNeighborsClassifier': 'K-Nearest Neighbor',\n",
    "    'SVC': 'SVC'\n",
    "}\n",
    "model_nice = []\n",
    "for m in all_models:\n",
    "    model_nice.append(model_nice_dict[m])\n",
    "    \n",
    "print(\"clustering...\")\n",
    "Z = hierarchy.linkage(ranks, 'single')\n",
    "dn = hierarchy.dendrogram(Z, labels = model_nice, orientation='right')\n",
    "plt.title('Ranking Dendrogram')\n",
    "h = plt.gcf()\n",
    "plt.figure(1,figsize=(6,4))\n",
    "plt.tight_layout()\n",
    "h.savefig('figs/HAC_models_ranking.pdf')\n",
    "\n",
    "plt.figure()\n",
    "Z = hierarchy.linkage(model_data_acc, 'single')\n",
    "dn = hierarchy.dendrogram(Z, labels = model_nice, orientation='right')\n",
    "plt.title('Accuracy Dendrogram')\n",
    "h = plt.gcf()\n",
    "plt.figure(1,figsize=(6,4))\n",
    "plt.tight_layout()\n",
    "h.savefig('figs/HAC_models_accuracy.pdf')\n",
    "plt.show()"
   ]
  },
  {
   "cell_type": "code",
   "execution_count": null,
   "metadata": {
    "collapsed": true
   },
   "outputs": [],
   "source": [
    "# How do the data sets cluster?"
   ]
  },
  {
   "cell_type": "code",
   "execution_count": 14,
   "metadata": {
    "collapsed": false
   },
   "outputs": [
    {
     "name": "stderr",
     "output_type": "stream",
     "text": [
      "100%|██████████| 145/145 [00:28<00:00,  2.24it/s]\n"
     ]
    },
    {
     "data": {
      "image/png": "[encoded data removed]",
      "text/plain": [
       "<matplotlib.figure.Figure at 0x7f86ceaea278>"
      ]
     },
     "metadata": {},
     "output_type": "display_data"
    },
    {
     "data": {
      "image/png": "[encoded data removed]",
      "text/plain": [
       "<matplotlib.figure.Figure at 0x7f869c5f8400>"
      ]
     },
     "metadata": {},
     "output_type": "display_data"
    }
   ],
   "source": [
    "from sklearn.cluster import KMeans\n",
    "from sklearn.metrics import silhouette_score, silhouette_samples\n",
    "from sklearn.decomposition import PCA\n",
    "import numpy\n",
    "from tqdm import tqdm\n",
    "#==========\n",
    "# optimal K via elbow method with silhouette score which produces a better elbow.\n",
    "#==========\n",
    "X = model_data_acc.transpose()\n",
    "Ks = np.arange(2,147,1)\n",
    "Inertias = []\n",
    "Silhouettes = []\n",
    "np.random.seed(2)\n",
    "# loop through k values\n",
    "for K in tqdm(Ks):\n",
    "\tkm = KMeans(n_clusters=K, init='k-means++',copy_x=False).fit(X)\n",
    "\tlabels = km.labels_\n",
    "\tcenters = km.cluster_centers_\n",
    "\tinertia = km.inertia_\n",
    "\tSilhouettes.append(silhouette_score(X,labels))\n",
    "\t# Inertias[K-1] = km.inertia_\n",
    "\tInertias.append(km.inertia_)\n",
    "\n",
    "# line plot of K versus Silhouette score with best value marked with x \n",
    "plt.figure(1)\n",
    "plt.plot(Ks,Silhouettes,label='silhouette')\n",
    "plt.plot(Ks[np.argmax(Silhouettes)],Silhouettes[np.argmax(Silhouettes)],marker = 'o',color='r',markersize=7)\n",
    "plt.text(Ks[np.argmax(Silhouettes)]-2,Silhouettes[np.argmax(Silhouettes)],\"K = \"+repr(Ks[np.argmax(Silhouettes)]))\n",
    "plt.ylim(0.95*np.min(Silhouettes),1.05*np.max(Silhouettes))\n",
    "plt.ylabel(\"Average silhouette score\") #Y-axis label\n",
    "plt.xlabel(\"K\") #X-axis label\n",
    "plt.title(\"Choice of K\") #Plot title\n",
    "plt.tight_layout()\n",
    "plt.savefig(\"k_silhouette.pdf\")\n",
    "\n",
    "plt.figure(2)\n",
    "plt.plot(Ks,Inertias,label='inertia')\n",
    "plt.plot(Ks[np.argmin(Inertias)],Inertias[np.argmin(Inertias)],marker = 'o',color='r',markersize=7)\n",
    "plt.text(Ks[np.argmin(Inertias)]-2,Inertias[np.argmin(Inertias)],\"K = \"+repr(Ks[np.argmin(Inertias)]))\n",
    "plt.ylim(0.95*np.min(Inertias),1.05*np.max(Inertias))\n",
    "plt.ylabel(\"Inertias\") #Y-axis label\n",
    "plt.xlabel(\"K\") #X-axis label\n",
    "plt.title(\"Choice of K\") #Plot title\n",
    "plt.tight_layout()\n",
    "plt.savefig(\"k_inertia.pdf\")"
   ]
  },
  {
   "cell_type": "code",
   "execution_count": 7,
   "metadata": {
    "collapsed": false
   },
   "outputs": [
    {
     "name": "stderr",
     "output_type": "stream",
     "text": [
      "/home/bill/anaconda3/lib/python3.5/site-packages/matplotlib/lines.py:1206: FutureWarning: comparison to `None` will result in an elementwise object comparison in the future.\n",
      "  if self._markerfacecolor != fc:\n"
     ]
    },
    {
     "name": "stdout",
     "output_type": "stream",
     "text": [
      "col: [ 0.10588235  0.61960784  0.46666667  1.        ]\n",
      "col: [ 0.45882353  0.43921569  0.70196078  1.        ]\n",
      "col: [ 0.90196078  0.67058824  0.00784314  1.        ]\n",
      "col: [ 0.4  0.4  0.4  1. ]\n"
     ]
    },
    {
     "data": {
      "image/png": "[encoded data removed]",
      "text/plain": [
       "<matplotlib.figure.Figure at 0x7ff0553b19e8>"
      ]
     },
     "metadata": {},
     "output_type": "display_data"
    },
    {
     "data": {
      "image/png": "[encoded data removed]",
      "text/plain": [
       "<matplotlib.figure.Figure at 0x7ff0554499b0>"
      ]
     },
     "metadata": {},
     "output_type": "display_data"
    }
   ],
   "source": [
    "# =====\n",
    "# plot cluster centers on 2 principal component axes\n",
    "# =====\n",
    "from sklearn.decomposition import PCA\n",
    "from sklearn.cluster import KMeans\n",
    "import itertools\n",
    "from sklearn.preprocessing import StandardScaler\n",
    "\n",
    "marker =('+', 'x', 'o', '*','s','^','<','v','>') \n",
    "h = plt.figure()\n",
    "ss = StandardScaler()\n",
    "X = ss.fit_transform(model_data_acc.transpose())\n",
    "\n",
    "pca = PCA(n_components = 2)\n",
    "X_pca = pca.fit_transform(X)\n",
    "nc=4\n",
    "unique_classes = np.array((0,1,2,3)) \n",
    "km = KMeans(n_clusters=nc, init='k-means++',copy_x=False,random_state=0).fit(X)\n",
    "labels = km.labels_\n",
    "centers = km.cluster_centers_\n",
    "unique_labels = np.unique(labels)\n",
    "# centers_pca = centers\n",
    "centers_pca = pca.transform(centers)\n",
    "colors = plt.cm.Dark2(np.linspace(0, 1, len(unique_labels)))\n",
    "\n",
    "for k, col in zip(unique_labels, colors):\n",
    "    label_mask = (k==labels)\n",
    "    xy = X_pca[label_mask]\n",
    "    plt.plot(xy[:,0], xy[:, 1], linestyle = '', marker=marker[k%nc], markerfacecolor=col, markersize=5, alpha=1)\n",
    "\n",
    "for k, col in zip(unique_labels, colors): \n",
    "     plt.plot(centers_pca[k,0],centers_pca[k,1], linestyle='', marker=marker[k%nc], markerfacecolor=col,markersize=20,alpha=0.3)\n",
    "\n",
    "plt.xlabel('PC 1')\n",
    "plt.ylabel('PC 2')\n",
    "plt.tight_layout()\n",
    "h.savefig('figs/k_means_PCA_data.pdf')\n",
    "\n",
    "h2 = plt.figure()\n",
    "features = model_nice\n",
    "    \n",
    "for k,col in zip(unique_labels,colors):\n",
    "    label_mask = (k==labels)\n",
    "    coverage = np.sum(label_mask)\n",
    "    xk_mean = np.mean(ss.inverse_transform(X[label_mask]),axis=0)\n",
    "    offset = k*0.1-np.mean(np.unique(labels))*0.1\n",
    "    print('col:',col)\n",
    "    plt.bar(np.arange(len(features))+offset,xk_mean,align='center',width=0.1,facecolor=col,label='cluster '+marker[k%nc]+' ('+str(coverage)+' instances)')\n",
    "\n",
    "plt.ylim(0,1.1)\n",
    "plt.gca().set_xticks(np.arange(len(features)))\n",
    "plt.gca().set_xticklabels(list(features),fontsize=8,rotation=90)\n",
    "plt.legend(loc=3,fontsize=6) #(bbox_to_anchor=(1.05, 1), \n",
    "plt.tight_layout()\n",
    "h2.savefig('figs/data_ml_bar.pdf')\n",
    "\n",
    "plt.show()"
   ]
  },
  {
   "cell_type": "markdown",
   "metadata": {
    "collapsed": false
   },
   "source": [
    "# Comparison of tuned to un-tuned results\n"
   ]
  },
  {
   "cell_type": "code",
   "execution_count": null,
   "metadata": {
    "collapsed": false
   },
   "outputs": [],
   "source": [
    "import numpy as np\n",
    "from tqdm import tqdm\n",
    "from scipy.cluster import hierarchy\n",
    "from sklearn.ensemble import RandomForestClassifier, ExtraTreesClassifier, AdaBoostClassifier, GradientBoostingClassifier\n",
    "from sklearn.neighbors import KNeighborsClassifier\n",
    "from sklearn.svm import LinearSVC, SVC\n",
    "from sklearn.linear_model import SGDClassifier, LogisticRegression, PassiveAggressiveClassifier\n",
    "from sklearn.tree import DecisionTreeClassifier\n",
    "from sklearn.naive_bayes import *\n",
    "import matplotlib.pyplot as plt\n",
    "%matplotlib inline\n",
    "import pandas as pd\n",
    "\n",
    "data = pd.read_csv('sklearn-benchmark5-data-edited.tsv.gz', sep='\\t', names=['dataset',\n",
    "                                                                     'classifier',\n",
    "                                                                     'parameters',\n",
    "                                                                     'accuracy']).fillna('')\n",
    "\n",
    "data = data.groupby(['classifier', 'dataset', 'parameters'])['accuracy'].mean().reset_index()\n",
    "data['classifier-params'] = data['classifier'].values + '-' + data['parameters'].values\n",
    "data['accuracy'] = data['accuracy'].apply(lambda x: round(x, 3))\n",
    "\n"
   ]
  },
  {
   "cell_type": "code",
   "execution_count": null,
   "metadata": {
    "collapsed": false
   },
   "outputs": [],
   "source": [
    "# clf_defaults_dict = {\n",
    "#     'GradientBoostingClassifier': 'loss=deviance, learning_rate=0.1, n_estimators=100, subsample=1.0, min_samples_split=2, min_samples_leaf=1,,\n",
    "# 'RandomForestClassifier': RandomForestClassifier(),\n",
    "# 'ExtraTreesClassifier': ExtraTreesClassifier(),\n",
    "# 'SVC': SVC(),\n",
    "# 'SGDClassifier': SGDClassifier(),\n",
    "# 'LinearSVC': LinearSVC(),\n",
    "# 'AdaBoostClassifier': AdaBoostClassifier(),\n",
    "# 'LogisticRegression': LogisticRegression(),\n",
    "# 'DecisionTreeClassifier': DecisionTreeClassifier(),\n",
    "# 'KNeighborsClassifier': KNeighborsClassifier(),\n",
    "# 'PassiveAggressiveClassifier': PassiveAggressiveClassifier(),\n",
    "# 'BernoulliNB': BernoulliNB(),\n",
    "# 'MultinomialNB': MultinomialNB(),\n",
    "# 'GaussianNB': GaussianNB(),\n",
    "# }\n",
    "clf_defaults_dict = {\n",
    "    'GradientBoostingClassifier': 'loss=deviance,learning_rate=0.1,n_estimators=100,max_depth=3,max_features=0.9',\n",
    "'RandomForestClassifier': 'n_estimators=10,min_weight_fraction_leaf=0.0,max_features=sqrt,criterion=gini',\n",
    "'SVC': 'C=1.0,gamma=0.01,kernel=rbf,degree=3,coef0=0.0,',\n",
    "'ExtraTreesClassifier': 'n_estimators=10,min_weight_fraction_leaf=0.0,max_features=sqrt,criterion=gini',\n",
    "'KNeighborsClassifier': 'n_neighbors=5,weights=uniform',\n",
    "'LogisticRegression': 'C=1.0,penalty=l2,fit_intercept=True,dual=False,',\n",
    "'LinearSVC': 'C=1.0,loss=squared_hinge,penalty=l2,dual=True,fit_intercept=True',\n",
    "'DecisionTreeClassifier': 'min_weight_fraction_leaf=0.0,max_features=None,criterion=gini',\n",
    "'SGDClassifier': 'loss=hinge,penalty=l2,alpha=0.0001,learning_rate=constant,fit_intercept=True,l1_ratio=0.15,eta0=0.01,power_t=0.5',\n",
    "'PassiveAggressiveClassifier': 'C=1.0,loss=hinge,fit_intercept=True',\n",
    "'AdaBoostClassifier': 'learning_rate=1.0,n_estimators=50',\n",
    "'BernoulliNB': 'alpha=1.0,fit_prior=True,binarize=0.0',\n",
    "'GaussianNB': '',\n",
    "'MultinomialNB': 'alpha=1.0,fit_prior=True'\n",
    "}\n",
    "all_models = np.asarray(sorted(data['classifier'].unique()))\n",
    "# # remove SVC from all_models\n",
    "all_datasets = np.asarray(sorted(data['dataset'].unique()))\n",
    "\n",
    "model_data_acc = np.zeros([len(all_models),len(all_datasets)])\n",
    "model_data_best_acc = np.zeros([len(all_models),len(all_datasets)])\n",
    "model_data_other_acc = np.zeros([len(all_models),len(all_datasets)])\n",
    "model_data_default_acc = np.zeros([len(all_models),len(all_datasets)])\n",
    "best_params_for_data = []\n",
    "all_models=[]\n",
    "# # get median accuracy for best parameter values\n",
    "for i,(clf, group_clf) in enumerate((data.groupby('classifier'))):\n",
    "    print(\"classifier:\",clf)\n",
    "    model_best_params_acc = np.zeros(len(all_datasets))\n",
    "    best_params_for_data.append([])\n",
    "    matched = False\n",
    "#     model_other_params_acc = []\n",
    "    for params,group_clf_params in group_clf.groupby('parameters'):\n",
    "        # find best parameter setings for model, based on median cv score for each parameter setting\n",
    "\n",
    "        for j,a in enumerate(group_clf_params.groupby('dataset')['accuracy'].median()):\n",
    "            if a > model_best_params_acc[j]:\n",
    "                model_best_params_acc[j] = a\n",
    "                \n",
    "        for j,a in enumerate(group_clf_params.groupby('dataset')['accuracy'].median()):\n",
    "            if a == model_best_params_acc[j]:   \n",
    "                best_params_for_data[i].append(params) # store best params for this classifier on this problem\n",
    "                \n",
    "        if params == clf_defaults_dict[clf]:\n",
    "#                 print('default parameter match for ' + str(clf) + \":\",params)\n",
    "                model_data_default_acc[i,:len(group_clf_params.groupby('dataset')['accuracy'].median())] = group_clf_params.groupby('dataset')['accuracy'].median()\n",
    "                matched = True\n",
    "    # SPLIT THIS UP SO THAT model_data_acc DOES NOT CONTAIN THE RESULTS OF THE BEST PARAMETER SETTINGS\n",
    "    for k,(d,group_clf_data) in enumerate(tqdm(group_clf.groupby('dataset'))):\n",
    "        if(np.sum(group_clf_data.parameters != best_params_for_data[i][k]) <= 0):\n",
    "            print(\"best_params_for_data[i][k]:\",best_params_for_data[i][k])\n",
    "        model_data_other_acc[i,k] = group_clf_data.accuracy[(group_clf_data.parameters != best_params_for_data[i][k])].median()\n",
    "\n",
    "    if matched is False:\n",
    "        print('parameter example for ' + str(clf) + \":\",group_clf['parameters'].values[0])\n",
    "    # model i's accuracy is the median cv accuracy of the best parameter settings for that model, across data sets\n",
    "    model_data_best_acc[i,:] = model_best_params_acc\n",
    "    model_data_acc[i,:len(group_clf.groupby('dataset')['accuracy'].median())] = group_clf.groupby('dataset')['accuracy'].median()\n",
    "         \n",
    "    all_models.append(clf)"
   ]
  },
  {
   "cell_type": "code",
   "execution_count": null,
   "metadata": {
    "collapsed": false
   },
   "outputs": [],
   "source": [
    "model_nice_dict = {\n",
    "    'AdaBoostClassifier': 'AdaBoost',\n",
    "    'BernoulliNB': 'Bernoulli NB',\n",
    "    'LinearSVC': 'Linear SVC',\n",
    "    'LogisticRegression': 'Logistic Regression',\n",
    "    'MultinomialNB': 'Multinomial NB',\n",
    "    'PassiveAggressiveClassifier': 'Passive Aggressive',\n",
    "    'SGDClassifier': 'SGD',\n",
    "    'GaussianNB': 'Gaussian NB',\n",
    "    'DecisionTreeClassifier': 'Decision Tree',\n",
    "    'ExtraTreesClassifier': 'Extra Trees',\n",
    "    'RandomForestClassifier': 'Random Forest',\n",
    "    'GradientBoostingClassifier':'Gradient Boosting',\n",
    "    'KNeighborsClassifier': 'K-Nearest Neighbor',\n",
    "    'SVC': 'SVC'\n",
    "}\n",
    "model_nice = []\n",
    "for m in all_models:\n",
    "    model_nice.append(model_nice_dict[m])\n",
    "    \n",
    "x = np.arange(0,model_data_acc.shape[0]-1,step=1,dtype=float)+1.\n",
    "x1 = x-0.125\n",
    "x2 = x+0.125\n",
    "x3 = x+0.25\n",
    "print(\"x:\",x)\n",
    "print(\"x1:\",x1)\n",
    "print(\"x2:\",x2)\n",
    "plt.figure(figsize=(6,6))\n",
    "bp1 = plt.boxplot(model_data_default_acc[:-1].transpose(),True,'',positions=x1,widths=0.25,patch_artist=True,vert=False)\n",
    "plt.setp(bp1['medians'], color='black')\n",
    "plt.setp(bp1['boxes'], facecolor='lightblue',edgecolor='black')\n",
    "plt.setp(bp1['whiskers'], color='black')\n",
    "\n",
    "\n",
    "\n",
    "bp2 = plt.boxplot(model_data_best_acc[:-1].transpose(),True,'',positions=x2,widths=0.25,patch_artist=True,vert=False)\n",
    "plt.setp(bp2['boxes'], facecolor='red',edgecolor='black')\n",
    "plt.setp(bp2['caps'], color='black')\n",
    "plt.setp(bp2['whiskers'], color='black')\n",
    "plt.setp(bp2['fliers'], color='red')\n",
    "plt.setp(bp2['medians'], color='black')\n",
    "\n",
    "# bp3 = plt.boxplot(model_data_other_acc[:-1].transpose(),True,'',positions=x3,widths=0.25,patch_artist=True)\n",
    "# plt.setp(bp3['medians'], color='black')\n",
    "# plt.setp(bp3['boxes'], facecolor='lightgreen',edgecolor='black')\n",
    "# plt.setp(bp3['whiskers'], color='black')\n",
    "\n",
    "plt.ylim(0,14)\n",
    "plt.xlim(0,1.1)\n",
    "plt.yticks(x,model_nice,rotation=0)\n",
    "plt.xlabel('Median Accuracy for All Problems')\n",
    "plt.figtext(0.3, 0.55, 'Default Parameters',\n",
    "            backgroundcolor='lightblue', color='black', weight='roman',\n",
    "            size='small')\n",
    "plt.figtext(0.3, 0.5, 'Tuned Parameters',\n",
    "            backgroundcolor='red',\n",
    "            color='black', weight='roman', size='small')\n",
    "plt.tight_layout()\n",
    "plt.gcf().savefig('figs/tuned_untuned_accuracy_boxplot.pdf')\n",
    "plt.show()"
   ]
  },
  {
   "cell_type": "code",
   "execution_count": null,
   "metadata": {
    "collapsed": false
   },
   "outputs": [],
   "source": [
    "# # get median accuracy for best parameter values\n",
    "\n",
    "np.set_printoptions(threshold=np.nan)\n",
    "\n",
    "for i,(clf, group_clf) in enumerate(tqdm(data.groupby('classifier'))):\n",
    "    if clf == 'SGDClassifier':\n",
    "        print('classifier:',clf)\n",
    "#         print(group_clf['parameters'].unique())\n",
    "        with open(str(clf) + '_parameters.txt', 'w+') as outfile:\n",
    "            outfile.write(str(group_clf['parameters'].unique()))\n"
   ]
  },
  {
   "cell_type": "markdown",
   "metadata": {
    "collapsed": true
   },
   "source": [
    "# print model abbreviation table"
   ]
  },
  {
   "cell_type": "code",
   "execution_count": 4,
   "metadata": {
    "collapsed": false
   },
   "outputs": [
    {
     "name": "stdout",
     "output_type": "stream",
     "text": [
      "{'PassiveAggressiveClassifier': 'PAC', 'BernoulliNB': 'BNB', 'ExtraTreesClassifier': 'ET', 'RandomForestClassifier': 'RF', 'DecisionTreeClassifier': 'DT', 'GaussianNB': 'GNB', 'LinearSVC': 'LSVC', 'GradientBoostingClassifier': 'GB', 'MultinomialNB': 'MNB', 'LogisticRegression': 'LR', 'AdaBoostClassifier': 'AB', 'SGDClassifier': 'SGD', 'KNeighborsClassifier': 'KNN'}\n",
      "{'PassiveAggressiveClassifier': 'PAC', 'BernoulliNB': 'BNB', 'ExtraTreesClassifier': 'ET', 'RandomForestClassifier': 'RF', 'DecisionTreeClassifier': 'DT', 'GaussianNB': 'GNB', 'LinearSVC': 'LSVC', 'GradientBoostingClassifier': 'GB', 'MultinomialNB': 'MNB', 'LogisticRegression': 'LR', 'AdaBoostClassifier': 'AB', 'SGDClassifier': 'SGD', 'KNeighborsClassifier': 'KNN'}\n",
      "{'PassiveAggressiveClassifier': 'PAC', 'BernoulliNB': 'BNB', 'ExtraTreesClassifier': 'ET', 'RandomForestClassifier': 'RF', 'DecisionTreeClassifier': 'DT', 'GaussianNB': 'GNB', 'LinearSVC': 'LSVC', 'GradientBoostingClassifier': 'GB', 'MultinomialNB': 'MNB', 'LogisticRegression': 'LR', 'AdaBoostClassifier': 'AB', 'SGDClassifier': 'SGD', 'KNeighborsClassifier': 'KNN'}\n",
      "{'PassiveAggressiveClassifier': 'PAC', 'BernoulliNB': 'BNB', 'ExtraTreesClassifier': 'ET', 'RandomForestClassifier': 'RF', 'DecisionTreeClassifier': 'DT', 'GaussianNB': 'GNB', 'LinearSVC': 'LSVC', 'GradientBoostingClassifier': 'GB', 'MultinomialNB': 'MNB', 'LogisticRegression': 'LR', 'AdaBoostClassifier': 'AB', 'SGDClassifier': 'SGD', 'KNeighborsClassifier': 'KNN'}\n",
      "{'PassiveAggressiveClassifier': 'PAC', 'BernoulliNB': 'BNB', 'ExtraTreesClassifier': 'ET', 'RandomForestClassifier': 'RF', 'DecisionTreeClassifier': 'DT', 'GaussianNB': 'GNB', 'LinearSVC': 'LSVC', 'GradientBoostingClassifier': 'GB', 'MultinomialNB': 'MNB', 'LogisticRegression': 'LR', 'AdaBoostClassifier': 'AB', 'SGDClassifier': 'SGD', 'KNeighborsClassifier': 'KNN'}\n",
      "{'PassiveAggressiveClassifier': 'PAC', 'BernoulliNB': 'BNB', 'ExtraTreesClassifier': 'ET', 'RandomForestClassifier': 'RF', 'DecisionTreeClassifier': 'DT', 'GaussianNB': 'GNB', 'LinearSVC': 'LSVC', 'GradientBoostingClassifier': 'GB', 'MultinomialNB': 'MNB', 'LogisticRegression': 'LR', 'AdaBoostClassifier': 'AB', 'SGDClassifier': 'SGD', 'KNeighborsClassifier': 'KNN'}\n",
      "{'PassiveAggressiveClassifier': 'PAC', 'BernoulliNB': 'BNB', 'ExtraTreesClassifier': 'ET', 'RandomForestClassifier': 'RF', 'DecisionTreeClassifier': 'DT', 'GaussianNB': 'GNB', 'LinearSVC': 'LSVC', 'GradientBoostingClassifier': 'GB', 'MultinomialNB': 'MNB', 'LogisticRegression': 'LR', 'AdaBoostClassifier': 'AB', 'SGDClassifier': 'SGD', 'KNeighborsClassifier': 'KNN'}\n",
      "{'PassiveAggressiveClassifier': 'PAC', 'BernoulliNB': 'BNB', 'ExtraTreesClassifier': 'ET', 'RandomForestClassifier': 'RF', 'DecisionTreeClassifier': 'DT', 'GaussianNB': 'GNB', 'LinearSVC': 'LSVC', 'GradientBoostingClassifier': 'GB', 'MultinomialNB': 'MNB', 'LogisticRegression': 'LR', 'AdaBoostClassifier': 'AB', 'SGDClassifier': 'SGD', 'KNeighborsClassifier': 'KNN'}\n",
      "{'PassiveAggressiveClassifier': 'PAC', 'BernoulliNB': 'BNB', 'ExtraTreesClassifier': 'ET', 'RandomForestClassifier': 'RF', 'DecisionTreeClassifier': 'DT', 'GaussianNB': 'GNB', 'LinearSVC': 'LSVC', 'GradientBoostingClassifier': 'GB', 'MultinomialNB': 'MNB', 'LogisticRegression': 'LR', 'AdaBoostClassifier': 'AB', 'SGDClassifier': 'SGD', 'KNeighborsClassifier': 'KNN'}\n",
      "{'PassiveAggressiveClassifier': 'PAC', 'BernoulliNB': 'BNB', 'ExtraTreesClassifier': 'ET', 'RandomForestClassifier': 'RF', 'DecisionTreeClassifier': 'DT', 'GaussianNB': 'GNB', 'LinearSVC': 'LSVC', 'GradientBoostingClassifier': 'GB', 'MultinomialNB': 'MNB', 'LogisticRegression': 'LR', 'AdaBoostClassifier': 'AB', 'SGDClassifier': 'SGD', 'KNeighborsClassifier': 'KNN'}\n",
      "{'PassiveAggressiveClassifier': 'PAC', 'BernoulliNB': 'BNB', 'ExtraTreesClassifier': 'ET', 'RandomForestClassifier': 'RF', 'DecisionTreeClassifier': 'DT', 'GaussianNB': 'GNB', 'LinearSVC': 'LSVC', 'GradientBoostingClassifier': 'GB', 'MultinomialNB': 'MNB', 'LogisticRegression': 'LR', 'AdaBoostClassifier': 'AB', 'SGDClassifier': 'SGD', 'KNeighborsClassifier': 'KNN'}\n",
      "{'PassiveAggressiveClassifier': 'PAC', 'BernoulliNB': 'BNB', 'ExtraTreesClassifier': 'ET', 'RandomForestClassifier': 'RF', 'DecisionTreeClassifier': 'DT', 'GaussianNB': 'GNB', 'LinearSVC': 'LSVC', 'GradientBoostingClassifier': 'GB', 'MultinomialNB': 'MNB', 'LogisticRegression': 'LR', 'AdaBoostClassifier': 'AB', 'SGDClassifier': 'SGD', 'KNeighborsClassifier': 'KNN'}\n",
      "{'PassiveAggressiveClassifier': 'PAC', 'BernoulliNB': 'BNB', 'ExtraTreesClassifier': 'ET', 'RandomForestClassifier': 'RF', 'DecisionTreeClassifier': 'DT', 'GaussianNB': 'GNB', 'LinearSVC': 'LSVC', 'GradientBoostingClassifier': 'GB', 'MultinomialNB': 'MNB', 'LogisticRegression': 'LR', 'AdaBoostClassifier': 'AB', 'SGDClassifier': 'SGD', 'KNeighborsClassifier': 'KNN'}\n"
     ]
    }
   ],
   "source": [
    "model_nice_dict = {\n",
    "    'AdaBoostClassifier': 'AB',\n",
    "    'BernoulliNB': 'BNB',\n",
    "    'LinearSVC': 'LSVC',\n",
    "    'LogisticRegression': 'LR',\n",
    "    'MultinomialNB': 'MNB',\n",
    "    'PassiveAggressiveClassifier': 'PAC',\n",
    "    'SGDClassifier': 'SGD',\n",
    "    'GaussianNB': 'GNB',\n",
    "    'DecisionTreeClassifier': 'DT',\n",
    "    'ExtraTreesClassifier': 'ET',\n",
    "    'RandomForestClassifier': 'RF',\n",
    "    'GradientBoostingClassifier':'GB',\n",
    "    'KNeighborsClassifier': 'KNN'\n",
    "}\n",
    "model_nice = []\n",
    "for m in model_nice_dict:\n",
    "    print(model_nice_dict)\n",
    "\n",
    "\n",
    "    "
   ]
  },
  {
   "cell_type": "code",
   "execution_count": 5,
   "metadata": {
    "collapsed": false
   },
   "outputs": [
    {
     "name": "stdout",
     "output_type": "stream",
     "text": [
      "                                             dataset              classifier  \\\n",
      "0  GAMETES_Epistasis_2-Way_1000atts_0.4H_EDM-1_ED...      AdaBoostClassifier   \n",
      "1  GAMETES_Epistasis_2-Way_1000atts_0.4H_EDM-1_ED...             BernoulliNB   \n",
      "2  GAMETES_Epistasis_2-Way_1000atts_0.4H_EDM-1_ED...  DecisionTreeClassifier   \n",
      "3  GAMETES_Epistasis_2-Way_1000atts_0.4H_EDM-1_ED...    ExtraTreesClassifier   \n",
      "4  GAMETES_Epistasis_2-Way_1000atts_0.4H_EDM-1_ED...              GaussianNB   \n",
      "\n",
      "   bal_accuracy  \n",
      "0      0.502500  \n",
      "1      0.503750  \n",
      "2      0.531875  \n",
      "3      0.551875  \n",
      "4      0.499375  \n"
     ]
    }
   ],
   "source": [
    "import pandas as pd\n",
    "\n",
    "data = pd.read_csv('sklearn-benchmark5-data-edited.tsv.gz', sep='\\t', names=['dataset',\n",
    "                                                                     'classifier',\n",
    "                                                                     'parameters',\n",
    "                                                                     'accuracy', \n",
    "                                                                     'macrof1',\n",
    "                                                                     'bal_accuracy']).fillna('')\n",
    "data = data.groupby(['dataset','classifier'])['bal_accuracy'].max().reset_index()\n",
    "\n",
    "print(data[:5])"
   ]
  },
  {
   "cell_type": "code",
   "execution_count": 7,
   "metadata": {
    "collapsed": false
   },
   "outputs": [
    {
     "name": "stderr",
     "output_type": "stream",
     "text": [
      "/home/bill/anaconda3/lib/python3.5/site-packages/ipykernel/__main__.py:3: FutureWarning: sort(columns=....) is deprecated, use sort_values(by=.....)\n",
      "  app.launch_new_instance()\n",
      "/home/bill/anaconda3/lib/python3.5/site-packages/ipykernel/__main__.py:7: FutureWarning: sort(columns=....) is deprecated, use sort_values(by=.....)\n"
     ]
    },
    {
     "name": "stdout",
     "output_type": "stream",
     "text": [
      "                                                    bal_accuracy\n",
      "dataset                                                         \n",
      "postoperative-patient-data                              0.522577\n",
      "GAMETES_Epistasis_2-Way_20atts_0.1H_EDM-1_1             0.528319\n",
      "analcatdata_dmft                                        0.539730\n",
      "GAMETES_Heterogeneity_20atts_1600_Het_0.4_0.2_7...      0.542770\n",
      "coil2000                                                0.557337\n",
      "analcatdata_germangss                                   0.589339\n",
      "cleveland-nominal                                       0.605934\n",
      "cleveland                                               0.618177\n",
      "wine-quality-red                                        0.624348\n",
      "cloud                                                   0.632068\n",
      "schizo                                                  0.634562\n",
      "krkopt                                                  0.638377\n",
      "cmc                                                     0.642090\n",
      "Hill_Valley_without_noise                               0.644895\n",
      "flags                                                   0.656955\n",
      "connect-4                                               0.661333\n",
      "analcatdata_aids                                        0.682703\n",
      "saheart                                                 0.685939\n",
      "bupa                                                    0.686393\n",
      "dis                                                     0.702945\n",
      "analcatdata_boxing1                                     0.707929\n",
      "yeast                                                   0.720693\n",
      "diabetes                                                0.726813\n",
      "calendarDOW                                             0.732421\n",
      "mux6                                                    0.743983\n",
      "allhypo                                                 0.744471\n",
      "allbp                                                   0.750713\n",
      "banana                                                  0.752352\n",
      "analcatdata_cyyoung8092                                 0.761772\n",
      "sleep                                                   0.768057\n",
      "...                                                          ...\n",
      "buggyCrx                                                0.872378\n",
      "satimage                                                0.875534\n",
      "mfeat-zernike                                           0.884871\n",
      "ann-thyroid                                             0.891510\n",
      "waveform-40                                             0.894152\n",
      "mfeat-fourier                                           0.898323\n",
      "splice                                                  0.907190\n",
      "spectf                                                  0.908353\n",
      "labor                                                   0.913469\n",
      "corral                                                  0.919708\n",
      "tokyo1                                                  0.920764\n",
      "shuttle                                                 0.934655\n",
      "segmentation                                            0.958106\n",
      "house-votes-84                                          0.959479\n",
      "dna                                                     0.966451\n",
      "pendigits                                               0.966759\n",
      "soybean                                                 0.967504\n",
      "breast                                                  0.968438\n",
      "breast-cancer-wisconsin                                 0.973054\n",
      "mfeat-karhunen                                          0.976352\n",
      "prnn_crabs                                              0.978712\n",
      "optdigits                                               0.981265\n",
      "promoters                                               0.982580\n",
      "mfeat-factors                                           0.985505\n",
      "dermatology                                             0.986739\n",
      "wine-recognition                                        0.992841\n",
      "analcatdata_authorship                                  0.998210\n",
      "agaricus-lepiota                                        1.001801\n",
      "clean2                                                  1.006553\n",
      "mofn-3-7-10                                             1.012666\n",
      "\n",
      "[83 rows x 1 columns]\n",
      "0    GAMETES_Epistasis_2-Way_1000atts_0.4H_EDM-1_ED...\n",
      "1    GAMETES_Epistasis_2-Way_1000atts_0.4H_EDM-1_ED...\n",
      "2    GAMETES_Epistasis_2-Way_1000atts_0.4H_EDM-1_ED...\n",
      "3    GAMETES_Epistasis_2-Way_1000atts_0.4H_EDM-1_ED...\n",
      "4    GAMETES_Epistasis_2-Way_1000atts_0.4H_EDM-1_ED...\n",
      "Name: dataset, dtype: object\n",
      "90% cutoff: 86\n",
      "80% cutoff: 121\n",
      "70% cutoff: 149\n",
      "60% cutoff: 163\n"
     ]
    },
    {
     "data": {
      "image/png": "[encoded data removed]",
      "text/plain": [
       "<matplotlib.figure.Figure at 0x7efe8fbf0ef0>"
      ]
     },
     "metadata": {},
     "output_type": "display_data"
    }
   ],
   "source": [
    "import seaborn as sns\n",
    "\n",
    "datan = data.groupby(['dataset']).max().sort('bal_accuracy',ascending=False)\n",
    "# print(datan)\n",
    "\n",
    "datamv = data.groupby(['dataset']).median()+data.groupby(['dataset']).var()\n",
    "datamv = datamv.sort('bal_accuracy',ascending=True)\n",
    "\n",
    "# for i in datamv.index:\n",
    "#     print(data[i,'bal_accuracy'])\n",
    "print(datamv[::2])\n",
    "# print(datan.index)\n",
    "\n",
    "print(data['dataset'][:5])\n",
    "plt.figure(figsize=(10,5))\n",
    "sns.set_style(\"whitegrid\")\n",
    "s=sns.boxplot(data=data,x='dataset',y='bal_accuracy',order=datan.index,fliersize=3,linewidth=0.75)\n",
    "s.set_xticks(np.arange(len(np.unique(data['dataset'])),step=10))\n",
    "s.set_xticklabels(np.arange(len(np.unique(data['dataset'])),step=10))\n",
    "yticks = np.hstack((np.arange(0.6,step=0.1),np.arange(0.6,1.05,step=0.05)))\n",
    "s.set_yticks(yticks)\n",
    "s.set_yticklabels(['{0:.2f}'.format(x) for x in yticks],size=9)\n",
    "plt.ylim(0,1.1)\n",
    "plt.ylabel('Balanced Accuracy',size=16)\n",
    "plt.xlabel('Dataset',size=16)\n",
    "h = plt.gcf()\n",
    "h.tight_layout()\n",
    "h.savefig('figs/boxplot_all.pdf',bbox_inches='tight')\n",
    "h.savefig('figs/boxplot_all.png',bbox_inches='tight')\n",
    "\n",
    "\n",
    "print('90% cutoff:',len(datan[datan['bal_accuracy']>=0.9]))\n",
    "print('80% cutoff:',len(datan[datan['bal_accuracy']>=0.8]))\n",
    "print('70% cutoff:',len(datan[datan['bal_accuracy']>=0.7]))\n",
    "print('60% cutoff:',len(datan[datan['bal_accuracy']>=0.6]))\n",
    "\n",
    "# for i,d in enumerate(datan.index):\n",
    "\n",
    "#     print('data set ',i,':',data['dataset'][d])\n",
    "# plt.gca().set_xticks(np.arange(len(data),step=10))\n",
    "# plt.gca().set_xticklabels(str(np.arange(len(data),step=10)))"
   ]
  },
  {
   "cell_type": "code",
   "execution_count": 47,
   "metadata": {
    "collapsed": false
   },
   "outputs": [
    {
     "data": {
      "image/png": "[encoded data removed]",
      "text/plain": [
       "<matplotlib.figure.Figure at 0x7f0303375908>"
      ]
     },
     "metadata": {},
     "output_type": "display_data"
    }
   ],
   "source": [
    "cutoff = np.empty(100)\n",
    "for i in np.arange(100):\n",
    "    cutoff[i] = len(datan[datan['bal_accuracy']>=i/100])/len(datan)\n",
    "plt.bar(np.arange(len(cutoff)),cutoff)\n",
    "plt.xlim(50,100)\n",
    "plt.show()"
   ]
  },
  {
   "cell_type": "code",
   "execution_count": 49,
   "metadata": {
    "collapsed": false
   },
   "outputs": [
    {
     "data": {
      "text/plain": [
       "0.9030303030303031"
      ]
     },
     "execution_count": 49,
     "metadata": {},
     "output_type": "execute_result"
    }
   ],
   "source": [
    "149/165"
   ]
  },
  {
   "cell_type": "code",
   "execution_count": null,
   "metadata": {
    "collapsed": true
   },
   "outputs": [],
   "source": [
    "data['imbalance']"
   ]
  },
  {
   "cell_type": "code",
   "execution_count": null,
   "metadata": {
    "collapsed": true
   },
   "outputs": [],
   "source": []
  },
  {
   "cell_type": "code",
   "execution_count": null,
   "metadata": {
    "collapsed": true
   },
   "outputs": [],
   "source": []
  },
  {
   "cell_type": "code",
   "execution_count": null,
   "metadata": {
    "collapsed": true
   },
   "outputs": [],
   "source": []
  },
  {
   "cell_type": "code",
   "execution_count": null,
   "metadata": {
    "collapsed": true
   },
   "outputs": [],
   "source": []
  }
 ],
 "metadata": {
  "anaconda-cloud": {},
  "kernelspec": {
   "display_name": "Python [Root]",
   "language": "python",
   "name": "Python [Root]"
  },
  "language_info": {
   "codemirror_mode": {
    "name": "ipython",
    "version": 3
   },
   "file_extension": ".py",
   "mimetype": "text/x-python",
   "name": "python",
   "nbconvert_exporter": "python",
   "pygments_lexer": "ipython3",
   "version": "3.5.2"
  }
 },
 "nbformat": 4,
 "nbformat_minor": 0
}
