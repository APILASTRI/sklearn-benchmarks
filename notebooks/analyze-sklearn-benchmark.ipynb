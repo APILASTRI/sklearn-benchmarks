{
 "cells": [
  {
   "cell_type": "markdown",
   "metadata": {
    "collapsed": true
   },
   "source": [
    "# Rank the parameters for each model"
   ]
  },
  {
   "cell_type": "code",
   "execution_count": null,
   "metadata": {
    "collapsed": false
   },
   "outputs": [],
   "source": [
    "import pandas as pd\n",
    "\n",
    "data = pd.read_csv('sklearn-benchmark4-data.tsv.gz', sep='\\t', names=['dataset',\n",
    "                                                                     'classifier',\n",
    "                                                                     'parameters',\n",
    "                                                                     'accuracy', \n",
    "                                                                     'macrof1',\n",
    "                                                                     'bal_accuracy']).fillna('')\n",
    "\n",
    "data = data.groupby(['classifier', 'dataset', 'parameters'])['accuracy'].mean().reset_index()\n",
    "data['accuracy'] = data['accuracy'].apply(lambda x: round(x, 3))"
   ]
  },
  {
   "cell_type": "code",
   "execution_count": null,
   "metadata": {
    "collapsed": false
   },
   "outputs": [],
   "source": [
    "from collections import defaultdict\n",
    "from tqdm import tqdm\n",
    "import numpy as np\n",
    "\n",
    "model_param_ranks = defaultdict(list)\n",
    "\n",
    "for dataset, group_dataset in tqdm(data.groupby('dataset')):\n",
    "    num_scores = float(len(group_dataset['accuracy'].unique()))\n",
    "    accuracy_ranks = {}\n",
    "    \n",
    "    for rank, accuracy in enumerate(sorted(group_dataset['accuracy'].unique(), reverse=True)):\n",
    "        accuracy_ranks[accuracy] = (rank + 1) / num_scores\n",
    "    \n",
    "    for index, row in group_dataset.iterrows():\n",
    "        model_param_ranks['{}-{}'.format(row['classifier'],\n",
    "                                         row['parameters'])].append(accuracy_ranks[row['accuracy']])"
   ]
  },
  {
   "cell_type": "code",
   "execution_count": null,
   "metadata": {
    "collapsed": true
   },
   "outputs": [],
   "source": [
    "model_average_param_ranks = defaultdict(float)\n",
    "for model_param in model_param_ranks:\n",
    "    model_average_param_ranks[model_param] = np.mean(model_param_ranks[model_param])"
   ]
  },
  {
   "cell_type": "markdown",
   "metadata": {},
   "source": [
    "## Best params for each model from rankings"
   ]
  },
  {
   "cell_type": "code",
   "execution_count": null,
   "metadata": {
    "collapsed": false
   },
   "outputs": [],
   "source": [
    "models_seen = set()\n",
    "\n",
    "for model_param in sorted(model_average_param_ranks, key=model_average_param_ranks.get, reverse=False):\n",
    "    model = model_param.split('-')[0]\n",
    "    if model not in models_seen:\n",
    "        models_seen.add(model)\n",
    "    else:\n",
    "        continue\n",
    "\n",
    "    print('{}\\t{}'.format(round(model_average_param_ranks[model_param], 3), model_param))\n",
    "    \n",
    "    if len(models_seen) >= 15:\n",
    "        break"
   ]
  },
  {
   "cell_type": "markdown",
   "metadata": {},
   "source": [
    "## Average each model parameter's rankings"
   ]
  },
  {
   "cell_type": "code",
   "execution_count": null,
   "metadata": {
    "collapsed": false
   },
   "outputs": [],
   "source": [
    "from collections import defaultdict\n",
    "import numpy as np\n",
    "\n",
    "model_param_breakdown_rankings = defaultdict(lambda: defaultdict(lambda: defaultdict(list)))\n",
    "\n",
    "for model_param in model_average_param_ranks:\n",
    "    model = model_param.split('-')[0]\n",
    "    if model == 'GaussianNB':\n",
    "        continue\n",
    "    params = '-'.join(model_param.split('-')[1:])\n",
    "    params = params.split(',')\n",
    "    rank = model_average_param_ranks[model_param]\n",
    "    for param in params:\n",
    "        model_param_breakdown_rankings[model][param.split('=')[0]][param.split('=')[-1]].append(rank)\n",
    "\n",
    "model_param_breakdown_average_rankings = defaultdict(lambda: defaultdict(lambda: defaultdict(float)))\n",
    "\n",
    "for model in sorted(model_param_breakdown_rankings):\n",
    "    for param in model_param_breakdown_rankings[model]:\n",
    "        for param_val in model_param_breakdown_rankings[model][param]:\n",
    "            model_param_breakdown_average_rankings[model][param][param_val] = round(np.mean(\n",
    "                model_param_breakdown_rankings[model][param][param_val]), 3)"
   ]
  },
  {
   "cell_type": "code",
   "execution_count": null,
   "metadata": {
    "collapsed": false,
    "scrolled": true
   },
   "outputs": [],
   "source": [
    "for model in sorted(model_param_breakdown_average_rankings):\n",
    "    print(model)\n",
    "    print('--------------------')\n",
    "    for param in model_param_breakdown_average_rankings[model]:\n",
    "        print(param)\n",
    "        for param_val in sorted(model_param_breakdown_average_rankings[model][param],\n",
    "                                key=model_param_breakdown_average_rankings[model][param].get):\n",
    "            print('\\t={}{}{}'.format(param_val,\n",
    "                                   (' ' * 25)[:25 - len(param_val)],\n",
    "                                   model_param_breakdown_average_rankings[model][param][param_val]))\n",
    "            \n",
    "    print('')"
   ]
  },
  {
   "cell_type": "markdown",
   "metadata": {},
   "source": [
    "# Rank each model on a per-data set basis"
   ]
  },
  {
   "cell_type": "code",
   "execution_count": null,
   "metadata": {
    "collapsed": false
   },
   "outputs": [],
   "source": [
    "import pandas as pd\n",
    "\n",
    "data = pd.read_csv('sklearn-benchmark4-data.tsv.gz', sep='\\t', names=['dataset',\n",
    "                                                                     'classifier',\n",
    "                                                                     'parameters',\n",
    "                                                                     'accuracy', \n",
    "                                                                     'macrof1',\n",
    "                                                                     'bal_accuracy']).fillna('')\n",
    "\n",
    "data = data.groupby(['classifier', 'dataset', 'parameters'])['accuracy'].mean().reset_index()\n",
    "data['accuracy'] = data['accuracy'].apply(lambda x: round(x, 3))"
   ]
  },
  {
   "cell_type": "code",
   "execution_count": null,
   "metadata": {
    "collapsed": false
   },
   "outputs": [],
   "source": [
    "from collections import defaultdict\n",
    "from tqdm import tqdm\n",
    "import numpy as np\n",
    "\n",
    "model_ranks = defaultdict(list)\n",
    "\n",
    "for dataset, group_dataset in tqdm(data.groupby('dataset')):\n",
    "    if len(group_dataset['classifier'].unique()) != 14:\n",
    "        continue\n",
    "    \n",
    "    num_scores = float(len(group_dataset['accuracy'].unique()))\n",
    "    accuracy_ranks = {}\n",
    "    \n",
    "    for rank, accuracy in enumerate(sorted(group_dataset['accuracy'].unique(), reverse=True)):\n",
    "        accuracy_ranks[accuracy] = (rank + 1) / num_scores\n",
    "    \n",
    "    for index, row in group_dataset.iterrows():\n",
    "        model_ranks[row['classifier']].append(accuracy_ranks[row['accuracy']])"
   ]
  },
  {
   "cell_type": "code",
   "execution_count": null,
   "metadata": {
    "collapsed": false
   },
   "outputs": [],
   "source": [
    "model_average_ranks = defaultdict(float)\n",
    "for model in model_ranks:\n",
    "    model_average_ranks[model] = np.mean(model_ranks[model])"
   ]
  },
  {
   "cell_type": "code",
   "execution_count": null,
   "metadata": {
    "collapsed": false
   },
   "outputs": [],
   "source": [
    "for model in sorted(model_average_ranks, key=model_average_ranks.get, reverse=False):\n",
    "    print('{}\\t{}'.format(round(model_average_ranks[model], 3), model))"
   ]
  },
  {
   "cell_type": "markdown",
   "metadata": {},
   "source": [
    "# How often is model X better than model Y?"
   ]
  },
  {
   "cell_type": "code",
   "execution_count": 5,
   "metadata": {
    "collapsed": false
   },
   "outputs": [
    {
     "name": "stdout",
     "output_type": "stream",
     "text": [
      "           classifier                                            dataset  \\\n",
      "0  AdaBoostClassifier  GAMETES_Epistasis_2-Way_1000atts_0.4H_EDM-1_ED...   \n",
      "1  AdaBoostClassifier  GAMETES_Epistasis_2-Way_1000atts_0.4H_EDM-1_ED...   \n",
      "2  AdaBoostClassifier  GAMETES_Epistasis_2-Way_1000atts_0.4H_EDM-1_ED...   \n",
      "3  AdaBoostClassifier  GAMETES_Epistasis_2-Way_1000atts_0.4H_EDM-1_ED...   \n",
      "4  AdaBoostClassifier  GAMETES_Epistasis_2-Way_1000atts_0.4H_EDM-1_ED...   \n",
      "5  AdaBoostClassifier  GAMETES_Epistasis_2-Way_1000atts_0.4H_EDM-1_ED...   \n",
      "6  AdaBoostClassifier  GAMETES_Epistasis_2-Way_1000atts_0.4H_EDM-1_ED...   \n",
      "7  AdaBoostClassifier  GAMETES_Epistasis_2-Way_1000atts_0.4H_EDM-1_ED...   \n",
      "8  AdaBoostClassifier  GAMETES_Epistasis_2-Way_1000atts_0.4H_EDM-1_ED...   \n",
      "9  AdaBoostClassifier  GAMETES_Epistasis_2-Way_1000atts_0.4H_EDM-1_ED...   \n",
      "\n",
      "                             parameters  accuracy  \n",
      "0    learning_rate=0.01,n_estimators=10     0.479  \n",
      "1   learning_rate=0.01,n_estimators=100     0.477  \n",
      "2  learning_rate=0.01,n_estimators=1000     0.488  \n",
      "3    learning_rate=0.01,n_estimators=50     0.484  \n",
      "4   learning_rate=0.01,n_estimators=500     0.496  \n",
      "5     learning_rate=0.1,n_estimators=10     0.483  \n",
      "6    learning_rate=0.1,n_estimators=100     0.492  \n",
      "7   learning_rate=0.1,n_estimators=1000     0.479  \n",
      "8     learning_rate=0.1,n_estimators=50     0.493  \n",
      "9    learning_rate=0.1,n_estimators=500     0.466  \n"
     ]
    }
   ],
   "source": [
    "import pandas as pd\n",
    "import pdb\n",
    "\n",
    "data = pd.read_csv('sklearn-benchmark4-data.tsv.gz', sep='\\t', names=['dataset',\n",
    "                                                                     'classifier',\n",
    "                                                                     'parameters',\n",
    "                                                                     'accuracy', \n",
    "                                                                     'macrof1',\n",
    "                                                                     'bal_accuracy']).fillna('')\n",
    "\n",
    "data = data.groupby(['classifier', 'dataset', 'parameters'])['accuracy'].mean().reset_index()\n",
    "data['accuracy'] = data['accuracy'].apply(lambda x: round(x, 3))\n",
    "print(data[:10])\n",
    "# pdb.set_trace()"
   ]
  },
  {
   "cell_type": "code",
   "execution_count": 3,
   "metadata": {
    "collapsed": false
   },
   "outputs": [
    {
     "ename": "ValueError",
     "evalue": "labels ['macrof1'] not contained in axis",
     "output_type": "error",
     "traceback": [
      "\u001b[1;31m---------------------------------------------------------------------------\u001b[0m",
      "\u001b[1;31mValueError\u001b[0m                                Traceback (most recent call last)",
      "\u001b[1;32m<ipython-input-3-b1b5293e9662>\u001b[0m in \u001b[0;36m<module>\u001b[1;34m()\u001b[0m\n\u001b[0;32m      4\u001b[0m \u001b[1;32mfrom\u001b[0m \u001b[0mitertools\u001b[0m \u001b[1;32mimport\u001b[0m \u001b[0mcombinations\u001b[0m\u001b[1;33m\u001b[0m\u001b[0m\n\u001b[0;32m      5\u001b[0m \u001b[1;33m\u001b[0m\u001b[0m\n\u001b[1;32m----> 6\u001b[1;33m \u001b[0msubdata\u001b[0m \u001b[1;33m=\u001b[0m \u001b[0mdata\u001b[0m\u001b[1;33m.\u001b[0m\u001b[0mdrop\u001b[0m\u001b[1;33m(\u001b[0m\u001b[1;34m'macrof1'\u001b[0m\u001b[1;33m,\u001b[0m\u001b[0maxis\u001b[0m\u001b[1;33m=\u001b[0m\u001b[1;36m1\u001b[0m\u001b[1;33m)\u001b[0m\u001b[1;33m\u001b[0m\u001b[0m\n\u001b[0m\u001b[0;32m      7\u001b[0m \u001b[0msubdata\u001b[0m \u001b[1;33m=\u001b[0m \u001b[0msubdata\u001b[0m\u001b[1;33m.\u001b[0m\u001b[0mdrop\u001b[0m\u001b[1;33m(\u001b[0m\u001b[1;34m'bal_accuracy'\u001b[0m\u001b[1;33m,\u001b[0m\u001b[0maxis\u001b[0m\u001b[1;33m=\u001b[0m\u001b[1;36m1\u001b[0m\u001b[1;33m)\u001b[0m\u001b[1;33m\u001b[0m\u001b[0m\n\u001b[0;32m      8\u001b[0m \u001b[0mmodel_tourneys\u001b[0m \u001b[1;33m=\u001b[0m \u001b[0mdefaultdict\u001b[0m\u001b[1;33m(\u001b[0m\u001b[0mint\u001b[0m\u001b[1;33m)\u001b[0m\u001b[1;33m\u001b[0m\u001b[0m\n",
      "\u001b[1;32m/home/bill/anaconda3/lib/python3.5/site-packages/pandas/core/generic.py\u001b[0m in \u001b[0;36mdrop\u001b[1;34m(self, labels, axis, level, inplace, errors)\u001b[0m\n\u001b[0;32m   1905\u001b[0m                 \u001b[0mnew_axis\u001b[0m \u001b[1;33m=\u001b[0m \u001b[0maxis\u001b[0m\u001b[1;33m.\u001b[0m\u001b[0mdrop\u001b[0m\u001b[1;33m(\u001b[0m\u001b[0mlabels\u001b[0m\u001b[1;33m,\u001b[0m \u001b[0mlevel\u001b[0m\u001b[1;33m=\u001b[0m\u001b[0mlevel\u001b[0m\u001b[1;33m,\u001b[0m \u001b[0merrors\u001b[0m\u001b[1;33m=\u001b[0m\u001b[0merrors\u001b[0m\u001b[1;33m)\u001b[0m\u001b[1;33m\u001b[0m\u001b[0m\n\u001b[0;32m   1906\u001b[0m             \u001b[1;32melse\u001b[0m\u001b[1;33m:\u001b[0m\u001b[1;33m\u001b[0m\u001b[0m\n\u001b[1;32m-> 1907\u001b[1;33m                 \u001b[0mnew_axis\u001b[0m \u001b[1;33m=\u001b[0m \u001b[0maxis\u001b[0m\u001b[1;33m.\u001b[0m\u001b[0mdrop\u001b[0m\u001b[1;33m(\u001b[0m\u001b[0mlabels\u001b[0m\u001b[1;33m,\u001b[0m \u001b[0merrors\u001b[0m\u001b[1;33m=\u001b[0m\u001b[0merrors\u001b[0m\u001b[1;33m)\u001b[0m\u001b[1;33m\u001b[0m\u001b[0m\n\u001b[0m\u001b[0;32m   1908\u001b[0m             \u001b[0mdropped\u001b[0m \u001b[1;33m=\u001b[0m \u001b[0mself\u001b[0m\u001b[1;33m.\u001b[0m\u001b[0mreindex\u001b[0m\u001b[1;33m(\u001b[0m\u001b[1;33m**\u001b[0m\u001b[1;33m{\u001b[0m\u001b[0maxis_name\u001b[0m\u001b[1;33m:\u001b[0m \u001b[0mnew_axis\u001b[0m\u001b[1;33m}\u001b[0m\u001b[1;33m)\u001b[0m\u001b[1;33m\u001b[0m\u001b[0m\n\u001b[0;32m   1909\u001b[0m             \u001b[1;32mtry\u001b[0m\u001b[1;33m:\u001b[0m\u001b[1;33m\u001b[0m\u001b[0m\n",
      "\u001b[1;32m/home/bill/anaconda3/lib/python3.5/site-packages/pandas/indexes/base.py\u001b[0m in \u001b[0;36mdrop\u001b[1;34m(self, labels, errors)\u001b[0m\n\u001b[0;32m   3225\u001b[0m             \u001b[1;32mif\u001b[0m \u001b[0merrors\u001b[0m \u001b[1;33m!=\u001b[0m \u001b[1;34m'ignore'\u001b[0m\u001b[1;33m:\u001b[0m\u001b[1;33m\u001b[0m\u001b[0m\n\u001b[0;32m   3226\u001b[0m                 raise ValueError('labels %s not contained in axis' %\n\u001b[1;32m-> 3227\u001b[1;33m                                  labels[mask])\n\u001b[0m\u001b[0;32m   3228\u001b[0m             \u001b[0mindexer\u001b[0m \u001b[1;33m=\u001b[0m \u001b[0mindexer\u001b[0m\u001b[1;33m[\u001b[0m\u001b[1;33m~\u001b[0m\u001b[0mmask\u001b[0m\u001b[1;33m]\u001b[0m\u001b[1;33m\u001b[0m\u001b[0m\n\u001b[0;32m   3229\u001b[0m         \u001b[1;32mreturn\u001b[0m \u001b[0mself\u001b[0m\u001b[1;33m.\u001b[0m\u001b[0mdelete\u001b[0m\u001b[1;33m(\u001b[0m\u001b[0mindexer\u001b[0m\u001b[1;33m)\u001b[0m\u001b[1;33m\u001b[0m\u001b[0m\n",
      "\u001b[1;31mValueError\u001b[0m: labels ['macrof1'] not contained in axis"
     ]
    }
   ],
   "source": [
    "from collections import defaultdict\n",
    "from tqdm import tqdm\n",
    "import numpy as np\n",
    "from itertools import combinations\n",
    "\n",
    "model_tourneys = defaultdict(int)\n",
    "all_models = sorted(data['classifier'].unique())\n",
    "\n",
    "for dataset, group_dataset in tqdm(data.groupby('dataset')):\n",
    "    \n",
    "    group_dataset['accuracy'] /= group_dataset['accuracy'].max()\n",
    "    group_dataset = group_dataset.set_index('classifier')['accuracy'].to_dict()\n",
    "    \n",
    "    for (model1, model2) in combinations(group_dataset.keys(), 2):\n",
    "        if group_dataset[model1] >= group_dataset[model2] + 0.01:\n",
    "            model_tourneys[(model1, model2)] += 1\n",
    "        elif group_dataset[model2] >= group_dataset[model1] + 0.01:\n",
    "            model_tourneys[(model2, model1)] += 1"
   ]
  },
  {
   "cell_type": "code",
   "execution_count": null,
   "metadata": {
    "collapsed": false,
    "scrolled": true
   },
   "outputs": [],
   "source": [
    "from itertools import product\n",
    "\n",
    "for model1 in all_models:\n",
    "    print('{}{}W / L'.format(model1,\n",
    "                               ' ' * (38 - len(model1))))\n",
    "    print('--------------------')\n",
    "    for model2 in all_models:\n",
    "        if model1 == model2:\n",
    "            continue\n",
    "        print('\\t{}{}{} / {}'.format(model2,\n",
    "                                     ' ' * (30 - len(model2)),\n",
    "                                     model_tourneys[(model1, model2)],\n",
    "                                     model_tourneys[(model2, model1)]))\n",
    "    print('')"
   ]
  },
  {
   "cell_type": "code",
   "execution_count": null,
   "metadata": {
    "collapsed": false
   },
   "outputs": [],
   "source": [
    "from itertools import product\n",
    "import numpy as np\n",
    "\n",
    "model_tourney_matrix = []\n",
    "\n",
    "for pair in list(product(all_models, all_models)):\n",
    "    model_tourney_matrix.append(model_tourneys[pair])\n",
    "    \n",
    "model_tourney_matrix = np.array(model_tourney_matrix).reshape((14, 14))\n",
    "all_models = list(np.array(all_models)[np.argsort(model_tourney_matrix.sum(axis=1))[::-1]])\n",
    "model_tourney_matrix = model_tourney_matrix[:, np.argsort(model_tourney_matrix.sum(axis=1))[::-1]]"
   ]
  },
  {
   "cell_type": "code",
   "execution_count": null,
   "metadata": {
    "collapsed": false
   },
   "outputs": [],
   "source": [
    "%matplotlib inline\n",
    "import matplotlib.pyplot as plt\n",
    "import seaborn as sb\n",
    "model_nice_dict = {\n",
    "    'AdaBoostClassifier': 'AB',\n",
    "    'BernoulliNB': 'BNB',\n",
    "    'LinearSVC': 'LSVC',\n",
    "    'LogisticRegression': 'LR',\n",
    "    'MultinomialNB': 'MNB',\n",
    "    'PassiveAggressiveClassifier': 'PAC',\n",
    "    'SGDClassifier': 'SGD',\n",
    "    'GaussianNB': 'GNB',\n",
    "    'DecisionTreeClassifier': 'DT',\n",
    "    'ExtraTreesClassifier': 'ET',\n",
    "    'RandomForestClassifier': 'RF',\n",
    "    'GradientBoostingClassifier':'GB',\n",
    "    'KNeighborsClassifier': 'KNN',\n",
    "    'SVC': 'SVC'\n",
    "}\n",
    "model_nice_dict_y = {\n",
    "    'AdaBoostClassifier': 'AdaBoost',\n",
    "    'BernoulliNB': 'Bernoulli NB',\n",
    "    'LinearSVC': 'Linear SVC',\n",
    "    'LogisticRegression': 'Logistic Regression',\n",
    "    'MultinomialNB': 'Multinomial NB',\n",
    "    'PassiveAggressiveClassifier': 'Passive Aggressive',\n",
    "    'SGDClassifier': 'SGD',\n",
    "    'GaussianNB': 'Gaussian NB',\n",
    "    'DecisionTreeClassifier': 'Decision Tree',\n",
    "    'ExtraTreesClassifier': 'Extra Trees',\n",
    "    'RandomForestClassifier': 'Random Forest',\n",
    "    'GradientBoostingClassifier':'Gradient Boosting',\n",
    "    'KNeighborsClassifier': 'K-Nearest Neighbor',\n",
    "    'SVC': 'SVC'\n",
    "}\n",
    "\n",
    "model_nice = []\n",
    "model_nice_y = []\n",
    "for m in all_models:\n",
    "    model_nice.append(model_nice_dict[m])\n",
    "    model_nice_y.append(model_nice_dict_y[m])\n",
    "    \n",
    "plt.figure(figsize=(10, 10))\n",
    "sb.heatmap(model_tourney_matrix, square=True, annot=True,# fmt='0.0f',\n",
    "           xticklabels=model_nice, yticklabels=model_nice_y,cbar_kws = {'shrink': 0.6})\n",
    "plt.xticks(fontsize=12)\n",
    "plt.yticks(fontsize=12)\n",
    "plt.xlabel('Losses', fontsize=14)\n",
    "plt.ylabel('Wins', fontsize=14)\n",
    "plt.title('How many times model X outperformed model Y (out of 155)', fontsize=18)\n",
    "h = plt.gcf()\n",
    "plt.tight_layout()\n",
    "h.savefig('figs/model_outperformance.pdf')\n",
    "#plt.savefig('figures/sklearn-model-x-outperform-model-y.pdf', bbox_inches='tight')\n",
    ";"
   ]
  },
  {
   "cell_type": "markdown",
   "metadata": {},
   "source": [
    "# How many models do we need to cover all data sets?"
   ]
  },
  {
   "cell_type": "code",
   "execution_count": null,
   "metadata": {
    "collapsed": false
   },
   "outputs": [],
   "source": [
    "import pandas as pd\n",
    "\n",
    "data = pd.read_csv('sklearn-benchmark3-data.tsv.gz', sep='\\t', names=['dataset',\n",
    "                                                                     'classifier',\n",
    "                                                                     'parameters',\n",
    "                                                                     'accuracy']).fillna('')\n",
    "\n",
    "data = data.groupby(['classifier', 'dataset', 'parameters'])['accuracy'].mean().reset_index()\n",
    "data = data.groupby(['classifier', 'dataset'])['accuracy'].max().reset_index()\n",
    "data['accuracy'] = data['accuracy'].apply(lambda x: round(x, 3))"
   ]
  },
  {
   "cell_type": "code",
   "execution_count": null,
   "metadata": {
    "collapsed": false
   },
   "outputs": [],
   "source": [
    "from collections import defaultdict\n",
    "from tqdm import tqdm\n",
    "import numpy as np\n",
    "\n",
    "dataset_best_models = defaultdict(list)\n",
    "model_counts = defaultdict(int)\n",
    "\n",
    "for dataset, group_dataset in data.groupby('dataset'):\n",
    "    group_dataset['accuracy'] /= group_dataset['accuracy'].max()\n",
    "    dataset_best_models[dataset] = group_dataset.loc[\n",
    "        group_dataset['accuracy'] >= 0.99, 'classifier'].values\n",
    "\n",
    "for dataset in dataset_best_models:\n",
    "    for model in dataset_best_models[dataset]:\n",
    "        model_counts[model] += 1\n",
    "print('Model','&','Data Set Coverage','\\\\\\\\ \\\\hline')\n",
    "for model in sorted(model_counts, key=model_counts.get, reverse=True):\n",
    "    print(model,'&',model_counts[model],'\\\\\\\\')"
   ]
  },
  {
   "cell_type": "code",
   "execution_count": null,
   "metadata": {
    "collapsed": false
   },
   "outputs": [],
   "source": [
    "dataset_best_models = defaultdict(list)\n",
    "model_counts = defaultdict(int)\n",
    "\n",
    "for dataset, group_dataset in data.groupby('dataset'):\n",
    "    group_dataset['accuracy'] /= group_dataset['accuracy'].max()\n",
    "    dataset_best_models[dataset] = group_dataset.loc[\n",
    "        group_dataset['accuracy'] >= 0.99, 'classifier'].values\n",
    "\n",
    "for dataset in dataset_best_models:\n",
    "    for model in dataset_best_models[dataset]:\n",
    "        model_counts[model] += 1\n",
    "\n",
    "dataset_exclude_set = set()\n",
    "top_models = []\n",
    "\n",
    "while len(dataset_exclude_set) != len(data['dataset'].unique()):\n",
    "    next_top_model = sorted(model_counts, key=model_counts.get, reverse=True)[0]\n",
    "    top_models.append((model_counts[next_top_model], next_top_model))\n",
    "    \n",
    "    for dataset in dataset_best_models:\n",
    "        if next_top_model in dataset_best_models[dataset]:\n",
    "            dataset_exclude_set.add(dataset)\n",
    "\n",
    "    dataset_best_models = defaultdict(list)\n",
    "    model_counts = defaultdict(int)\n",
    "    \n",
    "    for dataset, group_dataset in data.groupby('dataset'):\n",
    "        if dataset in dataset_exclude_set:\n",
    "            continue\n",
    "        group_dataset['accuracy'] /= group_dataset['accuracy'].max()\n",
    "        dataset_best_models[dataset] = group_dataset.loc[\n",
    "            group_dataset['accuracy'] >= 0.99, 'classifier'].values\n",
    "        \n",
    "    for dataset in dataset_best_models:\n",
    "        for model in dataset_best_models[dataset]:\n",
    "            model_counts[model] += 1"
   ]
  },
  {
   "cell_type": "code",
   "execution_count": null,
   "metadata": {
    "collapsed": false
   },
   "outputs": [],
   "source": [
    "top_models"
   ]
  },
  {
   "cell_type": "markdown",
   "metadata": {},
   "source": [
    "### Same analysis but excluding SGDClassifier"
   ]
  },
  {
   "cell_type": "code",
   "execution_count": null,
   "metadata": {
    "collapsed": false
   },
   "outputs": [],
   "source": [
    "dataset_best_models = defaultdict(list)\n",
    "model_counts = defaultdict(int)\n",
    "\n",
    "for dataset, group_dataset in data.loc[data['classifier'] != 'SGDClassifier'].groupby('dataset'):\n",
    "    group_dataset['accuracy'] /= group_dataset['accuracy'].max()\n",
    "    dataset_best_models[dataset] = group_dataset.loc[\n",
    "        group_dataset['accuracy'] >= 0.99, 'classifier'].values\n",
    "\n",
    "for dataset in dataset_best_models:\n",
    "    for model in dataset_best_models[dataset]:\n",
    "        model_counts[model] += 1\n",
    "\n",
    "dataset_exclude_set = set()\n",
    "top_models = []\n",
    "\n",
    "while len(dataset_exclude_set) != len(data['dataset'].unique()):\n",
    "    next_top_model = sorted(model_counts, key=model_counts.get, reverse=True)[0]\n",
    "    top_models.append((model_counts[next_top_model], next_top_model))\n",
    "    \n",
    "    for dataset in dataset_best_models:\n",
    "        if next_top_model in dataset_best_models[dataset]:\n",
    "            dataset_exclude_set.add(dataset)\n",
    "\n",
    "    dataset_best_models = defaultdict(list)\n",
    "    model_counts = defaultdict(int)\n",
    "    \n",
    "    for dataset, group_dataset in data.loc[data['classifier'] != 'SGDClassifier'].groupby('dataset'):\n",
    "        if dataset in dataset_exclude_set:\n",
    "            continue\n",
    "        group_dataset['accuracy'] /= group_dataset['accuracy'].max()\n",
    "        dataset_best_models[dataset] = group_dataset.loc[\n",
    "            group_dataset['accuracy'] >= 0.99, 'classifier'].values\n",
    "        \n",
    "    for dataset in dataset_best_models:\n",
    "        for model in dataset_best_models[dataset]:\n",
    "            model_counts[model] += 1"
   ]
  },
  {
   "cell_type": "code",
   "execution_count": null,
   "metadata": {
    "collapsed": false
   },
   "outputs": [],
   "source": [
    "top_models"
   ]
  },
  {
   "cell_type": "markdown",
   "metadata": {},
   "source": [
    "# How many model-parameter combinations do we need to cover all data sets?"
   ]
  },
  {
   "cell_type": "code",
   "execution_count": null,
   "metadata": {
    "collapsed": false
   },
   "outputs": [],
   "source": [
    "import pandas as pd\n",
    "\n",
    "data = pd.read_csv('sklearn-benchmark3-data.tsv.gz', sep='\\t', names=['dataset',\n",
    "                                                                     'classifier',\n",
    "                                                                     'parameters',\n",
    "                                                                     'accuracy']).fillna('')\n",
    "\n",
    "data = data.groupby(['classifier', 'dataset', 'parameters'])['accuracy'].mean().reset_index()\n",
    "data['classifier-params'] = data['classifier'].values + '-' + data['parameters'].values\n",
    "data['accuracy'] = data['accuracy'].apply(lambda x: round(x, 3))"
   ]
  },
  {
   "cell_type": "code",
   "execution_count": null,
   "metadata": {
    "collapsed": false
   },
   "outputs": [],
   "source": [
    "dataset_best_models = defaultdict(list)\n",
    "model_counts = defaultdict(int)\n",
    "\n",
    "for dataset, group_dataset in data.groupby('dataset'):\n",
    "    group_dataset['accuracy'] /= group_dataset['accuracy'].max()\n",
    "    dataset_best_models[dataset] = group_dataset.loc[\n",
    "        group_dataset['accuracy'] >= 0.95, 'classifier-params'].values\n",
    "\n",
    "for dataset in dataset_best_models:\n",
    "    for model in dataset_best_models[dataset]:\n",
    "        model_counts[model] += 1\n",
    "\n",
    "dataset_exclude_set = set()\n",
    "top_models = []\n",
    "\n",
    "while len(dataset_exclude_set) != len(data['dataset'].unique()):\n",
    "    next_top_model = sorted(model_counts, key=model_counts.get, reverse=True)[0]\n",
    "    top_models.append((model_counts[next_top_model], next_top_model))\n",
    "    \n",
    "    for dataset in dataset_best_models:\n",
    "        if next_top_model in dataset_best_models[dataset]:\n",
    "            dataset_exclude_set.add(dataset)\n",
    "\n",
    "    dataset_best_models = defaultdict(list)\n",
    "    model_counts = defaultdict(int)\n",
    "    \n",
    "    for dataset, group_dataset in data.groupby('dataset'):\n",
    "        if dataset in dataset_exclude_set:\n",
    "            continue\n",
    "        group_dataset['accuracy'] /= group_dataset['accuracy'].max()\n",
    "        dataset_best_models[dataset] = group_dataset.loc[\n",
    "            group_dataset['accuracy'] >= 0.95, 'classifier-params'].values\n",
    "        \n",
    "    for dataset in dataset_best_models:\n",
    "        for model in dataset_best_models[dataset]:\n",
    "            model_counts[model] += 1"
   ]
  },
  {
   "cell_type": "code",
   "execution_count": null,
   "metadata": {
    "collapsed": false,
    "scrolled": false
   },
   "outputs": [],
   "source": [
    "top_models"
   ]
  },
  {
   "cell_type": "markdown",
   "metadata": {},
   "source": [
    "# Are there subsets of the data sets that particular models do better on?\n",
    "\n",
    "Create matrix of data sets vs. best model accuracy on those data sets.\n",
    "\n",
    "Cluster the matrix.\n"
   ]
  },
  {
   "cell_type": "code",
   "execution_count": 9,
   "metadata": {
    "collapsed": false
   },
   "outputs": [],
   "source": [
    "import pandas as pd\n",
    "\n",
    "\n",
    "data = pd.read_csv('sklearn-benchmark4-data.tsv.gz', sep='\\t', names=['dataset',\n",
    "                                                                     'classifier',\n",
    "                                                                     'parameters',\n",
    "                                                                     'accuracy', \n",
    "                                                                     'macrof1',\n",
    "                                                                     'bal_accuracy']).fillna('')\n",
    "\n",
    "data = data.groupby(['classifier', 'dataset', 'parameters'])['accuracy'].mean().reset_index()\n",
    "data['classifier-params'] = data['classifier'].values + '-' + data['parameters'].values\n",
    "data['accuracy'] = data['accuracy'].apply(lambda x: round(x, 3))"
   ]
  },
  {
   "cell_type": "code",
   "execution_count": 10,
   "metadata": {
    "collapsed": false
   },
   "outputs": [
    {
     "name": "stderr",
     "output_type": "stream",
     "text": [
      "100%|██████████| 14/14 [00:25<00:00,  4.39s/it]\n"
     ]
    },
    {
     "name": "stdout",
     "output_type": "stream",
     "text": [
      "clustering...\n"
     ]
    }
   ],
   "source": [
    "import numpy as np\n",
    "from tqdm import tqdm\n",
    "from sklearn.cluster.bicluster import SpectralBiclustering\n",
    "from sklearn.metrics import consensus_score\n",
    "import matplotlib.pyplot as plt\n",
    "%matplotlib inline\n",
    "# get model results with best parameters \n",
    "\n",
    "all_models = np.asarray((data['classifier'].unique()))\n",
    "all_datasets = np.asarray((data['dataset'].unique()))\n",
    "model_data_acc = np.zeros([len(all_models),len(all_datasets)])\n",
    "ranks = np.zeros([len(all_models),len(all_datasets)])\n",
    "#print(\"model_data_acc.shape:\",model_data_acc.shape)\n",
    "all_models = []\n",
    "for i,(clf, group_clf) in enumerate(tqdm(data.groupby('classifier'))):\n",
    "#     if clf != 'SVC':\n",
    "    model_best_params_acc = np.zeros(len(all_datasets))\n",
    "    # find best parameter setings for model, based on median cv score for each parameter setting\n",
    "    for params,group_clf_params in group_clf.groupby('parameters'):\n",
    "        # across data sets\n",
    "        for j,a in enumerate(group_clf_params.groupby('dataset')['accuracy'].median()):\n",
    "            if a > model_best_params_acc[j]:\n",
    "                model_best_params_acc[j] = a\n",
    "    # model i's accuracy is the median cv accuracy of the best parameter settings for that model, across data sets\n",
    "    model_data_acc[i,:] = model_best_params_acc\n",
    "    all_models.append(clf)\n",
    "\n",
    "    #print(\"model_data_acc[i,:10]:\",model_data_acc[i,:10])\n",
    "all_models = np.asarray(all_models)\n",
    "# get ranks\n",
    "for i,mda in enumerate(model_data_acc.transpose()):\n",
    "    #print(\"mda shape:\",mda.shape)\n",
    "    temp = mda.argsort()\n",
    "    ranks[temp,i] = np.arange(len(mda))\n",
    "np.savetxt('ranks',ranks)\n",
    "np.savetxt('model_data_accuracy',model_data_acc)\n",
    "\n",
    "\n",
    "print(\"clustering...\")\n",
    "np.random.seed(42)\n",
    "model = SpectralBiclustering(n_clusters=5, random_state=0)\n",
    "model.fit(model_data_acc)\n",
    "#score = consensus_score(model.biclusters_, (rows[:, row_idx], columns[:, col_idx]))\n",
    "\n",
    "#print(\"consensus score: {:.3f}\".format(score))\n",
    "r = model.row_labels_[:]\n",
    "c = model.column_labels_[:]\n",
    "#rearrange data into biclusters\n",
    "fit_data = model_data_acc[np.argsort(r)]\n",
    "fit_data = fit_data[:, np.argsort(c)]\n",
    "\n",
    "all_models = all_models[np.argsort(r)]\n",
    "all_datasets = all_datasets[np.argsort(c)]\n"
   ]
  },
  {
   "cell_type": "code",
   "execution_count": 11,
   "metadata": {
    "collapsed": false
   },
   "outputs": [
    {
     "name": "stdout",
     "output_type": "stream",
     "text": [
      "biclusters_: 2\n"
     ]
    },
    {
     "data": {
      "image/png": "[encoded data removed]",
      "text/plain": [
       "<matplotlib.figure.Figure at 0x7f86f35f45c0>"
      ]
     },
     "metadata": {},
     "output_type": "display_data"
    },
    {
     "name": "stdout",
     "output_type": "stream",
     "text": [
      "0 : prnn_crabs\n",
      "1 : prnn_synth\n",
      "2 : breast-cancer\n",
      "3 : hungarian\n",
      "4 : postoperative-patient-data\n",
      "5 : pima\n",
      "6 : cars1\n",
      "7 : mfeat-zernike\n",
      "8 : cleveland\n",
      "9 : cleveland-nominal\n",
      "10 : mfeat-morphological\n",
      "11 : mfeat-fourier\n",
      "12 : lupus\n",
      "13 : collins\n",
      "14 : confidence\n",
      "15 : connect-4\n",
      "16 : liver-disorder\n",
      "17 : credit-g\n",
      "18 : led7\n",
      "19 : led24\n",
      "20 : diabetes\n",
      "21 : flags\n",
      "22 : irish\n",
      "23 : german\n",
      "24 : glass2\n",
      "25 : haberman\n",
      "26 : profb\n",
      "27 : satimage\n",
      "28 : hepatitis\n",
      "29 : vehicle\n",
      "30 : analcatdata_asbestos\n",
      "31 : sleep\n",
      "32 : tic-tac-toe\n",
      "33 : analcatdata_boxing1\n",
      "34 : analcatdata_boxing2\n",
      "35 : waveform-21\n",
      "36 : wine-quality-red\n",
      "37 : threeOf9\n",
      "38 : analcatdata_aids\n",
      "39 : GAMETES_Heterogeneity_20atts_1600_Het_0.4_0.2_50_EDM-2_001\n",
      "40 : GAMETES_Heterogeneity_20atts_1600_Het_0.4_0.2_75_EDM-2_001\n",
      "41 : spectf\n",
      "42 : spect\n",
      "43 : analcatdata_fraud\n",
      "44 : GAMETES_Epistasis_2-Way_20atts_0.4H_EDM-1_1\n",
      "45 : sonar\n",
      "46 : solar-flare_2\n",
      "47 : GAMETES_Epistasis_2-Way_20atts_0.1H_EDM-1_1\n",
      "48 : solar-flare_1\n",
      "49 : GAMETES_Epistasis_3-Way_20atts_0.2H_EDM-1_1\n",
      "50 : hypothyroid\n",
      "51 : kr-vs-kp\n",
      "52 : dis\n",
      "53 : allbp\n",
      "54 : xd6\n",
      "55 : allhyper\n",
      "56 : ann-thyroid\n",
      "57 : allrep\n",
      "58 : backache\n",
      "59 : car\n",
      "60 : nursery\n",
      "61 : allhypo\n",
      "62 : chess\n",
      "63 : cars\n",
      "64 : monk2\n",
      "65 : yeast\n",
      "66 : mux6\n",
      "67 : krkopt\n",
      "68 : vowel\n",
      "69 : letter\n",
      "70 : parity5+5\n",
      "71 : tae\n",
      "72 : prnn_fglass\n",
      "73 : monk1\n",
      "74 : schizo\n",
      "75 : wine-quality-white\n",
      "76 : hayes-roth\n",
      "77 : calendarDOW\n",
      "78 : auto\n",
      "79 : glass\n",
      "80 : cloud\n",
      "81 : parity5\n",
      "82 : analcatdata_happiness\n",
      "83 : analcatdata_germangss\n",
      "84 : analcatdata_dmft\n",
      "85 : cmc\n",
      "86 : analcatdata_authorship\n",
      "87 : wine-recognition\n",
      "88 : breast\n",
      "89 : biomed\n",
      "90 : balance-scale\n",
      "91 : promoters\n",
      "92 : Hill_Valley_with_noise\n",
      "93 : australian\n",
      "94 : segmentation\n",
      "95 : shuttle\n",
      "96 : analcatdata_lawsuit\n",
      "97 : analcatdata_japansolvent\n",
      "98 : vote\n",
      "99 : Hill_Valley_without_noise\n",
      "100 : soybean\n",
      "101 : adult\n",
      "102 : spambase\n",
      "103 : breast-cancer-wisconsin\n",
      "104 : agaricus-lepiota\n",
      "105 : analcatdata_cyyoung9302\n",
      "106 : splice\n",
      "107 : analcatdata_cyyoung8092\n",
      "108 : analcatdata_creditscore\n",
      "109 : analcatdata_bankruptcy\n",
      "110 : tokyo1\n",
      "111 : waveform-40\n",
      "112 : breast-w\n",
      "113 : heart-h\n",
      "114 : pendigits\n",
      "115 : horse-colic\n",
      "116 : house-votes-84\n",
      "117 : heart-c\n",
      "118 : ionosphere\n",
      "119 : iris\n",
      "120 : flare\n",
      "121 : ecoli\n",
      "122 : dna\n",
      "123 : labor\n",
      "124 : dermatology\n",
      "125 : crx\n",
      "126 : credit-a\n",
      "127 : corral\n",
      "128 : colic\n",
      "129 : buggyCrx\n",
      "130 : mfeat-factors\n",
      "131 : mfeat-pixel\n",
      "132 : cleve\n",
      "133 : mofn-3-7-10\n",
      "134 : molecular-biology_promoters\n",
      "135 : clean2\n",
      "136 : clean1\n",
      "137 : monk3\n",
      "138 : mushroom\n",
      "139 : churn\n",
      "140 : new-thyroid\n",
      "141 : car-evaluation\n",
      "142 : optdigits\n",
      "143 : page-blocks\n",
      "144 : heart-statlog\n",
      "145 : mfeat-karhunen\n",
      "146 : GAMETES_Epistasis_2-Way_1000atts_0.4H_EDM-1_EDM-1_1\n"
     ]
    }
   ],
   "source": [
    "model_nice_dict = {\n",
    "    'AdaBoostClassifier': 'AdaBoost',\n",
    "    'BernoulliNB': 'Bernoulli NB',\n",
    "    'LinearSVC': 'Linear SVC',\n",
    "    'LogisticRegression': 'Logistic Regression',\n",
    "    'MultinomialNB': 'Multinomial NB',\n",
    "    'PassiveAggressiveClassifier': 'Passive Aggressive',\n",
    "    'SGDClassifier': 'SGD',\n",
    "    'GaussianNB': 'Gaussian NB',\n",
    "    'DecisionTreeClassifier': 'Decision Tree',\n",
    "    'ExtraTreesClassifier': 'Extra Trees',\n",
    "    'RandomForestClassifier': 'Random Forest',\n",
    "    'GradientBoostingClassifier':'Gradient Boosting',\n",
    "    'KNeighborsClassifier': 'K-Nearest Neighbor',\n",
    "    'SVC': 'SVC'\n",
    "}\n",
    "model_nice = []\n",
    "for m in all_models:\n",
    "    model_nice.append(model_nice_dict[m])\n",
    "    \n",
    "    \n",
    "print(\"biclusters_:\",len(model.biclusters_))\n",
    "#plot\n",
    "# plt.figure(figsize=(4,3))\n",
    "# ax = plt.subplot(111)\n",
    "h = plt.figure(figsize=(10,3))\n",
    "# ax = h.add_subplot(111)\n",
    "plt.matshow(fit_data[:,:],cmap=plt.cm.Blues,fignum=1) #\n",
    "plt.colorbar(orientation='vertical',shrink=0.6)\n",
    "plt.yticks(range(len(all_models)), model_nice) #,rotation=90\n",
    "plt.xlabel('data set')\n",
    "# h = plt.gcf()\n",
    "ax = plt.gca( )\n",
    "ax.set_aspect(4)\n",
    "# h.tight_layout()\n",
    "# h = plt.gcf()\n",
    "\n",
    "h.savefig(\"figs/bicluster.pdf\",dpi=100)\n",
    "plt.show()\n",
    "for i,d in enumerate(all_datasets):\n",
    "    print(i,\":\",d)"
   ]
  },
  {
   "cell_type": "markdown",
   "metadata": {
    "collapsed": false
   },
   "source": [
    "# How do the algorithms cluster?\n",
    "\n",
    "Create matrix of data sets vs. median model accuracy on those data sets.\n",
    "\n",
    "Cluster the matrix using Agglomerative Clustering. Look at the resulting dendrogram."
   ]
  },
  {
   "cell_type": "code",
   "execution_count": null,
   "metadata": {
    "collapsed": false
   },
   "outputs": [],
   "source": [
    "import pandas as pd\n",
    "\n",
    "data = pd.read_csv('sklearn-benchmark4-data.tsv.gz', sep='\\t', names=['dataset',\n",
    "                                                                     'classifier',\n",
    "                                                                     'parameters',\n",
    "                                                                     'accuracy', \n",
    "                                                                     'macrof1',\n",
    "                                                                     'bal_accuracy']).fillna('')\n",
    "\n",
    "# data = data.groupby(['classifier', 'dataset', 'parameters'])['accuracy'].mean().reset_index()"
   ]
  },
  {
   "cell_type": "code",
   "execution_count": 12,
   "metadata": {
    "collapsed": false
   },
   "outputs": [
    {
     "name": "stderr",
     "output_type": "stream",
     "text": [
      "100%|██████████| 14/14 [00:25<00:00,  4.36s/it]\n"
     ]
    }
   ],
   "source": [
    "import numpy as np\n",
    "from tqdm import tqdm\n",
    "from scipy.cluster import hierarchy\n",
    "import matplotlib.pyplot as plt\n",
    "%matplotlib inline\n",
    "\n",
    "all_models = np.asarray(sorted(data['classifier'].unique()))\n",
    "# remove SVC from all_models\n",
    "\n",
    "all_datasets = np.asarray(sorted(data['dataset'].unique()))\n",
    "\n",
    "model_data_acc = np.zeros([len(all_models),len(all_datasets)])\n",
    "ranks = np.zeros([len(all_models),len(all_datasets)])\n",
    "#print(\"model_data_acc.shape:\",model_data_acc.shape)\n",
    "all_models = []\n",
    "\n",
    "for i,(clf, group_clf) in enumerate(tqdm(data.groupby('classifier'))):\n",
    "#     if clf != 'SVC':\n",
    "    model_best_params_acc = np.zeros(len(all_datasets))\n",
    "    # find best parameter setings for model, based on median cv score for each parameter setting\n",
    "    for params,group_clf_params in group_clf.groupby('parameters'):\n",
    "        # across data sets\n",
    "        for j,a in enumerate(group_clf_params.groupby('dataset')['accuracy'].median()):\n",
    "            if a > model_best_params_acc[j]:\n",
    "                model_best_params_acc[j] = a\n",
    "    # model i's accuracy is the median cv accuracy of the best parameter settings for that model, across data sets\n",
    "    model_data_acc[i,:] = model_best_params_acc\n",
    "\n",
    "    all_models.append(clf)\n",
    "\n",
    "all_models = np.asarray(all_models)\n",
    "\n",
    "# get ranks\n",
    "for i,mda in enumerate(model_data_acc.transpose()):\n",
    "    #print(\"mda shape:\",mda.shape)\n",
    "    temp = mda.argsort()\n",
    "    ranks[temp,i] = np.arange(len(mda))\n",
    "    \n"
   ]
  },
  {
   "cell_type": "code",
   "execution_count": 13,
   "metadata": {
    "collapsed": false
   },
   "outputs": [
    {
     "name": "stdout",
     "output_type": "stream",
     "text": [
      "clustering...\n"
     ]
    },
    {
     "data": {
      "image/png": "[encoded data removed]",
      "text/plain": [
       "<matplotlib.figure.Figure at 0x7f86fac2a9b0>"
      ]
     },
     "metadata": {},
     "output_type": "display_data"
    },
    {
     "data": {
      "image/png": "[encoded data removed]",
      "text/plain": [
       "<matplotlib.figure.Figure at 0x7f86ee00a668>"
      ]
     },
     "metadata": {},
     "output_type": "display_data"
    }
   ],
   "source": [
    "model_nice_dict = {\n",
    "    'AdaBoostClassifier': 'AdaBoost',\n",
    "    'BernoulliNB': 'Bernoulli NB',\n",
    "    'LinearSVC': 'Linear SVC',\n",
    "    'LogisticRegression': 'Logistic Regression',\n",
    "    'MultinomialNB': 'Multinomial NB',\n",
    "    'PassiveAggressiveClassifier': 'Passive Aggressive',\n",
    "    'SGDClassifier': 'SGD',\n",
    "    'GaussianNB': 'Gaussian NB',\n",
    "    'DecisionTreeClassifier': 'Decision Tree',\n",
    "    'ExtraTreesClassifier': 'Extra Trees',\n",
    "    'RandomForestClassifier': 'Random Forest',\n",
    "    'GradientBoostingClassifier':'Gradient Boosting',\n",
    "    'KNeighborsClassifier': 'K-Nearest Neighbor',\n",
    "    'SVC': 'SVC'\n",
    "}\n",
    "model_nice = []\n",
    "for m in all_models:\n",
    "    model_nice.append(model_nice_dict[m])\n",
    "    \n",
    "print(\"clustering...\")\n",
    "Z = hierarchy.linkage(ranks, 'single')\n",
    "dn = hierarchy.dendrogram(Z, labels = model_nice, orientation='right')\n",
    "plt.title('Ranking Dendrogram')\n",
    "h = plt.gcf()\n",
    "plt.figure(1,figsize=(6,4))\n",
    "plt.tight_layout()\n",
    "h.savefig('figs/HAC_models_ranking.pdf')\n",
    "\n",
    "plt.figure()\n",
    "Z = hierarchy.linkage(model_data_acc, 'single')\n",
    "dn = hierarchy.dendrogram(Z, labels = model_nice, orientation='right')\n",
    "plt.title('Accuracy Dendrogram')\n",
    "h = plt.gcf()\n",
    "plt.figure(1,figsize=(6,4))\n",
    "plt.tight_layout()\n",
    "h.savefig('figs/HAC_models_accuracy.pdf')\n",
    "plt.show()"
   ]
  },
  {
   "cell_type": "code",
   "execution_count": null,
   "metadata": {
    "collapsed": true
   },
   "outputs": [],
   "source": [
    "# How do the data sets cluster?"
   ]
  },
  {
   "cell_type": "code",
   "execution_count": 14,
   "metadata": {
    "collapsed": false
   },
   "outputs": [
    {
     "name": "stderr",
     "output_type": "stream",
     "text": [
      "100%|██████████| 145/145 [00:28<00:00,  2.24it/s]\n"
     ]
    },
    {
     "data": {
      "image/png": "[encoded data removed]",
      "text/plain": [
       "<matplotlib.figure.Figure at 0x7f86ceaea278>"
      ]
     },
     "metadata": {},
     "output_type": "display_data"
    },
    {
     "data": {
      "image/png": "[encoded data removed]",
      "text/plain": [
       "<matplotlib.figure.Figure at 0x7f869c5f8400>"
      ]
     },
     "metadata": {},
     "output_type": "display_data"
    }
   ],
   "source": [
    "from sklearn.cluster import KMeans\n",
    "from sklearn.metrics import silhouette_score, silhouette_samples\n",
    "from sklearn.decomposition import PCA\n",
    "import numpy\n",
    "from tqdm import tqdm\n",
    "#==========\n",
    "# optimal K via elbow method with silhouette score which produces a better elbow.\n",
    "#==========\n",
    "X = model_data_acc.transpose()\n",
    "Ks = np.arange(2,147,1)\n",
    "Inertias = []\n",
    "Silhouettes = []\n",
    "np.random.seed(2)\n",
    "# loop through k values\n",
    "for K in tqdm(Ks):\n",
    "\tkm = KMeans(n_clusters=K, init='k-means++',copy_x=False).fit(X)\n",
    "\tlabels = km.labels_\n",
    "\tcenters = km.cluster_centers_\n",
    "\tinertia = km.inertia_\n",
    "\tSilhouettes.append(silhouette_score(X,labels))\n",
    "\t# Inertias[K-1] = km.inertia_\n",
    "\tInertias.append(km.inertia_)\n",
    "\n",
    "# line plot of K versus Silhouette score with best value marked with x \n",
    "plt.figure(1)\n",
    "plt.plot(Ks,Silhouettes,label='silhouette')\n",
    "plt.plot(Ks[np.argmax(Silhouettes)],Silhouettes[np.argmax(Silhouettes)],marker = 'o',color='r',markersize=7)\n",
    "plt.text(Ks[np.argmax(Silhouettes)]-2,Silhouettes[np.argmax(Silhouettes)],\"K = \"+repr(Ks[np.argmax(Silhouettes)]))\n",
    "plt.ylim(0.95*np.min(Silhouettes),1.05*np.max(Silhouettes))\n",
    "plt.ylabel(\"Average silhouette score\") #Y-axis label\n",
    "plt.xlabel(\"K\") #X-axis label\n",
    "plt.title(\"Choice of K\") #Plot title\n",
    "plt.tight_layout()\n",
    "plt.savefig(\"k_silhouette.pdf\")\n",
    "\n",
    "plt.figure(2)\n",
    "plt.plot(Ks,Inertias,label='inertia')\n",
    "plt.plot(Ks[np.argmin(Inertias)],Inertias[np.argmin(Inertias)],marker = 'o',color='r',markersize=7)\n",
    "plt.text(Ks[np.argmin(Inertias)]-2,Inertias[np.argmin(Inertias)],\"K = \"+repr(Ks[np.argmin(Inertias)]))\n",
    "plt.ylim(0.95*np.min(Inertias),1.05*np.max(Inertias))\n",
    "plt.ylabel(\"Inertias\") #Y-axis label\n",
    "plt.xlabel(\"K\") #X-axis label\n",
    "plt.title(\"Choice of K\") #Plot title\n",
    "plt.tight_layout()\n",
    "plt.savefig(\"k_inertia.pdf\")"
   ]
  },
  {
   "cell_type": "code",
   "execution_count": 64,
   "metadata": {
    "collapsed": false
   },
   "outputs": [
    {
     "name": "stderr",
     "output_type": "stream",
     "text": [
      "/home/bill/anaconda3/lib/python3.5/site-packages/matplotlib/lines.py:1145: FutureWarning: comparison to `None` will result in an elementwise object comparison in the future.\n",
      "  if self._markerfacecolor != fc:\n"
     ]
    },
    {
     "name": "stdout",
     "output_type": "stream",
     "text": [
      "col: [ 0.61960787  0.00392157  0.25882354  1.        ]\n",
      "col: [ 0.99346405  0.74771243  0.43529413  1.        ]\n",
      "col: [ 0.74771243  0.89803922  0.627451    1.        ]\n",
      "col: [ 0.36862746  0.30980393  0.63529414  1.        ]\n"
     ]
    },
    {
     "data": {
      "image/png": "[encoded data removed]",
      "text/plain": [
       "<matplotlib.figure.Figure at 0x7f86faba1710>"
      ]
     },
     "metadata": {},
     "output_type": "display_data"
    },
    {
     "data": {
      "image/png": "[encoded data removed]",
      "text/plain": [
       "<matplotlib.figure.Figure at 0x7f86f97d77b8>"
      ]
     },
     "metadata": {},
     "output_type": "display_data"
    }
   ],
   "source": [
    "# =====\n",
    "# plot cluster centers on 2 principal component axes\n",
    "# =====\n",
    "import itertools\n",
    "from sklearn.preprocessing import StandardScaler\n",
    "\n",
    "marker =('+', 'x', 'o', '*','s','^','<','v','>') \n",
    "h = plt.figure()\n",
    "ss = StandardScaler()\n",
    "X = ss.fit_transform(model_data_acc.transpose())\n",
    "\n",
    "pca = PCA(n_components = 2)\n",
    "X_pca = pca.fit_transform(X)\n",
    "nc=4\n",
    "unique_classes = np.array((0,1,2,3)) \n",
    "km = KMeans(n_clusters=nc, init='k-means++',copy_x=False,random_state=0).fit(X)\n",
    "labels = km.labels_\n",
    "centers = km.cluster_centers_\n",
    "unique_labels = np.unique(labels)\n",
    "# centers_pca = centers\n",
    "centers_pca = pca.transform(centers)\n",
    "colors = plt.cm.Spectral(np.linspace(0, 1, len(unique_labels)))\n",
    "\n",
    "for k, col in zip(unique_labels, colors):\n",
    "    label_mask = (k==labels)\n",
    "    xy = X_pca[label_mask]\n",
    "    plt.plot(xy[:,0], xy[:, 1], linestyle = '', marker=marker[k%nc], markerfacecolor=col, markersize=5, alpha=1)\n",
    "\n",
    "for k, col in zip(unique_labels, colors): \n",
    "     plt.plot(centers_pca[k,0],centers_pca[k,1], linestyle='', marker=marker[k%nc], markerfacecolor=col,markersize=20,alpha=0.3)\n",
    "\n",
    "plt.xlabel('PCA 1')\n",
    "plt.ylabel('PCA 2')\n",
    "plt.tight_layout()\n",
    "h.savefig('figs/k_means_PCA_data.pdf')\n",
    "\n",
    "h2 = plt.figure()\n",
    "features = model_nice\n",
    "    \n",
    "for k,col in zip(unique_labels,colors):\n",
    "    label_mask = (k==labels)\n",
    "    coverage = np.sum(label_mask)\n",
    "    xk_mean = np.mean(ss.inverse_transform(X[label_mask]),axis=0)\n",
    "    offset = k*0.1-np.mean(np.unique(labels))*0.1\n",
    "    print('col:',col)\n",
    "    plt.bar(np.arange(len(features))+offset,xk_mean,align='center',width=0.1,facecolor=col,label='cluster '+marker[k%nc]+' ('+str(coverage)+' instances)')\n",
    "\n",
    "plt.ylim(0,1.1)\n",
    "plt.gca().set_xticks(np.arange(len(features)))\n",
    "plt.gca().set_xticklabels(list(features),fontsize=8,rotation=90)\n",
    "plt.legend(loc=3,fontsize=6) #(bbox_to_anchor=(1.05, 1), \n",
    "plt.tight_layout()\n",
    "h2.savefig('figs/data_ml_bar.pdf')\n",
    "\n",
    "plt.show()"
   ]
  },
  {
   "cell_type": "markdown",
   "metadata": {
    "collapsed": false
   },
   "source": [
    "# Comparison of tuned to un-tuned results\n"
   ]
  },
  {
   "cell_type": "code",
   "execution_count": null,
   "metadata": {
    "collapsed": false
   },
   "outputs": [],
   "source": [
    "import numpy as np\n",
    "from tqdm import tqdm\n",
    "from scipy.cluster import hierarchy\n",
    "from sklearn.ensemble import RandomForestClassifier, ExtraTreesClassifier, AdaBoostClassifier, GradientBoostingClassifier\n",
    "from sklearn.neighbors import KNeighborsClassifier\n",
    "from sklearn.svm import LinearSVC, SVC\n",
    "from sklearn.linear_model import SGDClassifier, LogisticRegression, PassiveAggressiveClassifier\n",
    "from sklearn.tree import DecisionTreeClassifier\n",
    "from sklearn.naive_bayes import *\n",
    "import matplotlib.pyplot as plt\n",
    "%matplotlib inline\n",
    "import pandas as pd\n",
    "\n",
    "data = pd.read_csv('sklearn-benchmark4-data.tsv.gz', sep='\\t', names=['dataset',\n",
    "                                                                     'classifier',\n",
    "                                                                     'parameters',\n",
    "                                                                     'accuracy']).fillna('')\n",
    "\n",
    "data = data.groupby(['classifier', 'dataset', 'parameters'])['accuracy'].mean().reset_index()\n",
    "data['classifier-params'] = data['classifier'].values + '-' + data['parameters'].values\n",
    "data['accuracy'] = data['accuracy'].apply(lambda x: round(x, 3))\n",
    "\n"
   ]
  },
  {
   "cell_type": "code",
   "execution_count": null,
   "metadata": {
    "collapsed": false
   },
   "outputs": [],
   "source": [
    "# clf_defaults_dict = {\n",
    "#     'GradientBoostingClassifier': 'loss=deviance, learning_rate=0.1, n_estimators=100, subsample=1.0, min_samples_split=2, min_samples_leaf=1,,\n",
    "# 'RandomForestClassifier': RandomForestClassifier(),\n",
    "# 'ExtraTreesClassifier': ExtraTreesClassifier(),\n",
    "# 'SVC': SVC(),\n",
    "# 'SGDClassifier': SGDClassifier(),\n",
    "# 'LinearSVC': LinearSVC(),\n",
    "# 'AdaBoostClassifier': AdaBoostClassifier(),\n",
    "# 'LogisticRegression': LogisticRegression(),\n",
    "# 'DecisionTreeClassifier': DecisionTreeClassifier(),\n",
    "# 'KNeighborsClassifier': KNeighborsClassifier(),\n",
    "# 'PassiveAggressiveClassifier': PassiveAggressiveClassifier(),\n",
    "# 'BernoulliNB': BernoulliNB(),\n",
    "# 'MultinomialNB': MultinomialNB(),\n",
    "# 'GaussianNB': GaussianNB(),\n",
    "# }\n",
    "clf_defaults_dict = {\n",
    "    'GradientBoostingClassifier': 'loss=deviance,learning_rate=0.1,n_estimators=100,max_depth=3,max_features=0.9',\n",
    "'RandomForestClassifier': 'n_estimators=10,min_weight_fraction_leaf=0.0,max_features=sqrt,criterion=gini',\n",
    "'SVC': 'C=1.0,gamma=0.01,kernel=rbf,degree=3,coef0=0.0,',\n",
    "'ExtraTreesClassifier': 'n_estimators=10,min_weight_fraction_leaf=0.0,max_features=sqrt,criterion=gini',\n",
    "'KNeighborsClassifier': 'n_neighbors=5,weights=uniform',\n",
    "'LogisticRegression': 'C=1.0,penalty=l2,fit_intercept=True,dual=False,',\n",
    "'LinearSVC': 'C=1.0,loss=squared_hinge,penalty=l2,dual=True,fit_intercept=True',\n",
    "'DecisionTreeClassifier': 'min_weight_fraction_leaf=0.0,max_features=None,criterion=gini',\n",
    "'SGDClassifier': 'loss=hinge,penalty=l2,alpha=0.0001,learning_rate=constant,fit_intercept=True,l1_ratio=0.15,eta0=0.01,power_t=0.5',\n",
    "'PassiveAggressiveClassifier': 'C=1.0,loss=hinge,fit_intercept=True',\n",
    "'AdaBoostClassifier': 'learning_rate=1.0,n_estimators=50',\n",
    "'BernoulliNB': 'alpha=1.0,fit_prior=True,binarize=0.0',\n",
    "'GaussianNB': '',\n",
    "'MultinomialNB': 'alpha=1.0,fit_prior=True'\n",
    "}\n",
    "all_models = np.asarray(sorted(data['classifier'].unique()))\n",
    "# # remove SVC from all_models\n",
    "all_datasets = np.asarray(sorted(data['dataset'].unique()))\n",
    "\n",
    "model_data_acc = np.zeros([len(all_models),len(all_datasets)])\n",
    "model_data_best_acc = np.zeros([len(all_models),len(all_datasets)])\n",
    "model_data_other_acc = np.zeros([len(all_models),len(all_datasets)])\n",
    "model_data_default_acc = np.zeros([len(all_models),len(all_datasets)])\n",
    "best_params_for_data = []\n",
    "all_models=[]\n",
    "# # get median accuracy for best parameter values\n",
    "for i,(clf, group_clf) in enumerate((data.groupby('classifier'))):\n",
    "    print(\"classifier:\",clf)\n",
    "    model_best_params_acc = np.zeros(len(all_datasets))\n",
    "    best_params_for_data.append([])\n",
    "    matched = False\n",
    "#     model_other_params_acc = []\n",
    "    for params,group_clf_params in group_clf.groupby('parameters'):\n",
    "        # find best parameter setings for model, based on median cv score for each parameter setting\n",
    "\n",
    "        for j,a in enumerate(group_clf_params.groupby('dataset')['accuracy'].median()):\n",
    "            if a > model_best_params_acc[j]:\n",
    "                model_best_params_acc[j] = a\n",
    "                \n",
    "        for j,a in enumerate(group_clf_params.groupby('dataset')['accuracy'].median()):\n",
    "            if a == model_best_params_acc[j]:   \n",
    "                best_params_for_data[i].append(params) # store best params for this classifier on this problem\n",
    "                \n",
    "        if params == clf_defaults_dict[clf]:\n",
    "#                 print('default parameter match for ' + str(clf) + \":\",params)\n",
    "                model_data_default_acc[i,:len(group_clf_params.groupby('dataset')['accuracy'].median())] = group_clf_params.groupby('dataset')['accuracy'].median()\n",
    "                matched = True\n",
    "    # SPLIT THIS UP SO THAT model_data_acc DOES NOT CONTAIN THE RESULTS OF THE BEST PARAMETER SETTINGS\n",
    "    for k,(d,group_clf_data) in enumerate(tqdm(group_clf.groupby('dataset'))):\n",
    "        if(np.sum(group_clf_data.parameters != best_params_for_data[i][k]) <= 0):\n",
    "            print(\"best_params_for_data[i][k]:\",best_params_for_data[i][k])\n",
    "        model_data_other_acc[i,k] = group_clf_data.accuracy[(group_clf_data.parameters != best_params_for_data[i][k])].median()\n",
    "\n",
    "    if matched is False:\n",
    "        print('parameter example for ' + str(clf) + \":\",group_clf['parameters'].values[0])\n",
    "    # model i's accuracy is the median cv accuracy of the best parameter settings for that model, across data sets\n",
    "    model_data_best_acc[i,:] = model_best_params_acc\n",
    "    model_data_acc[i,:len(group_clf.groupby('dataset')['accuracy'].median())] = group_clf.groupby('dataset')['accuracy'].median()\n",
    "         \n",
    "    all_models.append(clf)"
   ]
  },
  {
   "cell_type": "code",
   "execution_count": null,
   "metadata": {
    "collapsed": false
   },
   "outputs": [],
   "source": [
    "model_nice_dict = {\n",
    "    'AdaBoostClassifier': 'AdaBoost',\n",
    "    'BernoulliNB': 'Bernoulli NB',\n",
    "    'LinearSVC': 'Linear SVC',\n",
    "    'LogisticRegression': 'Logistic Regression',\n",
    "    'MultinomialNB': 'Multinomial NB',\n",
    "    'PassiveAggressiveClassifier': 'Passive Aggressive',\n",
    "    'SGDClassifier': 'SGD',\n",
    "    'GaussianNB': 'Gaussian NB',\n",
    "    'DecisionTreeClassifier': 'Decision Tree',\n",
    "    'ExtraTreesClassifier': 'Extra Trees',\n",
    "    'RandomForestClassifier': 'Random Forest',\n",
    "    'GradientBoostingClassifier':'Gradient Boosting',\n",
    "    'KNeighborsClassifier': 'K-Nearest Neighbor',\n",
    "    'SVC': 'SVC'\n",
    "}\n",
    "model_nice = []\n",
    "for m in all_models:\n",
    "    model_nice.append(model_nice_dict[m])\n",
    "    \n",
    "x = np.arange(0,model_data_acc.shape[0]-1,step=1,dtype=float)+1.\n",
    "x1 = x-0.125\n",
    "x2 = x+0.125\n",
    "x3 = x+0.25\n",
    "print(\"x:\",x)\n",
    "print(\"x1:\",x1)\n",
    "print(\"x2:\",x2)\n",
    "plt.figure(figsize=(6,6))\n",
    "bp1 = plt.boxplot(model_data_default_acc[:-1].transpose(),True,'',positions=x1,widths=0.25,patch_artist=True,vert=False)\n",
    "plt.setp(bp1['medians'], color='black')\n",
    "plt.setp(bp1['boxes'], facecolor='lightblue',edgecolor='black')\n",
    "plt.setp(bp1['whiskers'], color='black')\n",
    "\n",
    "\n",
    "\n",
    "bp2 = plt.boxplot(model_data_best_acc[:-1].transpose(),True,'',positions=x2,widths=0.25,patch_artist=True,vert=False)\n",
    "plt.setp(bp2['boxes'], facecolor='red',edgecolor='black')\n",
    "plt.setp(bp2['caps'], color='black')\n",
    "plt.setp(bp2['whiskers'], color='black')\n",
    "plt.setp(bp2['fliers'], color='red')\n",
    "plt.setp(bp2['medians'], color='black')\n",
    "\n",
    "# bp3 = plt.boxplot(model_data_other_acc[:-1].transpose(),True,'',positions=x3,widths=0.25,patch_artist=True)\n",
    "# plt.setp(bp3['medians'], color='black')\n",
    "# plt.setp(bp3['boxes'], facecolor='lightgreen',edgecolor='black')\n",
    "# plt.setp(bp3['whiskers'], color='black')\n",
    "\n",
    "plt.ylim(0,14)\n",
    "plt.xlim(0,1.1)\n",
    "plt.yticks(x,model_nice,rotation=0)\n",
    "plt.xlabel('Median Accuracy for All Problems')\n",
    "plt.figtext(0.3, 0.55, 'Default Parameters',\n",
    "            backgroundcolor='lightblue', color='black', weight='roman',\n",
    "            size='small')\n",
    "plt.figtext(0.3, 0.5, 'Tuned Parameters',\n",
    "            backgroundcolor='red',\n",
    "            color='black', weight='roman', size='small')\n",
    "plt.tight_layout()\n",
    "plt.gcf().savefig('figs/tuned_untuned_accuracy_boxplot.pdf')\n",
    "plt.show()"
   ]
  },
  {
   "cell_type": "code",
   "execution_count": null,
   "metadata": {
    "collapsed": false
   },
   "outputs": [],
   "source": [
    "# # get median accuracy for best parameter values\n",
    "\n",
    "np.set_printoptions(threshold=np.nan)\n",
    "\n",
    "for i,(clf, group_clf) in enumerate(tqdm(data.groupby('classifier'))):\n",
    "    if clf == 'SGDClassifier':\n",
    "        print('classifier:',clf)\n",
    "#         print(group_clf['parameters'].unique())\n",
    "        with open(str(clf) + '_parameters.txt', 'w+') as outfile:\n",
    "            outfile.write(str(group_clf['parameters'].unique()))\n"
   ]
  },
  {
   "cell_type": "markdown",
   "metadata": {
    "collapsed": true
   },
   "source": [
    "# print model abbreviation table"
   ]
  },
  {
   "cell_type": "code",
   "execution_count": null,
   "metadata": {
    "collapsed": true
   },
   "outputs": [],
   "source": [
    "model_nice_dict = {\n",
    "    'AdaBoostClassifier': 'AB',\n",
    "    'BernoulliNB': 'BNB',\n",
    "    'LinearSVC': 'LSVC',\n",
    "    'LogisticRegression': 'LR',\n",
    "    'MultinomialNB': 'MNB',\n",
    "    'PassiveAggressiveClassifier': 'PAC',\n",
    "    'SGDClassifier': 'SGD',\n",
    "    'GaussianNB': 'GNB',\n",
    "    'DecisionTreeClassifier': 'DT',\n",
    "    'ExtraTreesClassifier': 'ET',\n",
    "    'RandomForestClassifier': 'RF',\n",
    "    'GradientBoostingClassifier':'GB',\n",
    "    'KNeighborsClassifier': 'KNN'\n",
    "}\n",
    "model_nice = []\n",
    "for m in model_nice_dict:\n",
    "    print(model_nice_dict)\n",
    "\n",
    "\n",
    "    "
   ]
  },
  {
   "cell_type": "code",
   "execution_count": null,
   "metadata": {
    "collapsed": true
   },
   "outputs": [],
   "source": []
  }
 ],
 "metadata": {
  "anaconda-cloud": {},
  "kernelspec": {
   "display_name": "Python [Root]",
   "language": "python",
   "name": "Python [Root]"
  },
  "language_info": {
   "codemirror_mode": {
    "name": "ipython",
    "version": 3
   },
   "file_extension": ".py",
   "mimetype": "text/x-python",
   "name": "python",
   "nbconvert_exporter": "python",
   "pygments_lexer": "ipython3",
   "version": "3.5.2"
  }
 },
 "nbformat": 4,
 "nbformat_minor": 0
}
