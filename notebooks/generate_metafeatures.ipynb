{
 "cells": [
  {
   "cell_type": "code",
   "execution_count": 19,
   "metadata": {
    "collapsed": false,
    "scrolled": true
   },
   "outputs": [
    {
     "name": "stdout",
     "output_type": "stream",
     "text": [
      "loaded  44  metafeatures for  166  datasets\n",
      "loaded  166 datasets and  14 classifiers\n"
     ]
    }
   ],
   "source": [
    "import pandas as pd\n",
    "import numpy as np\n",
    "\n",
    "# get data metafeatures\n",
    "metafeatures = pd.read_csv('../metafeatures/data_metafeatures.csv',sep=',',index_col=0)\n",
    "print('loaded ', metafeatures.shape[1]-1, ' metafeatures for ', metafeatures.shape[0], ' datasets')\n",
    "# get ML results\n",
    "data = pd.read_csv('sklearn-benchmark5-data.tsv.gz', sep='\\t', names=['dataset',\n",
    "                                                                     'classifier',\n",
    "                                                                     'parameters',\n",
    "                                                                     'accuracy', \n",
    "                                                                     'macrof1',\n",
    "                                                                     'bal_accuracy']).fillna('')\n",
    "\n",
    "data['accuracy'] = data['accuracy'].apply(lambda x: round(x, 3))\n",
    "print('loaded ',data['dataset'].unique().shape[0],'datasets and ', data['classifier'].unique().shape[0],'classifiers')\n"
   ]
  },
  {
   "cell_type": "markdown",
   "metadata": {},
   "source": [
    "# can we predict which learner will be best on a dataset from dataset properties?"
   ]
  },
  {
   "cell_type": "code",
   "execution_count": 60,
   "metadata": {
    "collapsed": false
   },
   "outputs": [
    {
     "name": "stderr",
     "output_type": "stream",
     "text": [
      "100%|██████████| 166/166 [00:00<00:00, 290.13it/s]\n",
      "/home/bill/anaconda3/lib/python3.5/site-packages/pandas/core/frame.py:2842: SettingWithCopyWarning: \n",
      "A value is trying to be set on a copy of a slice from a DataFrame\n",
      "\n",
      "See the caveats in the documentation: http://pandas.pydata.org/pandas-docs/stable/indexing.html#indexing-view-versus-copy\n",
      "  downcast=downcast, **kwargs)\n",
      "/home/bill/anaconda3/lib/python3.5/site-packages/sklearn/model_selection/_split.py:581: Warning: The least populated class in y has only 1 members, which is too few. The minimum number of groups for any class cannot be less than n_splits=5.\n",
      "  % (min_groups, self.n_splits)), Warning)\n"
     ]
    },
    {
     "name": "stdout",
     "output_type": "stream",
     "text": [
      "methods: ['PassiveAggressiveClassifier' 'SGDClassifier' 'RandomForestClassifier'\n",
      " 'SVC' 'LinearSVC' 'KNeighborsClassifier' 'GaussianNB'\n",
      " 'ExtraTreesClassifier' 'AdaBoostClassifier' 'MultinomialNB'\n",
      " 'GradientBoostingClassifier' 'LogisticRegression' 'BernoulliNB'\n",
      " 'DecisionTreeClassifier']\n",
      "metafeatures[dataset].shape: (166,)\n",
      "9  features dropped due to missing values\n",
      "X shape: (166, 35)\n",
      "y shape: (166,)\n",
      "fitting model...\n",
      "mean CV score: 0.387125683221\n"
     ]
    }
   ],
   "source": [
    "# get best classifier for each dataset\n",
    "from tqdm import tqdm \n",
    "best_method = dict()\n",
    "for i,(dataset, group_data) in enumerate(tqdm(data.groupby('dataset'))):\n",
    "    best_method[dataset] = group_data['classifier'][np.argmax(group_data['accuracy'])]\n",
    "\n",
    "# print(best_method)\n",
    "\n",
    "# make new dataset combining metafeatures and best methods\n",
    "y = np.empty(metafeatures.shape[0])\n",
    "methods = data['classifier'].unique()\n",
    "print('methods:',methods)\n",
    "from sklearn.preprocessing import LabelEncoder\n",
    "le = LabelEncoder()\n",
    "# le.fit(methods)\n",
    "\n",
    "print('metafeatures[''dataset''].shape:',metafeatures['dataset'].shape)\n",
    "y_str = [best_method[ds] for ds in metafeatures['dataset'].values]\n",
    "\n",
    "y = le.fit_transform(y_str)\n",
    "\n",
    "metaf = metafeatures.dropna(axis=1,how='all')\n",
    "metaf.fillna(value=0,axis=1,inplace=True)\n",
    "print(metafeatures.shape[1]-metaf.shape[1],' features dropped due to missing values')\n",
    "# print(metaf[:10])\n",
    "\n",
    "X = metaf.drop('dataset',axis=1).values\n",
    "print('X shape:',X.shape)\n",
    "print('y shape:',y.shape)\n",
    "\n",
    "from sklearn.tree import DecisionTreeClassifier\n",
    "from sklearn.ensemble import RandomForestClassifier\n",
    "from sklearn.model_selection import cross_val_score\n",
    "\n",
    "# X_t,X_v,y_t,y_v = train_test_split(X,y)\n",
    "\n",
    "# dtc = DecisionTreeClassifier()\n",
    "dtc = RandomForestClassifier(n_estimators=100)\n",
    "# dtc.fit(X_t,y_t)\n",
    "print('fitting model...')\n",
    "print('mean CV score:',np.mean(cross_val_score(dtc,X,y,cv=5)))"
   ]
  },
  {
   "cell_type": "markdown",
   "metadata": {},
   "source": [
    "# can we predict the best score achievable on a dataset from dataset properties?"
   ]
  },
  {
   "cell_type": "code",
   "execution_count": 62,
   "metadata": {
    "collapsed": false
   },
   "outputs": [
    {
     "name": "stderr",
     "output_type": "stream",
     "text": [
      "100%|██████████| 166/166 [00:00<00:00, 439.41it/s]\n",
      "/home/bill/anaconda3/lib/python3.5/site-packages/pandas/core/frame.py:2842: SettingWithCopyWarning: \n",
      "A value is trying to be set on a copy of a slice from a DataFrame\n",
      "\n",
      "See the caveats in the documentation: http://pandas.pydata.org/pandas-docs/stable/indexing.html#indexing-view-versus-copy\n",
      "  downcast=downcast, **kwargs)\n"
     ]
    },
    {
     "name": "stdout",
     "output_type": "stream",
     "text": [
      "metafeatures[dataset].shape: (166,)\n",
      "9  features dropped due to missing values\n",
      "X shape: (166, 35)\n",
      "y shape: (166,)\n",
      "fitting model...\n",
      "mean CV score: 0.0181923911942\n"
     ]
    }
   ],
   "source": [
    "# get best classifier for each dataset\n",
    "from tqdm import tqdm \n",
    "best_score = dict()\n",
    "\n",
    "\n",
    "# print(best_method)\n",
    "\n",
    "# make new dataset combining metafeatures and best methods\n",
    "y = np.empty(metafeatures.shape[0])\n",
    "for i,(dataset, group_data) in enumerate(tqdm(data.groupby('dataset'))):\n",
    "   y[i] = group_data['bal_accuracy'].max()\n",
    "\n",
    "print('metafeatures[''dataset''].shape:',metafeatures['dataset'].shape)\n",
    "\n",
    "\n",
    "metaf = metafeatures.dropna(axis=1,how='all')\n",
    "metaf.fillna(value=0,axis=1,inplace=True)\n",
    "\n",
    "print(metafeatures.shape[1]-metaf.shape[1],' features dropped due to missing values')\n",
    "# print(metaf[:10])\n",
    "\n",
    "X = metaf.drop('dataset',axis=1).values\n",
    "print('X shape:',X.shape)\n",
    "print('y shape:',y.shape)\n",
    "\n",
    "from sklearn.tree import DecisionTreeRegressor\n",
    "from sklearn.ensemble import RandomForestRegressor\n",
    "from sklearn.linear_model import LassoLarsCV\n",
    "from sklearn.model_selection import cross_val_score\n",
    "\n",
    "# X_t,X_v,y_t,y_v = train_test_split(X,y)\n",
    "\n",
    "# est = DecisionTreeClassifier()\n",
    "est = RandomForestRegressor(n_estimators=100)\n",
    "# est = LassoLarsCV()\n",
    "# dtc.fit(X_t,y_t)\n",
    "print('fitting model...')\n",
    "print('mean CV score:',np.mean(cross_val_score(est,X,y,cv=5)))"
   ]
  }
 ],
 "metadata": {
  "anaconda-cloud": {},
  "kernelspec": {
   "display_name": "Python [Root]",
   "language": "python",
   "name": "Python [Root]"
  },
  "language_info": {
   "codemirror_mode": {
    "name": "ipython",
    "version": 3
   },
   "file_extension": ".py",
   "mimetype": "text/x-python",
   "name": "python",
   "nbconvert_exporter": "python",
   "pygments_lexer": "ipython3",
   "version": "3.5.2"
  }
 },
 "nbformat": 4,
 "nbformat_minor": 0
}
