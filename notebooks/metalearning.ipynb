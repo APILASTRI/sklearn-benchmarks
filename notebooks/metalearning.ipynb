{
 "cells": [
  {
   "cell_type": "code",
   "execution_count": 1,
   "metadata": {
    "collapsed": false,
    "scrolled": true
   },
   "outputs": [
    {
     "name": "stdout",
     "output_type": "stream",
     "text": [
      "loaded  44  metafeatures for  166  datasets\n",
      "loaded  166 datasets and  14 classifiers\n",
      "classifiers: ['RandomForestClassifier' 'SVC' 'KNeighborsClassifier'\n",
      " 'GradientBoostingClassifier' 'LogisticRegression' 'DecisionTreeClassifier']\n"
     ]
    }
   ],
   "source": [
    "import pandas as pd\n",
    "import numpy as np\n",
    "\n",
    "# get data metafeatures\n",
    "metafeatures = pd.read_csv('../metafeatures/data_metafeatures.csv',sep=',',index_col=0)\n",
    "print('loaded ', metafeatures.shape[1]-1, ' metafeatures for ', metafeatures.shape[0], ' datasets')\n",
    "# get ML results\n",
    "data = pd.read_csv('sklearn-benchmark5-data.tsv.gz', sep='\\t', names=['dataset',\n",
    "                                                                     'classifier',\n",
    "                                                                     'parameters',\n",
    "                                                                     'accuracy', \n",
    "                                                                     'macrof1',\n",
    "                                                                     'bal_accuracy']).fillna('')\n",
    "\n",
    "data['accuracy'] = data['accuracy'].apply(lambda x: round(x, 3))\n",
    "print('loaded ',data['dataset'].unique().shape[0],'datasets and ', data['classifier'].unique().shape[0],'classifiers')\n",
    "# subset data to classifiers used in PennAI\n",
    "pennai_classifiers = ['LogisticRegression', 'RandomForestClassifier', 'SVC', \n",
    "                      'KNeighborsClassifier', 'DecisionTreeClassifier', 'GradientBoostingClassifier']\n",
    "mask = np.array([c in pennai_classifiers for c in data['classifier'].values])\n",
    "data = data.loc[mask,:]\n",
    "print('classifiers:',data['classifier'].unique())"
   ]
  },
  {
   "cell_type": "markdown",
   "metadata": {},
   "source": [
    "# can we predict which learner will be best on a dataset from dataset properties?"
   ]
  },
  {
   "cell_type": "code",
   "execution_count": null,
   "metadata": {
    "collapsed": false
   },
   "outputs": [
    {
     "name": "stderr",
     "output_type": "stream",
     "text": [
      "100%|██████████| 166/166 [00:00<00:00, 1109.28it/s]\n",
      "/home/bill/anaconda3/lib/python3.5/site-packages/pandas/core/frame.py:2842: SettingWithCopyWarning: \n",
      "A value is trying to be set on a copy of a slice from a DataFrame\n",
      "\n",
      "See the caveats in the documentation: http://pandas.pydata.org/pandas-docs/stable/indexing.html#indexing-view-versus-copy\n",
      "  downcast=downcast, **kwargs)\n"
     ]
    },
    {
     "name": "stdout",
     "output_type": "stream",
     "text": [
      "methods: ['RandomForestClassifier' 'SVC' 'KNeighborsClassifier'\n",
      " 'GradientBoostingClassifier' 'LogisticRegression' 'DecisionTreeClassifier']\n",
      "metafeatures[dataset].shape: (166,)\n",
      "9  features dropped due to missing values\n",
      "X shape: (166, 35)\n",
      "y shape: (166,)\n",
      "fitting model...\n"
     ]
    }
   ],
   "source": [
    "# get best classifier for each dataset\n",
    "from tqdm import tqdm \n",
    "best_method = dict()\n",
    "for i,(dataset, group_data) in enumerate(tqdm(data.groupby('dataset'))):\n",
    "    best_method[dataset] = group_data['classifier'][np.argmax(group_data['accuracy'])]\n",
    "\n",
    "# print(best_method)\n",
    "\n",
    "# make new dataset combining metafeatures and best methods\n",
    "y = np.empty(metafeatures.shape[0])\n",
    "methods = data['classifier'].unique()\n",
    "print('methods:',methods)\n",
    "from sklearn.preprocessing import LabelEncoder\n",
    "le = LabelEncoder()\n",
    "# le.fit(methods)\n",
    "\n",
    "print('metafeatures[''dataset''].shape:',metafeatures['dataset'].shape)\n",
    "y_str = [best_method[ds] for ds in metafeatures['dataset'].values]\n",
    "\n",
    "y = le.fit_transform(y_str)\n",
    "\n",
    "metaf = metafeatures.dropna(axis=1,how='all')\n",
    "metaf.fillna(value=0,axis=1,inplace=True)\n",
    "print(metafeatures.shape[1]-metaf.shape[1],' features dropped due to missing values')\n",
    "# print(metaf[:10])\n",
    "from sklearn.preprocessing import StandardScaler, Normalizer\n",
    "\n",
    "X = Normalizer().fit_transform(metaf.drop('dataset',axis=1).values)\n",
    "print('X shape:',X.shape)\n",
    "print('y shape:',y.shape)\n",
    "\n",
    "from sklearn.tree import DecisionTreeClassifier\n",
    "from sklearn.ensemble import RandomForestClassifier\n",
    "from sklearn.neighbors import KNeighborsClassifier\n",
    "from sklearn.model_selection import cross_val_score, StratifiedShuffleSplit, LeaveOneOut\n",
    "from sklearn.model_selection import LeaveOneOut\n",
    "# X_t,X_v,y_t,y_v = train_test_split(X,y)\n",
    "\n",
    "# dtc = DecisionTreeClassifier()\n",
    "dtc = RandomForestClassifier(n_estimators=1000)\n",
    "# dtc = KNeighborsClassifier(n_neighbors=1)\n",
    "# dtc.fit(X_t,y_t)\n",
    "cv = StratifiedShuffleSplit(n_splits=50,test_size=0.1)\n",
    "print('fitting model...')\n",
    "# print('mean CV score:',np.mean(cross_val_score(dtc,X,y,cv=LeaveOneOut())))\n",
    "print('mean CV score:',np.mean(cross_val_score(dtc,X,y,cv=cv)))"
   ]
  },
  {
   "cell_type": "markdown",
   "metadata": {},
   "source": [
    "# can we predict the best score achievable on a dataset from dataset properties?"
   ]
  },
  {
   "cell_type": "code",
   "execution_count": 14,
   "metadata": {
    "collapsed": false
   },
   "outputs": [
    {
     "name": "stderr",
     "output_type": "stream",
     "text": [
      "100%|██████████| 166/166 [00:00<00:00, 366.18it/s]\n",
      "/home/bill/anaconda3/lib/python3.5/site-packages/pandas/core/frame.py:2842: SettingWithCopyWarning: \n",
      "A value is trying to be set on a copy of a slice from a DataFrame\n",
      "\n",
      "See the caveats in the documentation: http://pandas.pydata.org/pandas-docs/stable/indexing.html#indexing-view-versus-copy\n",
      "  downcast=downcast, **kwargs)\n",
      "/home/bill/anaconda3/lib/python3.5/site-packages/sklearn/linear_model/least_angle.py:334: ConvergenceWarning: Early stopping the lars path, as the residues are small and the current value of alpha is no longer well controlled. 38 iterations, alpha=3.126e-04, previous alpha=4.224e-05, with an active set of 23 regressors.\n",
      "  ConvergenceWarning)\n",
      "/home/bill/anaconda3/lib/python3.5/site-packages/sklearn/linear_model/least_angle.py:334: ConvergenceWarning: Early stopping the lars path, as the residues are small and the current value of alpha is no longer well controlled. 40 iterations, alpha=8.702e-05, previous alpha=4.364e-05, with an active set of 21 regressors.\n",
      "  ConvergenceWarning)\n",
      "/home/bill/anaconda3/lib/python3.5/site-packages/sklearn/linear_model/least_angle.py:334: ConvergenceWarning: Early stopping the lars path, as the residues are small and the current value of alpha is no longer well controlled. 45 iterations, alpha=8.415e-04, previous alpha=2.058e-05, with an active set of 28 regressors.\n",
      "  ConvergenceWarning)\n",
      "/home/bill/anaconda3/lib/python3.5/site-packages/sklearn/linear_model/least_angle.py:334: ConvergenceWarning: Early stopping the lars path, as the residues are small and the current value of alpha is no longer well controlled. 37 iterations, alpha=1.792e-04, previous alpha=5.883e-05, with an active set of 24 regressors.\n",
      "  ConvergenceWarning)\n",
      "/home/bill/anaconda3/lib/python3.5/site-packages/sklearn/linear_model/least_angle.py:334: ConvergenceWarning: Early stopping the lars path, as the residues are small and the current value of alpha is no longer well controlled. 44 iterations, alpha=8.357e-04, previous alpha=2.484e-05, with an active set of 29 regressors.\n",
      "  ConvergenceWarning)\n",
      "/home/bill/anaconda3/lib/python3.5/site-packages/sklearn/linear_model/least_angle.py:334: ConvergenceWarning: Early stopping the lars path, as the residues are small and the current value of alpha is no longer well controlled. 42 iterations, alpha=3.816e-05, previous alpha=3.540e-05, with an active set of 27 regressors.\n",
      "  ConvergenceWarning)\n",
      "/home/bill/anaconda3/lib/python3.5/site-packages/sklearn/linear_model/least_angle.py:334: ConvergenceWarning: Early stopping the lars path, as the residues are small and the current value of alpha is no longer well controlled. 42 iterations, alpha=1.294e-04, previous alpha=2.623e-05, with an active set of 21 regressors.\n",
      "  ConvergenceWarning)\n",
      "/home/bill/anaconda3/lib/python3.5/site-packages/sklearn/linear_model/least_angle.py:334: ConvergenceWarning: Early stopping the lars path, as the residues are small and the current value of alpha is no longer well controlled. 41 iterations, alpha=1.121e-04, previous alpha=6.574e-06, with an active set of 26 regressors.\n",
      "  ConvergenceWarning)\n"
     ]
    },
    {
     "name": "stdout",
     "output_type": "stream",
     "text": [
      "metafeatures[dataset].shape: (166,)\n",
      "9  features dropped due to missing values\n",
      "X shape: (166, 35)\n",
      "y shape: (166,)\n",
      "fitting model...\n",
      "mean CV score: -0.194007105864\n"
     ]
    },
    {
     "name": "stderr",
     "output_type": "stream",
     "text": [
      "/home/bill/anaconda3/lib/python3.5/site-packages/sklearn/linear_model/least_angle.py:334: ConvergenceWarning: Early stopping the lars path, as the residues are small and the current value of alpha is no longer well controlled. 46 iterations, alpha=6.347e-04, previous alpha=2.807e-05, with an active set of 31 regressors.\n",
      "  ConvergenceWarning)\n",
      "/home/bill/anaconda3/lib/python3.5/site-packages/sklearn/linear_model/least_angle.py:334: ConvergenceWarning: Early stopping the lars path, as the residues are small and the current value of alpha is no longer well controlled. 42 iterations, alpha=2.737e-04, previous alpha=4.824e-06, with an active set of 25 regressors.\n",
      "  ConvergenceWarning)\n",
      "/home/bill/anaconda3/lib/python3.5/site-packages/sklearn/linear_model/least_angle.py:334: ConvergenceWarning: Early stopping the lars path, as the residues are small and the current value of alpha is no longer well controlled. 48 iterations, alpha=6.191e-05, previous alpha=1.402e-05, with an active set of 23 regressors.\n",
      "  ConvergenceWarning)\n",
      "/home/bill/anaconda3/lib/python3.5/site-packages/sklearn/linear_model/least_angle.py:334: ConvergenceWarning: Early stopping the lars path, as the residues are small and the current value of alpha is no longer well controlled. 46 iterations, alpha=6.347e-04, previous alpha=2.807e-05, with an active set of 31 regressors.\n",
      "  ConvergenceWarning)\n"
     ]
    }
   ],
   "source": [
    "# get best classifier for each dataset\n",
    "from tqdm import tqdm \n",
    "best_score = dict()\n",
    "\n",
    "\n",
    "# print(best_method)\n",
    "\n",
    "# make new dataset combining metafeatures and best methods\n",
    "y = np.empty(metafeatures.shape[0])\n",
    "for i,(dataset, group_data) in enumerate(tqdm(data.groupby('dataset'))):\n",
    "   y[i] = group_data['bal_accuracy'].max()\n",
    "\n",
    "print('metafeatures[''dataset''].shape:',metafeatures['dataset'].shape)\n",
    "\n",
    "\n",
    "metaf = metafeatures.dropna(axis=1,how='all')\n",
    "metaf.fillna(value=0,axis=1,inplace=True)\n",
    "\n",
    "print(metafeatures.shape[1]-metaf.shape[1],' features dropped due to missing values')\n",
    "# print(metaf[:10])\n",
    "\n",
    "from sklearn.preprocessing import StandardScaler\n",
    "\n",
    "X = StandardScaler().fit_transform(metaf.drop('dataset',axis=1).values)\n",
    "print('X shape:',X.shape)\n",
    "print('y shape:',y.shape)\n",
    "\n",
    "from sklearn.tree import DecisionTreeRegressor\n",
    "from sklearn.ensemble import RandomForestRegressor\n",
    "from sklearn.linear_model import LassoLarsCV\n",
    "from sklearn.model_selection import cross_val_score\n",
    "\n",
    "# X_t,X_v,y_t,y_v = train_test_split(X,y)\n",
    "\n",
    "# est = DecisionTreeClassifier()\n",
    "est = RandomForestRegressor(n_estimators=100)\n",
    "# est = LassoLarsCV()\n",
    "# dtc.fit(X_t,y_t)\n",
    "print('fitting model...')\n",
    "print('mean CV score:',np.mean(cross_val_score(est,X,y,cv=5)))"
   ]
  }
 ],
 "metadata": {
  "anaconda-cloud": {},
  "kernelspec": {
   "display_name": "Python [Root]",
   "language": "python",
   "name": "Python [Root]"
  },
  "language_info": {
   "codemirror_mode": {
    "name": "ipython",
    "version": 3
   },
   "file_extension": ".py",
   "mimetype": "text/x-python",
   "name": "python",
   "nbconvert_exporter": "python",
   "pygments_lexer": "ipython3",
   "version": "3.5.2"
  }
 },
 "nbformat": 4,
 "nbformat_minor": 0
}
